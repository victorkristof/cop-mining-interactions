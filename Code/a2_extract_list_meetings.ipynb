{
 "cells": [
  {
   "cell_type": "markdown",
   "metadata": {},
   "source": [
    "# a2_extract_list_meetings\n",
    "Combine all the lists of the different meetin into one list and the create  list_meetings.csv file with it"
   ]
  },
  {
   "cell_type": "code",
   "execution_count": 1,
   "metadata": {},
   "outputs": [
    {
     "output_type": "stream",
     "name": "stdout",
     "text": "importing Jupyter notebook from a1_compute_list_meeting.ipynb\n"
    }
   ],
   "source": [
    "import urllib.request\n",
    "import re\n",
    "from bs4 import BeautifulSoup\n",
    "from dateutil.parser import parse\n",
    "import csv\n",
    "import import_ipynb\n",
    "import a1_compute_list_meeting as clm"
   ]
  },
  {
   "cell_type": "code",
   "execution_count": 2,
   "metadata": {},
   "outputs": [],
   "source": [
    "def combine_information_meetings(soup, meeting_type, extract_type):\n",
    "    \"\"\"Combine information for each issue of each meeting \"\"\"\n",
    "    list_meetings = extract_type(soup)\n",
    "    list_meetings_information = clm.extract_details_meetings(soup,meeting_type)\n",
    "    total = []\n",
    "\n",
    "    for i in range(len(list_meetings)):\n",
    "\n",
    "        (number,date,place) = list_meetings[i]\n",
    "        list_meeting = list_meetings_information[i]\n",
    "        \n",
    "        for x in list_meeting:\n",
    "            total.append((meeting_type,number,date,place,x[0],x[1],x[2],x[3]))\n",
    "    return total"
   ]
  },
  {
   "cell_type": "markdown",
   "metadata": {},
   "source": []
  },
  {
   "cell_type": "code",
   "execution_count": 3,
   "metadata": {},
   "outputs": [],
   "source": [
    "def computes_all_list_meetings():\n",
    "    \"\"\" Compute all combine all the lists of all the meetings with their issues. \"\"\"\n",
    "    list_sb = combine_information_meetings(soup,'SB',clm.extract_list_sbs)\n",
    "    list_adp = combine_information_meetings(soup,'ADP',clm.extract_list_adps)\n",
    "    list_agbm = combine_information_meetings(soup,'AGBM',clm.extract_list_agbms)\n",
    "    list_ipcc = combine_information_meetings(soup,'IPCC',clm.extract_list_ipccs)\n",
    "    list_awg = combine_information_meetings(soup,'AWGs CCWG',clm.extract_list_awgs_t1)\n",
    "    list_awg += combine_information_meetings(soup,'AWGs RCCWG',clm.extract_list_awgs_t2)\n",
    "    list_awg += combine_information_meetings(soup,'AWGLCA',clm.extract_list_awgs_t3)\n",
    "    list_awg += combine_information_meetings(soup,'AWG',clm.extract_list_awgs_t4)\n",
    "    list_tech_work = combine_information_meetings(soup,'Tech-Work',clm.extract_list_tech_work)\n",
    "    list_lulucf = combine_information_meetings(soup,'LULUCF',clm.extract_list_lulucf)\n",
    "    list_soge = combine_information_meetings(soup,'SOGE',clm.extract_list_soge)\n",
    "    list_inc = combine_information_meetings(soup,'INC',clm.extract_list_incs)\n",
    "    list_cop = combine_information_meetings(soup,'COP',clm.extract_list_cops)\n",
    "    list_unfccc_ws = combine_information_meetings(soup,'UNFCCC WS',clm.extract_list_unfcccs_ws)\n",
    "    list_unfccc_tt = combine_information_meetings(soup,'UNFCCC TT',clm.extract_list_unfcccs_tt)\n",
    "    list_unfccc_bppm = combine_information_meetings(soup,'UNFCCC BPPM',clm.extract_list_unfcccs_bppm)\n",
    "    list_unfccc_syn = combine_information_meetings(soup,'UNFCCC SYN-COOP',clm.extract_list_unfcccs_syn)\n",
    "    list_unfccc = list_unfccc_bppm+ list_unfccc_syn+ list_unfccc_tt+ list_unfccc_ws\n",
    "    list_ccom = combine_information_meetings(soup,'CCOM',clm.extract_list_ccom)\n",
    "    list_inter = combine_information_meetings(soup,'INTER-REGIONAL WS',clm.extract_list_inter)\n",
    "    list_cge = combine_information_meetings(soup,'CGE WS',clm.extract_list_cge_ws)\n",
    "    list_tech_ws = combine_information_meetings(soup,'TECH WS',clm.extract_list_tech_ws)\n",
    "    \n",
    "    list_m = list_unfccc+ list_inc+ list_cop+ list_sb+ list_adp+ list_agbm+ list_ipcc+ list_awg+ list_soge+ list_lulucf+ list_tech_work+ list_ccom+ list_inter+ list_cge+ list_tech_ws\n",
    "\n",
    "    list_m.sort(key=lambda a: a[4], reverse=False)\n",
    "    return list_m"
   ]
  },
  {
   "cell_type": "code",
   "execution_count": 4,
   "metadata": {},
   "outputs": [],
   "source": [
    "def write_list_meetings(list_meetings):\n",
    "    \"\"\" Generate list_meetings.csv file.\"\"\"\n",
    "    with open('list_meetings.csv', 'w', newline='') as file:\n",
    "        writer = csv.writer(file)\n",
    "        #header\n",
    "        writer.writerow(('meeting_type','reference','date','location','issue_number','issue_date','html_link','issue_type'))\n",
    "        #list\n",
    "        writer.writerows(list_meetings)"
   ]
  },
  {
   "cell_type": "code",
   "execution_count": 5,
   "metadata": {},
   "outputs": [],
   "source": [
    "def issue_extracted(list_meetings):\n",
    "    number = set()\n",
    "    for i in list_meetings:\n",
    "        number.add(list_meetings[4])\n",
    "    return list(number)"
   ]
  },
  {
   "cell_type": "code",
   "execution_count": 6,
   "metadata": {},
   "outputs": [],
   "source": [
    "def issues_list(list_meetings):\n",
    "    num_issues = [i[4] for i in list_meetings]\n",
    "    return num_issues"
   ]
  },
  {
   "cell_type": "code",
   "execution_count": 7,
   "metadata": {
    "tags": [
     "outputPrepend"
    ]
   },
   "outputs": [],
   "source": [
    "# Download the specific page to be able to extract information from it \n",
    "from urllib.request import urlopen, Request\n",
    "from bs4 import BeautifulSoup\n",
    "\n",
    "r = Request('https://enb.iisd.org/enb/vol12/', headers={'User-Agent': 'Mozilla/5.0'})\n",
    "page = urlopen(r).read()\n",
    "soup = BeautifulSoup(page)\n",
    "list_meetings = computes_all_list_meetings()\n",
    "\n",
    "write_list_meetings(list_meetings)"
   ]
  },
  {
   "cell_type": "code",
   "execution_count": null,
   "metadata": {},
   "outputs": [],
   "source": []
  }
 ],
 "metadata": {
  "file_extension": ".py",
  "kernelspec": {
   "display_name": "Python 3.7.6 64-bit",
   "language": "python",
   "name": "python37664bit162d60da764a43dc83edcb73a443ab01"
  },
  "language_info": {
   "codemirror_mode": {
    "name": "ipython",
    "version": 3
   },
   "file_extension": ".py",
   "mimetype": "text/x-python",
   "name": "python",
   "nbconvert_exporter": "python",
   "pygments_lexer": "ipython3",
   "version": "3.7.4-final"
  },
  "mimetype": "text/x-python",
  "name": "python",
  "npconvert_exporter": "python",
  "pygments_lexer": "ipython3",
  "version": 3
 },
 "nbformat": 4,
 "nbformat_minor": 2
}