{
 "nbformat": 4,
 "nbformat_minor": 2,
 "metadata": {
  "language_info": {
   "name": "python",
   "codemirror_mode": {
    "name": "ipython",
    "version": 3
   },
   "version": "3.7.3-final"
  },
  "orig_nbformat": 2,
  "file_extension": ".py",
  "mimetype": "text/x-python",
  "name": "python",
  "npconvert_exporter": "python",
  "pygments_lexer": "ipython3",
  "version": 3,
  "kernelspec": {
   "name": "python37664bit9d5a6365487849299c5de4ddf449b4f4",
   "display_name": "Python 3.7.6 64-bit"
  }
 },
 "cells": [
  {
   "cell_type": "code",
   "execution_count": 1,
   "metadata": {},
   "outputs": [],
   "source": [
    "import urllib.request\n",
    "import re\n",
    "from bs4 import BeautifulSoup\n",
    "from dateutil.parser import parse\n",
    "import csv\n",
    "import pandas as pd\n",
    "import requests"
   ]
  },
  {
   "cell_type": "code",
   "execution_count": 2,
   "metadata": {},
   "outputs": [],
   "source": [
    "#---------------------------------------------------------- TO BE REMOVED ----------------------------------------------------------\n",
    "#Create a set of all the countries\n",
    "def extract_set_countries():\n",
    "\n",
    "    url = 'https://www.britannica.com/topic/list-of-countries-1993160'\n",
    "    page = urllib.request.urlopen(url).read()\n",
    "    soup = BeautifulSoup(page)\n",
    "    \n",
    "    countries = []\n",
    "    for link in soup.findAll('a',href=re.compile(\"https://www.britannica.com/place/\")):\n",
    "        c = re.sub(\"https://www.britannica.com/place/\", '',link.get('href'))\n",
    "        countries.append(c)\n",
    "    \n",
    "    return countries\n",
    "\n",
    "parties = ['African Group','Arab States','Environmental Integrity Group',\n",
    "            'European Union','Least Developed Countries','Small Island Developing States','Umbrella Group','G-77/China']\n",
    "# Clean <p> tags with tab and special characters.\n",
    "def clean_tp(sentence_tp):\n",
    "    s = sentence_tp\n",
    "    s = re.sub(\"\\r\\n\\s+\",\" \",s)\n",
    "    s = re.sub(\"\\r\\n\",\" \",s)\n",
    "    s = re.sub(\"<b>\",\" \",s)\n",
    "    s = re.sub(\"</b>\",\" \",s)\n",
    "    s = re.sub(\"\\n\",\" \",s)\n",
    "    s = re.sub(\"\\s\\s+\",\" \",s)\n",
    "    return s\n",
    "\n",
    "def extract_from_txt_sentences(txt_file):\n",
    "    list_tp = open(txt_file)\n",
    "    return list_tp"
   ]
  },
  {
   "cell_type": "code",
   "execution_count": 3,
   "metadata": {},
   "outputs": [],
   "source": [
    "# Check if a specific word p1 in parenthesis equals to s \n",
    "def in_parenthesis(p1,s):\n",
    "    p1 = '('+p1+')'\n",
    "    if(p1 ==s or p1.upper() ==s  or p1.lower() == s):\n",
    "        return 1 \n",
    "    else:\n",
    "        return 0"
   ]
  },
  {
   "cell_type": "code",
   "execution_count": 4,
   "metadata": {},
   "outputs": [],
   "source": [
    "# Extract all the sentence with at least one country inside\n",
    "def extract_sentences_with_one_country(list_tp_cleaned):\n",
    "    sentences_countries = []\n",
    "    countries = extract_set_countries()\n",
    "    for line in list_tp_cleaned:\n",
    "        line_slited = re.split(r';|,|\\s|\\\"(.*)\\\"', line)\n",
    "\n",
    "        for p1 in countries:\n",
    "            for s in line_slited:\n",
    "                if(s!=None and (p1 == s or p1.upper() == s or p1.lower() == s or in_parenthesis(p1,s))):\n",
    "                    if(line not in sentences_countries):\n",
    "                        sentences_countries.append(line)\n",
    "                        break\n",
    "\n",
    "    return sentences_countries "
   ]
  },
  {
   "cell_type": "code",
   "execution_count": 15,
   "metadata": {},
   "outputs": [],
   "source": [
    "# Extract all the sentence with at least one party inside\n",
    "def extract_sentences_with_one_party(list_tp_cleaned,parties):\n",
    "    sentences_parties = []\n",
    "    for line in list_tp_cleaned:\n",
    "        line_slited = re.split(r';|,|\\s|\\\"(.*)\\\"', line)\n",
    "\n",
    "        for p1 in parties:\n",
    "            for s in line_slited:\n",
    "                if(s!=None and (p1 == s or p1.upper() == s or p1.lower() == s or in_parenthesis(p1,s))):\n",
    "                    if(line not in sentences_parties):\n",
    "                        sentences_parties.append(line)\n",
    "                        break\n",
    "\n",
    "    return sentences_parties "
   ]
  },
  {
   "cell_type": "code",
   "execution_count": 16,
   "metadata": {},
   "outputs": [],
   "source": [
    "# Extract all the sentence with at least two country inside\n",
    "def extract_sentences_with_two_countries(list_tp_cleaned):\n",
    "    sentences_countries = []\n",
    "    countries = extract_set_countries()\n",
    "    for line in list_tp_cleaned:\n",
    "        line_splited = re.split(r';|,|\\s|\\\"(.*)\\\"', line)\n",
    "        for p1 in countries:\n",
    "            for s1 in line_splited:\n",
    "                if(s1!=None and (p1 == s1 or p1.upper() == s1 or p1.lower() == s1 or in_parenthesis(p1,s1))):\n",
    "                    for p2 in countries:\n",
    "                        for s2 in line_splited :\n",
    "                            if(p1!=p1 and s1!=s2 and s2!= None and (p2 == s2 or p2.upper() == s2 or p2.lower() == s2 or in_parenthesis(p2,s2))):\n",
    "                                if(line not in sentences_countries):\n",
    "                                    sentences_countries.append(line)\n",
    "                                    break\n",
    "                            break\n",
    "            break\n",
    "            \n",
    "\n",
    "\n",
    "    return sentences_countries "
   ]
  },
  {
   "cell_type": "code",
   "execution_count": 17,
   "metadata": {},
   "outputs": [],
   "source": [
    "# Extract all the sentence with all countries and parties in uppercase\n",
    "def extract_sentences_with_all_upper(list_tp_cleaned,parties):\n",
    "    sentences_countries = []\n",
    "    list_u = extract_set_countries() +parties\n",
    "    for line in list_tp_cleaned:\n",
    "        line_splited = re.split(r';|,|\\s|\\\"(.*)\\\"', line)\n",
    "        for p1 in list_u:\n",
    "            for s in line_splited:\n",
    "                if(s!=None and (p1.upper() == s)):\n",
    "                        if(line not in sentences_countries):\n",
    "                            print(line)\n",
    "                            sentences_countries.append(line)\n",
    "                            break\n",
    "    return sentences_countries "
   ]
  },
  {
   "cell_type": "code",
   "execution_count": 18,
   "metadata": {},
   "outputs": [],
   "source": [
    "# Extract all the sentence with at least one word who starts with uppercase\n",
    "def  extract_sentences_with_start_upper(list_tp_cleaned):\n",
    "    sentences = []\n",
    "    parties = ['African Group','Arab States','Environmental Integrity Group',\n",
    "            'European Union','Least Developed Countries','Small Island Developing States','Umbrella Group','G-77/China']\n",
    "    countries = extract_set_countries() + parties\n",
    "    for line in list_tp_cleaned:\n",
    "        if('/([A-Z])\\w+/g' in line):\n",
    "            if(line not in sentences):\n",
    "                sentences.append(line)\n",
    "\n",
    "    return sentences"
   ]
  },
  {
   "cell_type": "code",
   "execution_count": 19,
   "metadata": {},
   "outputs": [],
   "source": [
    "\n",
    "list_tp_cleaned = extract_from_txt_sentences('list_p_tags_cleaned.txt')\n",
    "parties = ['African Group','Arab States','Environmental Integrity Group',\n",
    "            'European Union','Least Developed Countries','Small Island Developing States','Umbrella Group','G-77/China']\n",
    "\n",
    "#list_one_country = extract_sentences_with_one_country(list_tp_cleaned)\n",
    "#list_two_countries = extract_sentences_with_two_countries(list_tp_cleaned)\n",
    "#list_all_upper = extract_sentences_with_all_upper(list_tp_cleaned,parties)\n",
    "#list_start_upper = extract_sentences_with_start_upper(list_tp_cleaned)\n",
    "#list_one_party = extract_sentences_with_one_party(list_tp_cleaned,parties)"
   ]
  },
  {
   "cell_type": "code",
   "execution_count": 20,
   "metadata": {},
   "outputs": [],
   "source": [
    "# generate list_sentence_with_country.txt file\n",
    "outF = open(\"list_sentence_one_party.txt\", \"w\")\n",
    "for line in list_one_party :\n",
    "    # write line to output file\n",
    "    outF.write(line)\n",
    "    outF.write(\"\\n\")\n",
    "outF.close()"
   ]
  },
  {
   "cell_type": "code",
   "execution_count": null,
   "metadata": {},
   "outputs": [],
   "source": []
  }
 ]
}