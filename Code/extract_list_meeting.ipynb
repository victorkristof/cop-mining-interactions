{
 "cells": [
  {
   "cell_type": "code",
   "execution_count": 1,
   "metadata": {},
   "outputs": [],
   "source": [
    "#Import Libraries\n",
    "import urllib.request\n",
    "import re\n",
    "from bs4 import BeautifulSoup\n",
    "from dateutil.parser import parse\n",
    "import csv"
   ]
  },
  {
   "cell_type": "code",
   "execution_count": 2,
   "metadata": {},
   "outputs": [],
   "source": [
    "# Download the specific page to be able to extract information from it \n",
    "\n",
    "page = urllib.request.urlopen('https://enb.iisd.org/enb/vol12/').read()\n",
    "soup = BeautifulSoup(page)\n"
   ]
  },
  {
   "cell_type": "code",
   "execution_count": 15,
   "metadata": {},
   "outputs": [],
   "source": [
    "#Combine all the issues fron a specific meeting\n",
    "def combine_information_meetings(soup,meeting_type,extract_type):\n",
    "    list_meetings = extract_type(soup)\n",
    "    list_meetings_information = extract_details_meetings(soup,meeting_type)\n",
    "    total = []\n",
    "    for i in range(len(list_meetings)):\n",
    "        (number,date,place) = list_meetings[i]\n",
    "        list_meeting = list_meetings_information[i]\n",
    "        \n",
    "        for x in list_meeting:\n",
    "            total.append((meeting_type,number,date,place,x[0],x[1],x[2],x[3]))\n",
    "    return total"
   ]
  },
  {
   "cell_type": "code",
   "execution_count": 16,
   "metadata": {},
   "outputs": [],
   "source": [
    "#Compute all combine all the lists of all the meetings with their issues\n",
    "list_inc = combine_information_meetings(soup,'INC',extract_list_incs)\n",
    "list_cop = combine_information_meetings(soup,'COP',extract_list_cops)\n",
    "list_unfccc = combine_information_meetings(soup,'UNFCCC WS',extract_list_unfcccs)\n",
    "list_sb = combine_information_meetings(soup,'SB',extract_list_sbs)\n",
    "list_adp = combine_information_meetings(soup,'ADP',extract_list_adps)\n",
    "list_agbm = combine_information_meetings(soup,'AGBM',extract_list_agbms)\n",
    "list_ipcc = combine_information_meetings(soup,'IPCC',extract_list_ipccs)\n",
    "\n",
    "list =list_inc + list_cop + list_unfccc+ list_sb+ list_adp+ list_agbm+ list_ipcc\n",
    "\n",
    "list.sort(key=lambda a: a[4], reverse=False)\n"
   ]
  },
  {
   "cell_type": "code",
   "execution_count": 17,
   "metadata": {},
   "outputs": [],
   "source": [
    "# generate list_meetings.csv file\n",
    "with open('list_meetings.csv', 'w', newline='') as file:\n",
    "    writer = csv.writer(file)\n",
    "    #header\n",
    "    writer.writerow(('meeting_type','reference','date','location','issue_number','issue_date','html_link','issue_type'))\n",
    "    #list\n",
    "    writer.writerows(list)"
   ]
  },
  {
   "cell_type": "code",
   "execution_count": null,
   "metadata": {},
   "outputs": [],
   "source": []
  }
 ],
 "metadata": {
  "file_extension": ".py",
  "kernelspec": {
   "display_name": "Python 3.7.6 64-bit",
   "language": "python",
   "name": "python37664bit9d5a6365487849299c5de4ddf449b4f4"
  },
  "language_info": {
   "codemirror_mode": {
    "name": "ipython",
    "version": 3
   },
   "file_extension": ".py",
   "mimetype": "text/x-python",
   "name": "python",
   "nbconvert_exporter": "python",
   "pygments_lexer": "ipython3",
   "version": "3.7.3-final"
  },
  "mimetype": "text/x-python",
  "name": "python",
  "npconvert_exporter": "python",
  "pygments_lexer": "ipython3",
  "version": 3
 },
 "nbformat": 4,
 "nbformat_minor": 2
}