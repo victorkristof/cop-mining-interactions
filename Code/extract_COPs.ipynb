{
 "cells": [
  {
   "cell_type": "code",
   "execution_count": 304,
   "metadata": {},
   "outputs": [],
   "source": [
    "## import libraries and the HTML content\n",
    "import urllib.request\n",
    "from bs4 import BeautifulSoup\n",
    "\n",
    "page = urllib.request.urlopen('https://enb.iisd.org/enb/vol12/').read()\n",
    "soup = BeautifulSoup(page)"
   ]
  },
  {
   "cell_type": "code",
   "execution_count": 305,
   "metadata": {},
   "outputs": [],
   "source": [
    "#extract number inside a string\n",
    "def extract_number(sname):\n",
    "    for i in sname.split():\n",
    "        \n",
    "        if i.isdigit():\n",
    "            return int(i) "
   ]
  },
  {
   "cell_type": "code",
   "execution_count": 315,
   "metadata": {},
   "outputs": [],
   "source": [
    "def compute_list(list_string):\n",
    "    list_cop = []\n",
    "\n",
    "    for s in list_string:\n",
    "        l = s.split('|')\n",
    "      \n",
    "        list_cop.append((extract_number(l[0]),l[1],l[2]))\n",
    "        \n",
    "    list_cop.sort(key=lambda a: a[0], reverse=False)\n",
    "    #print(list_cop)\n",
    "    return list_cop\n",
    "    "
   ]
  },
  {
   "cell_type": "code",
   "execution_count": 316,
   "metadata": {},
   "outputs": [],
   "source": [
    "def extract_COPs(soup):\n",
    "    ## find all the different COPs (not named the same way)\n",
    "    #Case 1 :\"COP\"+\"\\s\"+\"\\d\"+\"\\s\"+\".\"+\"\\s\" \n",
    "        #COP 1-9\n",
    "    list = soup.find_all(string=re.compile(\"COP\"+\"\\s\"+\"\\d\"+\"\\s\"+\".\"+\"\\s\"))\n",
    "\n",
    "    #Case 2 : \"COP\"+\"\\s\"+\"[1-2][0-9]\"+\"\\s\"+\".\"+\"\\s\"+\"\\d\"\n",
    "        #COP 10,23,24,25\n",
    "    list += soup.find_all(string=re.compile(\"COP\"+\"\\s\"+\"[1-2][0-9]\"+\"\\s\"+\".\"+\"\\s\"+\"\\d\"))\n",
    "    \n",
    "    #Case 3 :\"COP\"+\"\\s\"+\"[1-2][0-9]\"+\"\\s\"+\".\"+\"\\s\"+\"CMP\"+\"\\s\"+\"\\d\"+\".\"+\".\"\n",
    "        #COP 11,12,13,14,15,16,21,22\n",
    "    list_2 = soup.find_all(string=re.compile(\"COP\"+\"\\s\"+\"[1-2][0-9]\"+\"\\s\"+\".\"+\"\\s\"+\"CMP\"+\"\\s\"+\"\\d\"+\".\"+\".\"))\n",
    "\n",
    "    # Case 4 : \"COP\"+\"\\s\"+\"[1-2][0-9]\"+\"\\s\"+\".\"+\"\\s\"+\"CMP\"+\"\\d\"+\"\\s\"\n",
    "        #COP 17,18,19\n",
    "    list_3 = soup.find_all(string=re.compile(\"COP\"+\"\\s\"+\"[1-2][0-9]\"+\"\\s\"+\".\"+\"\\s\"+\"CMP\"+\"\\d\"+\"\\s\"))\n",
    "    \n",
    "    ## Clean the lists to have all the same structure\n",
    "    # Clean list_2\n",
    "    for i in range(len(list_2)) :\n",
    "        list_2[i] =  re.sub(\"- CMP\"+\"\\s\"+\".\"+\".\", '', list_2[i])\n",
    "\n",
    "\n",
    "    # Clean list_3\n",
    "    for i in range(len(list_3)) :\n",
    "        list_3[i] =  re.sub(\"- CMP\"+\".\", '', list_3[i])\n",
    "    \n",
    "    #combine all the lists\n",
    "    list += list_2\n",
    "    list += list_3\n",
    "    \n",
    "    return compute_list(list)\n"
   ]
  },
  {
   "cell_type": "code",
   "execution_count": 317,
   "metadata": {},
   "outputs": [
    {
     "name": "stdout",
     "output_type": "stream",
     "text": [
      "[(1, ' 28 March - 7 April 1995 ', ' Berlin, Germany'), (2, ' 8-19 July 1996 ', ' Geneva, Switzerland'), (3, ' 1-11 December 1997 ', ' Kyoto, Japan'), (4, ' 2-13 November 1998 ', ' Buenos Aires, Argentina'), (5, ' 25 October - 8 November 1999 ', ' Bonn, Germany'), (6, ' 13-27 November 2000 ', ' The Hague, The Netherlands'), (7, ' 29 October - 12 November 2001 ', ' Marrakech, Morocco'), (8, ' 23 October - 4 November 2002 ', ' New Delhi, India'), (9, ' 1-15 December 2003 ', ' Milan, Italy'), (10, ' 6-18 December 2004 ', ' Buenos Aires, Argentina'), (11, ' 28 November - 9 December 2005 ', ' Montréal, Canada'), (12, ' 6-17 November 2006 ', ' Nairobi, Kenya'), (13, ' 3-15 December 2007 ', ' Bali, Indonesia'), (14, ' 1-12 December 2008 ', ' Poznań, Poland'), (15, ' 7-19 December 2009 ', ' Copenhagen, Denmark'), (16, ' 29 November - 11 December 2010 ', ' Cancún, Mexico'), (17, ' 28 November - 9 December 2011 ', ' Durban, South Africa'), (18, ' 26 November - 8 December 2012 ', ' Doha, Qatar'), (19, ' 11-23 November 2013 ', ' Warsaw, Poland'), (21, ' 29 November - 13 December 2015 ', ' Paris, France'), (22, ' 7-18 November 2016 ', ' Marrakech, Morocco'), (23, ' 6-17 November 2017 ', ' Bonn, Germany'), (24, ' 2-15 December 2018 ', ' Katowice, Poland'), (25, ' 2-15 December 2019 ', ' Madrid, Spain')]\n"
     ]
    }
   ],
   "source": [
    "print(extract_COPs(soup))\n",
    "\n"
   ]
  },
  {
   "cell_type": "code",
   "execution_count": null,
   "metadata": {},
   "outputs": [],
   "source": []
  },
  {
   "cell_type": "code",
   "execution_count": null,
   "metadata": {},
   "outputs": [],
   "source": []
  },
  {
   "cell_type": "code",
   "execution_count": null,
   "metadata": {},
   "outputs": [],
   "source": []
  }
 ],
 "metadata": {
  "kernelspec": {
   "display_name": "Python 3",
   "language": "python",
   "name": "python3"
  },
  "language_info": {
   "codemirror_mode": {
    "name": "ipython",
    "version": 3
   },
   "file_extension": ".py",
   "mimetype": "text/x-python",
   "name": "python",
   "nbconvert_exporter": "python",
   "pygments_lexer": "ipython3",
   "version": "3.7.4"
  }
 },
 "nbformat": 4,
 "nbformat_minor": 2
}
