{
 "nbformat": 4,
 "nbformat_minor": 2,
 "metadata": {
  "language_info": {
   "name": "python",
   "codemirror_mode": {
    "name": "ipython",
    "version": 3
   },
   "version": "3.7.4-final"
  },
  "orig_nbformat": 2,
  "file_extension": ".py",
  "mimetype": "text/x-python",
  "name": "python",
  "npconvert_exporter": "python",
  "pygments_lexer": "ipython3",
  "version": 3,
  "kernelspec": {
   "name": "python37464bitbaseconda12cc5b1983ce432e8ce1d0fc698bd97b",
   "display_name": "Python 3.7.4 64-bit ('base': conda)"
  }
 },
 "cells": [
  {
   "cell_type": "code",
   "execution_count": 1,
   "metadata": {},
   "outputs": [],
   "source": [
    "import urllib.request\n",
    "import re\n",
    "from bs4 import BeautifulSoup\n",
    "from dateutil.parser import parse\n",
    "import csv\n",
    "import pandas as pd\n",
    "import requests\n",
    "from nltk import sent_tokenize\n",
    "from nltk import word_tokenize\n",
    "from nltk.tag import StanfordNERTagger\n",
    "from nltk.tokenize import MWETokenizer"
   ]
  },
  {
   "cell_type": "code",
   "execution_count": 2,
   "metadata": {},
   "outputs": [],
   "source": [
    "def extract_from_txt_sentences(txt_file):\n",
    "    list_tp = open(txt_file)\n",
    "    return list_tp\n",
    "\n",
    "parties = ['African Group','Arab States','Environmental Integrity Group',\n",
    "            'European Union','Least Developed Countries','Small Island Developing States','Umbrella Group','G-77/China']"
   ]
  },
  {
   "cell_type": "code",
   "execution_count": 3,
   "metadata": {},
   "outputs": [],
   "source": [
    "#Create a set of all the countries\n",
    "def extract_tokens_countries(type_word):\n",
    "\n",
    "    url = 'https://www.britannica.com/topic/list-of-countries-1993160'\n",
    "    page = urllib.request.urlopen(url).read()\n",
    "    soup = BeautifulSoup(page)\n",
    "    \n",
    "    countries = []\n",
    "    for link in soup.findAll('a',href=re.compile(\"https://www.britannica.com/place/\")):\n",
    "        c = re.sub(\"https://www.britannica.com/place/\", '',link.get('href'))\n",
    "\n",
    "        if(type_word == 'normal'):\n",
    "            list_c = (str(c)).split('-')\n",
    "        if(type_word == 'upper'):\n",
    "            list_c = (str(c).upper()).split('-')\n",
    "        if(type_word == 'lower'):\n",
    "            list_c = (str(c).lower()).split('-')\n",
    "\n",
    "        countries.append(list_c)\n",
    "    \n",
    "    return countries"
   ]
  },
  {
   "cell_type": "code",
   "execution_count": 4,
   "metadata": {},
   "outputs": [],
   "source": [
    "def extract_list_countries(type_word):\n",
    "\n",
    "    url = 'https://www.britannica.com/topic/list-of-countries-1993160'\n",
    "    page = urllib.request.urlopen(url).read()\n",
    "    soup = BeautifulSoup(page)\n",
    "    \n",
    "    countries = []\n",
    "    for link in soup.findAll('a',href=re.compile(\"https://www.britannica.com/place/\")):\n",
    "        c = re.sub(\"https://www.britannica.com/place/\", '',link.get('href'))\n",
    "        \n",
    "        if(type_word == 'normal'):\n",
    "            list_c = (str(c)).split('-')\n",
    "            x = \" \"        \n",
    "            country = x.join(list_c)\n",
    "        if(type_word == 'upper'):\n",
    "            list_c = (str(c).upper()).split('-')\n",
    "            x = \" \"        \n",
    "            country = x.join(list_c)\n",
    "        if(type_word == 'lower'):\n",
    "            list_c = (str(c).lower()).split('-')\n",
    "            x = \" \"        \n",
    "            country = x.join(list_c)\n",
    "\n",
    "        countries.append(country)\n",
    "    \n",
    "    return countries"
   ]
  },
  {
   "cell_type": "code",
   "execution_count": 5,
   "metadata": {},
   "outputs": [],
   "source": [
    "# Check if a specific word p1 in parenthesis equals to s \n",
    "def in_parenthesis(p1,s):\n",
    "    p1 = '('+p1+')'\n",
    "    if(p1 ==s or p1.upper() ==s  or p1.lower() == s):\n",
    "        return 1 \n",
    "    else:\n",
    "        return 0"
   ]
  },
  {
   "cell_type": "code",
   "execution_count": 6,
   "metadata": {},
   "outputs": [],
   "source": [
    "# Extract all the sentence with at least one party inside\n",
    "def extract_sentences_with_one_country(list_tp_cleaned):\n",
    "    #create tokenizer and the set who will contains all the sentences\n",
    "    tokens_countries = extract_tokens_countries('normal')+ extract_tokens_countries('upper')+ extract_tokens_countries('lower')\n",
    "    lists_countries = extract_list_countries('normal')+ extract_list_countries('upper')+ extract_list_countries('lower')\n",
    "    tokenizer = MWETokenizer(tokens_countries, separator=' ')\n",
    "    sentences_country = set()\n",
    "\n",
    "    for line in list_tp_cleaned:\n",
    "        #split sentence with tokenizer to detect a country\n",
    "        line = line.replace(\",\",\"\")\n",
    "        \n",
    "        line_splited = word_tokenize(line)\n",
    "        tokens = tokenizer.tokenize(line_splited)\n",
    "        for country in lists_countries: \n",
    "            if(country in tokens):\n",
    "                sentences_country.add(line)\n",
    "                break\n",
    "\n",
    "    return sentences_country"
   ]
  },
  {
   "cell_type": "code",
   "execution_count": 7,
   "metadata": {},
   "outputs": [],
   "source": [
    "list_sentences_cleaned  = extract_from_txt_sentences('list_p_tags_cleaned.txt')\n",
    "list_with_one_entity = extract_sentences_with_one_country(list_sentences_cleaned)"
   ]
  },
  {
   "cell_type": "code",
   "execution_count": 8,
   "metadata": {},
   "outputs": [],
   "source": [
    "# generate list_sentence_with_country.txt file\n",
    "outF = open(\"list_sentence_with_one_country.txt\", \"w\")\n",
    "for line in list_with_one_entity :\n",
    "    # write line to output file\n",
    "    outF.write(line)\n",
    "outF.close()"
   ]
  },
  {
   "cell_type": "code",
   "execution_count": 9,
   "metadata": {},
   "outputs": [
    {
     "name": "stdout",
     "output_type": "stream",
     "text": "29155\n"
    }
   ],
   "source": [
    "print(len(list_with_one_entity))"
   ]
  },
  {
   "cell_type": "code",
   "execution_count": null,
   "metadata": {},
   "outputs": [],
   "source": []
  }
 ]
}