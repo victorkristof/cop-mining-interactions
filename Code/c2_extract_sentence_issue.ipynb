{
 "nbformat": 4,
 "nbformat_minor": 2,
 "metadata": {
  "language_info": {
   "name": "python",
   "codemirror_mode": {
    "name": "ipython",
    "version": 3
   },
   "version": "3.7.4-final"
  },
  "orig_nbformat": 2,
  "file_extension": ".py",
  "mimetype": "text/x-python",
  "name": "python",
  "npconvert_exporter": "python",
  "pygments_lexer": "ipython3",
  "version": 3,
  "kernelspec": {
   "name": "python37464bitbaseconda12cc5b1983ce432e8ce1d0fc698bd97b",
   "display_name": "Python 3.7.4 64-bit ('base': conda)"
  }
 },
 "cells": [
  {
   "cell_type": "markdown",
   "metadata": {},
   "source": [
    "# c2_extract_sentences_issue\n",
    "From the file paragraphes.txt extract all the sentences inside but with only text. Remove all the special characters. \n",
    "Create a file with the clean sentences named sentences.txt"
   ]
  },
  {
   "cell_type": "code",
   "execution_count": 7,
   "metadata": {},
   "outputs": [],
   "source": [
    "import urllib.request\n",
    "import re\n",
    "from bs4 import BeautifulSoup\n",
    "from dateutil.parser import parse\n",
    "import csv\n",
    "import pandas as pd\n",
    "import requests\n",
    "import functools \n",
    "import nltk\n",
    "from nltk import sent_tokenize"
   ]
  },
  {
   "cell_type": "code",
   "execution_count": 9,
   "metadata": {},
   "outputs": [],
   "source": [
    "def extract_from_txt_sentences(text_file):\n",
    "    \"\"\" From \"text_file\" extract all the sentences and arrange them. Remove also the footer page (sponsors). \"\"\"\n",
    "    list_tp = open(text_file)\n",
    "\n",
    "    list_tp_cleaned = list(list_tp)\n",
    "    list_tp_foot = list_tp_cleaned\n",
    "    #Remove footer\n",
    "   \n",
    "    #Split into sentence from paragraph\n",
    "    splited_sentence = []\n",
    "    for s in list_tp_foot:\n",
    "        splited_sentence += sent_tokenize(s)\n",
    "    return [s for s in splited_sentence if not(s.isupper())]"
   ]
  },
  {
   "cell_type": "code",
   "execution_count": 10,
   "metadata": {},
   "outputs": [],
   "source": [
    "def write_sentences(number,list_sentences):\n",
    "    \"\"\" Write sentences+number.txt file. \"\"\"\n",
    "    outF = open(\"sentences\"+str(number)+\".txt\", \"w\")\n",
    "    for line in list_sentences:\n",
    "    # write line to output file\n",
    "        outF.write(line)\n",
    "        outF.write(\"\\n\")\n",
    "    outF.close()"
   ]
  },
  {
   "cell_type": "code",
   "execution_count": 11,
   "metadata": {},
   "outputs": [],
   "source": [
    "def sentences(number):\n",
    "    \"\"\" For a specific issue number call functions to extract the sentences.\"\"\"\n",
    "    list_sentences = extract_from_txt_sentences(\"paragraphes\"+str(number)+\".txt\")\n",
    "    write_sent(number,list_sentences)\n"
   ]
  },
  {
   "cell_type": "code",
   "execution_count": 13,
   "metadata": {},
   "outputs": [],
   "source": [
    "sentences(202)"
   ]
  },
  {
   "cell_type": "code",
   "execution_count": null,
   "metadata": {},
   "outputs": [],
   "source": []
  }
 ]
}