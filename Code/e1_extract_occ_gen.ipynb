{
 "cells": [
  {
   "cell_type": "markdown",
   "metadata": {},
   "source": [
    "# e1_extract_occ_gen\n",
    "From the file list_meetings.csv, find the number of invertions of each entity for one issue. "
   ]
  },
  {
   "cell_type": "code",
   "execution_count": 1,
   "metadata": {},
   "outputs": [
    {
     "output_type": "stream",
     "name": "stdout",
     "text": "importing Jupyter notebook from c1_extract_paragraphe_issue.ipynb\nIssue  34\nimporting Jupyter notebook from c2_extract_sentence_issue.ipynb\n"
    }
   ],
   "source": [
    "import urllib.request\n",
    "import numpy as np\n",
    "import requests\n",
    "import re\n",
    "from bs4 import BeautifulSoup\n",
    "from dateutil.parser import parse\n",
    "import csv\n",
    "from nltk import sent_tokenize\n",
    "from nltk import word_tokenize\n",
    "from nltk.tokenize import MWETokenizer\n",
    "import import_ipynb\n",
    "import c1_extract_paragraphe_issue as c1 \n",
    "import c2_extract_sentence_issue as c2 \n",
    "import csv\n"
   ]
  },
  {
   "cell_type": "code",
   "execution_count": 2,
   "metadata": {},
   "outputs": [],
   "source": [
    "def write_occurrence_issue(occurences_meetings, s):\n",
    "        with open(s, \"w\", newline='') as file:\n",
    "                writer = csv.writer(file)\n",
    "        #header\n",
    "                writer.writerow(('entity','interventions'))\n",
    "                writer.writerows(occurences_meetings)"
   ]
  },
  {
   "cell_type": "code",
   "execution_count": 3,
   "metadata": {},
   "outputs": [],
   "source": [
    "def open_list_meetings():\n",
    "    \"\"\" Open the csv file that contain all the meetings. \"\"\"\n",
    "    f = open('list_meetings.csv')\n",
    "    return csv.reader(f)"
   ]
  },
  {
   "cell_type": "code",
   "execution_count": 4,
   "metadata": {},
   "outputs": [],
   "source": [
    "def extract_tuple(line):\n",
    "    \"\"\" Extract tuple for each row from Paula's dataset. \"\"\"\n",
    "    l = line.replace('\"',\"\")\n",
    "    l = l.replace('\\n',\"\")\n",
    "    l = l.split('\\t')\n",
    "    return l"
   ]
  },
  {
   "cell_type": "code",
   "execution_count": 5,
   "metadata": {},
   "outputs": [],
   "source": [
    "def clean_tp(sentence):\n",
    "    \"\"\" Clean the sentence by removing special char. \"\"\"\n",
    "    s = sentence.replace(\"\\r\\n\\s\\s+\",\" \")\n",
    "    s = s.replace(\"\\r\\n\",\" \")\n",
    "    s = s.replace(\"\\s\\s+\",\" \")\n",
    "    s = s.replace(\"\\\\.\",\" \")\n",
    "    s = s.replace(\"\\\\r\\\\n\",\" \")\n",
    "    p = re.compile(r'<.*?>')\n",
    "    return p.sub('', s)\n",
    ""
   ]
  },
  {
   "cell_type": "code",
   "execution_count": 6,
   "metadata": {},
   "outputs": [],
   "source": [
    "def count_occurences(list_sentences, dict_occ, tokenizer1, tokenizer2, tokenizer3, list_entities, number):\n",
    "    \"\"\" Count number of time each entity in list_entities is mentioned in list_sentences. \"\"\"\n",
    "\n",
    "    for s in list_sentences:\n",
    "        #Split line into words with tokenizer to detetc entity\n",
    "        line = s.replace(\",\",\"\")\n",
    "        line_splited = word_tokenize(line)\n",
    "        tokens = tokenizer1.tokenize(line_splited) \n",
    "        tokens = tokenizer2.tokenize(tokens) \n",
    "        tokens = tokenizer3.tokenize(tokens) \n",
    "        tokens = [clean_tp(token) for token in tokens]\n",
    "        tokens_c = []\n",
    "        for i in range(len(tokens)-1):\n",
    "            if(tokens[i+1] !='.'):\n",
    "                tokens_c.append(tokens[i])\n",
    "\n",
    "        for entity in list_entities:\n",
    "            #Increment value of intervention of the entity\n",
    "            if(entity in tokens_c):\n",
    "                dict_occ[entity] += tokens_c.count(entity)               \n",
    "    rows = [(number, entity, dict_occ[entity]) for entity in dict_occ]\n",
    "    return rows"
   ]
  },
  {
   "cell_type": "code",
   "execution_count": 7,
   "metadata": {},
   "outputs": [],
   "source": [
    "def extract_occurences_issue_ENB(list_sentences, number):\n",
    "    \"\"\" Extract all the occurences for each entities for a specific issue. \"\"\"\n",
    "    #List sentences\n",
    "    sentences = list_tp = list_sentences\n",
    "\n",
    "    # Extract list entities\n",
    "    list_entities = [s.replace('\\n','') for s in list(open('entities_clean.txt'))]\n",
    "    list_entities = [s.replace(',','') for s in list_entities]\n",
    "    list_entities = [s.replace(':','') for s in list_entities]\n",
    "    \n",
    "    tokens_entities = [l.split(' ') for l in list_entities]\n",
    "\n",
    "    tokenizer1 = MWETokenizer(tokens_entities, separator=' ')\n",
    "    tokenizer2 = MWETokenizer([['G-77','CHINA']], separator='/')\n",
    "    tokenizer3 = MWETokenizer([['G-77/',' CHINA']], separator=' ')\n",
    "\n",
    "    occurences_meetings = []\n",
    "\n",
    "    dict_occurences = dict.fromkeys(list_entities, 0)\n",
    "    occurences_meetings = count_occurences(sentences, dict_occurences, tokenizer1,tokenizer2,tokenizer3, list_entities, number)\n",
    "    return occurences_meetings"
   ]
  },
  {
   "cell_type": "markdown",
   "metadata": {},
   "source": [
    "issues = [609,610,611,612,613,614,615,616,617]\n",
    "G77 = ['for the Group of 77 and China', 'G77','G77/CHINA','G77-CHINA','G77 & CHINA','G-77/CHINA','G-77/ CHINA']\n",
    "for x in issues:\n",
    "    p = c1.extract_paragraphes_from_issue(x)\n",
    "    s = c2.extract_from_txt_sentences(p)\n",
    "    e = extract_occurences_issue_ENB(s, x)\n",
    "    for x in e:\n",
    "        if(x[1] in G77 or x[1] == 'CHINA'):\n",
    "            print(x)"
   ]
  },
  {
   "cell_type": "code",
   "execution_count": null,
   "metadata": {},
   "outputs": [],
   "source": []
  }
 ],
 "metadata": {
  "language_info": {
   "name": "python",
   "codemirror_mode": {
    "name": "ipython",
    "version": 3
   },
   "version": "3.7.6-final"
  },
  "orig_nbformat": 2,
  "file_extension": ".py",
  "mimetype": "text/x-python",
  "name": "python",
  "npconvert_exporter": "python",
  "pygments_lexer": "ipython3",
  "version": 3,
  "kernelspec": {
   "name": "python37664bit162d60da764a43dc83edcb73a443ab01",
   "display_name": "Python 3.7.6 64-bit"
  }
 },
 "nbformat": 4,
 "nbformat_minor": 2
}