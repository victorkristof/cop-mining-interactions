{
 "cells": [
  {
   "cell_type": "code",
   "execution_count": 1,
   "metadata": {},
   "outputs": [
    {
     "output_type": "stream",
     "name": "stdout",
     "text": "importing Jupyter notebook from h1_ENB_occ.ipynb\nimporting Jupyter notebook from c1_extract_paragraphe_issue.ipynb\nIssue  34\nimporting Jupyter notebook from c2_extract_sentence_issue.ipynb\nimporting Jupyter notebook from g1_generate_dictionary.ipynb\nimporting Jupyter notebook from h2_ENB_gen.ipynb\n[nltk_data] Downloading package punkt to\n[nltk_data]     /Users/tatianacogne/nltk_data...\n[nltk_data]   Package punkt is already up-to-date!\n[nltk_data] Downloading package averaged_perceptron_tagger to\n[nltk_data]     /Users/tatianacogne/nltk_data...\n[nltk_data]   Package averaged_perceptron_tagger is already up-to-\n[nltk_data]       date!\n"
    }
   ],
   "source": [
    "import pandas as pd\n",
    "import import_ipynb\n",
    "import h1_ENB_occ as h1 \n",
    "import h2_ENB_gen as h2 "
   ]
  },
  {
   "cell_type": "code",
   "execution_count": 2,
   "metadata": {},
   "outputs": [],
   "source": [
    "def extract_list_issue():\n",
    "     with open(\"Text/ENB_relationships.txt\") as infile:\n",
    "        k=0\n",
    "        num = []\n",
    "        for line in infile:\n",
    "            x = line.replace('\"','').split('\\t')[:26]\n",
    "\n",
    "            if(k > 0 and int(x[23]) < 300  and 250 < int(x[23])):\n",
    "\n",
    "                num.append(int(x[23]))\n",
    "            k +=1\n",
    "        return list(set(num))"
   ]
  },
  {
   "cell_type": "code",
   "execution_count": 3,
   "metadata": {
    "tags": [
     "outputPrepend",
     "outputPrepend",
     "outputPrepend",
     "outputPrepend",
     "outputPrepend",
     "outputPrepend",
     "outputPrepend",
     "outputPrepend",
     "outputPrepend",
     "outputPrepend",
     "outputPrepend",
     "outputPrepend",
     "outputPrepend",
     "outputPrepend",
     "outputPrepend",
     "outputPrepend",
     "outputPrepend",
     "outputPrepend",
     "outputPrepend",
     "outputPrepend",
     "outputPrepend",
     "outputPrepend",
     "outputPrepend",
     "outputPrepend",
     "outputPrepend",
     "outputPrepend"
    ]
   },
   "outputs": [],
   "source": [
    "list_issue_num = extract_list_issue()"
   ]
  },
  {
   "cell_type": "code",
   "execution_count": 4,
   "metadata": {},
   "outputs": [],
   "source": [
    "def extract_gen():\n",
    "    frames1 = []\n",
    "    frames2 = []\n",
    "    for issue_number in list_issue_num:\n",
    "        df1 = h1.extract_relationships_count(issue_number)\n",
    "        df2 = h2.interactions(issue_number)\n",
    "        frames1.append(df1)\n",
    "        frames2.append(df2) \n",
    "    return pd.concat(frames1), pd.concat(frames2)\n"
   ]
  },
  {
   "cell_type": "code",
   "execution_count": 5,
   "metadata": {
    "tags": [
     "outputPrepend",
     "outputPrepend",
     "outputPrepend",
     "outputPrepend",
     "outputPrepend",
     "outputPrepend",
     "outputPrepend",
     "outputPrepend",
     "outputPrepend",
     "outputPrepend",
     "outputPrepend",
     "outputPrepend",
     "outputPrepend",
     "outputPrepend"
    ]
   },
   "outputs": [
    {
     "output_type": "stream",
     "name": "stdout",
     "text": "Issue  256\nIssue  257\nIssue  258\nSIDS\nSIDS\nSIDS\nIssue  259\nSIDS\nIssue  261\nIssue  263\nIssue  264\nIssue  265\nSIDS\nSIDS\nIssue  266\nSIDS\nIssue  267\nIssue  268\nIssue  269\nIssue  281\nIssue  282\nIssue  283\nIssue  284\nIssue  285\nSIDS\nIssue  286\nIssue  287\nIssue  288\nSIDS\nSIDS\nIssue  289\nSIDS\nIssue  290\nSIDS\nSIDS\nSIDS\nIssue  297\nIssue  298\nIssue  299\nIssue  251\nSIDS\nSIDS\nSIDS\nIssue  252\nLATIN AMERICA\nSIDS\nSIDS\nIssue  253\nSIDS\nIssue  254\nSIDS\nIssue  255\n"
    }
   ],
   "source": [
    "df_original, df_generated = extract_gen()"
   ]
  },
  {
   "cell_type": "code",
   "execution_count": 112,
   "metadata": {},
   "outputs": [
    {
     "output_type": "execute_result",
     "data": {
      "text/plain": "         type  issue  id_ca  id_cb  behalf  support  agreement  opposition  \\\n47  generated    251      0     15       0        1          0           0   \n49  generated    251      0     22       0        0          1           0   \n46  generated    251      0     49       0        0          1           0   \n48  generated    251      0     77       0        0          1           0   \n10  generated    252      0    128       0        0          1           0   \n..        ...    ...    ...    ...     ...      ...        ...         ...   \n6   generated    252   9999    164       0        0          1           0   \n65  generated    265   9999    185       0        0          1           0   \n19  generated    288   9999    185       0        0          1           0   \n15  generated    285   9999    216       0        0          1           0   \n4   generated    252   9999    220       0        0          1           0   \n\n    criticism  cooperation  \n47          0            1  \n49          0            1  \n46          0            1  \n48          0            1  \n10          0            1  \n..        ...          ...  \n6           0            1  \n65          0            1  \n19          0            1  \n15          0            1  \n4           0            1  \n\n[1957 rows x 10 columns]",
      "text/html": "<div>\n<style scoped>\n    .dataframe tbody tr th:only-of-type {\n        vertical-align: middle;\n    }\n\n    .dataframe tbody tr th {\n        vertical-align: top;\n    }\n\n    .dataframe thead th {\n        text-align: right;\n    }\n</style>\n<table border=\"1\" class=\"dataframe\">\n  <thead>\n    <tr style=\"text-align: right;\">\n      <th></th>\n      <th>type</th>\n      <th>issue</th>\n      <th>id_ca</th>\n      <th>id_cb</th>\n      <th>behalf</th>\n      <th>support</th>\n      <th>agreement</th>\n      <th>opposition</th>\n      <th>criticism</th>\n      <th>cooperation</th>\n    </tr>\n  </thead>\n  <tbody>\n    <tr>\n      <th>47</th>\n      <td>generated</td>\n      <td>251</td>\n      <td>0</td>\n      <td>15</td>\n      <td>0</td>\n      <td>1</td>\n      <td>0</td>\n      <td>0</td>\n      <td>0</td>\n      <td>1</td>\n    </tr>\n    <tr>\n      <th>49</th>\n      <td>generated</td>\n      <td>251</td>\n      <td>0</td>\n      <td>22</td>\n      <td>0</td>\n      <td>0</td>\n      <td>1</td>\n      <td>0</td>\n      <td>0</td>\n      <td>1</td>\n    </tr>\n    <tr>\n      <th>46</th>\n      <td>generated</td>\n      <td>251</td>\n      <td>0</td>\n      <td>49</td>\n      <td>0</td>\n      <td>0</td>\n      <td>1</td>\n      <td>0</td>\n      <td>0</td>\n      <td>1</td>\n    </tr>\n    <tr>\n      <th>48</th>\n      <td>generated</td>\n      <td>251</td>\n      <td>0</td>\n      <td>77</td>\n      <td>0</td>\n      <td>0</td>\n      <td>1</td>\n      <td>0</td>\n      <td>0</td>\n      <td>1</td>\n    </tr>\n    <tr>\n      <th>10</th>\n      <td>generated</td>\n      <td>252</td>\n      <td>0</td>\n      <td>128</td>\n      <td>0</td>\n      <td>0</td>\n      <td>1</td>\n      <td>0</td>\n      <td>0</td>\n      <td>1</td>\n    </tr>\n    <tr>\n      <th>...</th>\n      <td>...</td>\n      <td>...</td>\n      <td>...</td>\n      <td>...</td>\n      <td>...</td>\n      <td>...</td>\n      <td>...</td>\n      <td>...</td>\n      <td>...</td>\n      <td>...</td>\n    </tr>\n    <tr>\n      <th>6</th>\n      <td>generated</td>\n      <td>252</td>\n      <td>9999</td>\n      <td>164</td>\n      <td>0</td>\n      <td>0</td>\n      <td>1</td>\n      <td>0</td>\n      <td>0</td>\n      <td>1</td>\n    </tr>\n    <tr>\n      <th>65</th>\n      <td>generated</td>\n      <td>265</td>\n      <td>9999</td>\n      <td>185</td>\n      <td>0</td>\n      <td>0</td>\n      <td>1</td>\n      <td>0</td>\n      <td>0</td>\n      <td>1</td>\n    </tr>\n    <tr>\n      <th>19</th>\n      <td>generated</td>\n      <td>288</td>\n      <td>9999</td>\n      <td>185</td>\n      <td>0</td>\n      <td>0</td>\n      <td>1</td>\n      <td>0</td>\n      <td>0</td>\n      <td>1</td>\n    </tr>\n    <tr>\n      <th>15</th>\n      <td>generated</td>\n      <td>285</td>\n      <td>9999</td>\n      <td>216</td>\n      <td>0</td>\n      <td>0</td>\n      <td>1</td>\n      <td>0</td>\n      <td>0</td>\n      <td>1</td>\n    </tr>\n    <tr>\n      <th>4</th>\n      <td>generated</td>\n      <td>252</td>\n      <td>9999</td>\n      <td>220</td>\n      <td>0</td>\n      <td>0</td>\n      <td>1</td>\n      <td>0</td>\n      <td>0</td>\n      <td>1</td>\n    </tr>\n  </tbody>\n</table>\n<p>1957 rows × 10 columns</p>\n</div>"
     },
     "metadata": {},
     "execution_count": 112
    }
   ],
   "source": [
    "df_generated"
   ]
  },
  {
   "cell_type": "code",
   "execution_count": 113,
   "metadata": {},
   "outputs": [],
   "source": [
    "df_original.sort_values(by=['id_ca','id_cb'], inplace=True)\n",
    "df_generated.sort_values(by=['id_ca','id_cb'], inplace=True)"
   ]
  },
  {
   "cell_type": "code",
   "execution_count": 114,
   "metadata": {},
   "outputs": [],
   "source": [
    "dd1 = df_original.drop(['issue','type','behalf','support','agreement','opposition','criticism'],axis=1).groupby(['id_ca','id_cb']).count()\n",
    "dd2 = df_generated.drop(['issue','type','behalf','support','agreement','opposition','criticism'],axis=1).groupby(['id_ca','id_cb']).count()"
   ]
  },
  {
   "cell_type": "code",
   "execution_count": 115,
   "metadata": {},
   "outputs": [
    {
     "output_type": "execute_result",
     "data": {
      "text/plain": "             cooperation\nid_ca id_cb             \n0     15               1\n      22               1\n      49               1\n      77               1\n      103              1\n...                  ...\n222   171              1\n      183              2\n      207              2\n      216              2\n      219              1\n\n[944 rows x 1 columns]",
      "text/html": "<div>\n<style scoped>\n    .dataframe tbody tr th:only-of-type {\n        vertical-align: middle;\n    }\n\n    .dataframe tbody tr th {\n        vertical-align: top;\n    }\n\n    .dataframe thead th {\n        text-align: right;\n    }\n</style>\n<table border=\"1\" class=\"dataframe\">\n  <thead>\n    <tr style=\"text-align: right;\">\n      <th></th>\n      <th></th>\n      <th>cooperation</th>\n    </tr>\n    <tr>\n      <th>id_ca</th>\n      <th>id_cb</th>\n      <th></th>\n    </tr>\n  </thead>\n  <tbody>\n    <tr>\n      <th rowspan=\"5\" valign=\"top\">0</th>\n      <th>15</th>\n      <td>1</td>\n    </tr>\n    <tr>\n      <th>22</th>\n      <td>1</td>\n    </tr>\n    <tr>\n      <th>49</th>\n      <td>1</td>\n    </tr>\n    <tr>\n      <th>77</th>\n      <td>1</td>\n    </tr>\n    <tr>\n      <th>103</th>\n      <td>1</td>\n    </tr>\n    <tr>\n      <th>...</th>\n      <th>...</th>\n      <td>...</td>\n    </tr>\n    <tr>\n      <th rowspan=\"5\" valign=\"top\">222</th>\n      <th>171</th>\n      <td>1</td>\n    </tr>\n    <tr>\n      <th>183</th>\n      <td>2</td>\n    </tr>\n    <tr>\n      <th>207</th>\n      <td>2</td>\n    </tr>\n    <tr>\n      <th>216</th>\n      <td>2</td>\n    </tr>\n    <tr>\n      <th>219</th>\n      <td>1</td>\n    </tr>\n  </tbody>\n</table>\n<p>944 rows × 1 columns</p>\n</div>"
     },
     "metadata": {},
     "execution_count": 115
    }
   ],
   "source": [
    "dd1"
   ]
  },
  {
   "cell_type": "code",
   "execution_count": 24,
   "metadata": {},
   "outputs": [
    {
     "output_type": "execute_result",
     "data": {
      "text/plain": "             cooperation\nid_ca id_cb             \n0     15               1\n      22               1\n      49               1\n      77               1\n      128              1\n...                  ...\n9999  143              2\n      164              2\n      185              2\n      216              1\n      220              1\n\n[976 rows x 1 columns]",
      "text/html": "<div>\n<style scoped>\n    .dataframe tbody tr th:only-of-type {\n        vertical-align: middle;\n    }\n\n    .dataframe tbody tr th {\n        vertical-align: top;\n    }\n\n    .dataframe thead th {\n        text-align: right;\n    }\n</style>\n<table border=\"1\" class=\"dataframe\">\n  <thead>\n    <tr style=\"text-align: right;\">\n      <th></th>\n      <th></th>\n      <th>cooperation</th>\n    </tr>\n    <tr>\n      <th>id_ca</th>\n      <th>id_cb</th>\n      <th></th>\n    </tr>\n  </thead>\n  <tbody>\n    <tr>\n      <th rowspan=\"5\" valign=\"top\">0</th>\n      <th>15</th>\n      <td>1</td>\n    </tr>\n    <tr>\n      <th>22</th>\n      <td>1</td>\n    </tr>\n    <tr>\n      <th>49</th>\n      <td>1</td>\n    </tr>\n    <tr>\n      <th>77</th>\n      <td>1</td>\n    </tr>\n    <tr>\n      <th>128</th>\n      <td>1</td>\n    </tr>\n    <tr>\n      <th>...</th>\n      <th>...</th>\n      <td>...</td>\n    </tr>\n    <tr>\n      <th rowspan=\"5\" valign=\"top\">9999</th>\n      <th>143</th>\n      <td>2</td>\n    </tr>\n    <tr>\n      <th>164</th>\n      <td>2</td>\n    </tr>\n    <tr>\n      <th>185</th>\n      <td>2</td>\n    </tr>\n    <tr>\n      <th>216</th>\n      <td>1</td>\n    </tr>\n    <tr>\n      <th>220</th>\n      <td>1</td>\n    </tr>\n  </tbody>\n</table>\n<p>976 rows × 1 columns</p>\n</div>"
     },
     "metadata": {},
     "execution_count": 24
    }
   ],
   "source": [
    "dd2"
   ]
  },
  {
   "cell_type": "code",
   "execution_count": 116,
   "metadata": {},
   "outputs": [
    {
     "output_type": "execute_result",
     "data": {
      "text/plain": "             cooperation\nid_ca id_cb             \n0     15               1\n      15               1\n      22               1\n      22               1\n      49               1\n...                  ...\n9999  143              2\n      164              2\n      185              2\n      216              1\n      220              1\n\n[1920 rows x 1 columns]",
      "text/html": "<div>\n<style scoped>\n    .dataframe tbody tr th:only-of-type {\n        vertical-align: middle;\n    }\n\n    .dataframe tbody tr th {\n        vertical-align: top;\n    }\n\n    .dataframe thead th {\n        text-align: right;\n    }\n</style>\n<table border=\"1\" class=\"dataframe\">\n  <thead>\n    <tr style=\"text-align: right;\">\n      <th></th>\n      <th></th>\n      <th>cooperation</th>\n    </tr>\n    <tr>\n      <th>id_ca</th>\n      <th>id_cb</th>\n      <th></th>\n    </tr>\n  </thead>\n  <tbody>\n    <tr>\n      <th rowspan=\"5\" valign=\"top\">0</th>\n      <th>15</th>\n      <td>1</td>\n    </tr>\n    <tr>\n      <th>15</th>\n      <td>1</td>\n    </tr>\n    <tr>\n      <th>22</th>\n      <td>1</td>\n    </tr>\n    <tr>\n      <th>22</th>\n      <td>1</td>\n    </tr>\n    <tr>\n      <th>49</th>\n      <td>1</td>\n    </tr>\n    <tr>\n      <th>...</th>\n      <th>...</th>\n      <td>...</td>\n    </tr>\n    <tr>\n      <th rowspan=\"5\" valign=\"top\">9999</th>\n      <th>143</th>\n      <td>2</td>\n    </tr>\n    <tr>\n      <th>164</th>\n      <td>2</td>\n    </tr>\n    <tr>\n      <th>185</th>\n      <td>2</td>\n    </tr>\n    <tr>\n      <th>216</th>\n      <td>1</td>\n    </tr>\n    <tr>\n      <th>220</th>\n      <td>1</td>\n    </tr>\n  </tbody>\n</table>\n<p>1920 rows × 1 columns</p>\n</div>"
     },
     "metadata": {},
     "execution_count": 116
    }
   ],
   "source": [
    "df = pd.concat([dd1,dd2])\n",
    "df.sort_values(by=['id_ca','id_cb'], inplace=True)\n",
    "\n",
    "df"
   ]
  },
  {
   "cell_type": "code",
   "execution_count": 122,
   "metadata": {},
   "outputs": [
    {
     "output_type": "execute_result",
     "data": {
      "text/plain": "             cooperation\nid_ca id_cb             \n0     15               1\n      15               1\n      22               1\n      22               1\n      49               1\n...                  ...\n9999  143              2\n      164              2\n      185              2\n      216              1\n      220              1\n\n[1920 rows x 1 columns]",
      "text/html": "<div>\n<style scoped>\n    .dataframe tbody tr th:only-of-type {\n        vertical-align: middle;\n    }\n\n    .dataframe tbody tr th {\n        vertical-align: top;\n    }\n\n    .dataframe thead th {\n        text-align: right;\n    }\n</style>\n<table border=\"1\" class=\"dataframe\">\n  <thead>\n    <tr style=\"text-align: right;\">\n      <th></th>\n      <th></th>\n      <th>cooperation</th>\n    </tr>\n    <tr>\n      <th>id_ca</th>\n      <th>id_cb</th>\n      <th></th>\n    </tr>\n  </thead>\n  <tbody>\n    <tr>\n      <th rowspan=\"5\" valign=\"top\">0</th>\n      <th>15</th>\n      <td>1</td>\n    </tr>\n    <tr>\n      <th>15</th>\n      <td>1</td>\n    </tr>\n    <tr>\n      <th>22</th>\n      <td>1</td>\n    </tr>\n    <tr>\n      <th>22</th>\n      <td>1</td>\n    </tr>\n    <tr>\n      <th>49</th>\n      <td>1</td>\n    </tr>\n    <tr>\n      <th>...</th>\n      <th>...</th>\n      <td>...</td>\n    </tr>\n    <tr>\n      <th rowspan=\"5\" valign=\"top\">9999</th>\n      <th>143</th>\n      <td>2</td>\n    </tr>\n    <tr>\n      <th>164</th>\n      <td>2</td>\n    </tr>\n    <tr>\n      <th>185</th>\n      <td>2</td>\n    </tr>\n    <tr>\n      <th>216</th>\n      <td>1</td>\n    </tr>\n    <tr>\n      <th>220</th>\n      <td>1</td>\n    </tr>\n  </tbody>\n</table>\n<p>1920 rows × 1 columns</p>\n</div>"
     },
     "metadata": {},
     "execution_count": 122
    }
   ],
   "source": [
    "#Union\n",
    "dd1 = df_original.drop(['issue','type','behalf','support','agreement','opposition','criticism'],axis=1).groupby(['id_ca','id_cb']).count()\n",
    "dd2 = df_generated.drop(['issue','type','behalf','support','agreement','opposition','criticism'],axis=1).groupby(['id_ca','id_cb']).count()\n",
    "dd_union = pd.concat([dd1,dd2]).sort_values(['id_ca','id_cb'])\n"
   ]
  },
  {
   "cell_type": "markdown",
   "metadata": {},
   "source": [
    "missing id dict\n",
    "\n",
    "problems\n",
    "\n",
    "' Malaysia and Ghana, both speaking for the G-77/CHINA, suggested some additions.'Issue  283'"
   ]
  },
  {
   "cell_type": "code",
   "execution_count": null,
   "metadata": {},
   "outputs": [],
   "source": [
    "Original : 944 rows × 1 columns\n",
    "Generatec :976 rows × 1 columns"
   ]
  }
 ],
 "metadata": {
  "language_info": {
   "codemirror_mode": {
    "name": "ipython",
    "version": 3
   },
   "file_extension": ".py",
   "mimetype": "text/x-python",
   "name": "python",
   "nbconvert_exporter": "python",
   "pygments_lexer": "ipython3",
   "version": "3.7.6-final"
  },
  "orig_nbformat": 2,
  "kernelspec": {
   "name": "python37664bit162d60da764a43dc83edcb73a443ab01",
   "display_name": "Python 3.7.6 64-bit"
  }
 },
 "nbformat": 4,
 "nbformat_minor": 2
}