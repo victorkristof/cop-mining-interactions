{
 "cells": [
  {
   "cell_type": "code",
   "execution_count": 1,
   "metadata": {},
   "outputs": [
    {
     "output_type": "stream",
     "name": "stdout",
     "text": "importing Jupyter notebook from h1_ENB_occ.ipynb\nimporting Jupyter notebook from c1_extract_paragraphe_issue.ipynb\nIssue  34\nimporting Jupyter notebook from c2_extract_sentence_issue.ipynb\nimporting Jupyter notebook from g1_generate_dictionary.ipynb\nimporting Jupyter notebook from h2_ENB_gen.ipynb\n[nltk_data] Downloading package punkt to /Users/tes/nltk_data...\n[nltk_data]   Package punkt is already up-to-date!\n[nltk_data] Downloading package averaged_perceptron_tagger to\n[nltk_data]     /Users/tes/nltk_data...\n[nltk_data]   Package averaged_perceptron_tagger is already up-to-\n[nltk_data]       date!\n['COMIFAC ', 'PERU', 'CACAM', 'ITALY', 'HAITI', 'MOUNTAIN LANDLOCKED DEVELOPING COUNTRIES', 'PANAMA', 'CZECH REPUBLIC', 'ERITREA', 'ANTINGUA AND BARBUDA', 'ANTIGUA AND BARBUDA', 'MAURITANIA', 'NIUE', 'YEMEN', 'TOGO', 'AZERBAIJAN', 'SRI LANKA', 'MALAYSIA', 'ECUADOR', 'COMOROS', 'OPEC', 'for the Arab Group', 'for the League of Arab States', 'ARAB GROUP', 'CAMBODIA', 'UKRAINE', 'EQUATORIAL GUINEA', 'NETHERLANDS', 'SAMOA', 'LIBYA', 'MOROCCO', 'ROMANIA', 'INDONESIA', 'VANUATU', 'SADC', 'SOUTHERN AFRICA DEVELOPMENT COMMUNITY', 'GRENAD', 'GRENADA', 'CAMEROON', 'CENTRAL AMERICAN GROUP', 'COSTA RICA', 'EU', 'EUROPEAN UNION', 'for the European Union', 'LEBANON', 'MAURITIUS', 'PHILLIPPINES', 'PHILIPPINES', 'PHILLIPINES', 'SAINT LUCIA', 'COLOMBIA', 'QATAR', 'OMAN', 'MACEDONIA', 'CHILE', 'MYANMAR', 'TURKMENISTAN', 'LATVIA', 'NICARAGUA', 'LMDCS', 'LIKE MINDED DEVELOPING COUNTRIES', 'LMDC', 'for the Like Minded Developing Countries', 'UGANDA', 'FINLAND', 'GUATEMALA', 'REPUBLIC OF CONGO', 'ETHIOPIA', 'LUXEMBOURG', 'GUINEA', 'TURKEY', 'EL SALVADOR', 'CONGO BASIN COUNTRIES', 'CROATIA', 'KENYA', 'KOREA', 'REPUBLIC OF KOREA', 'MALAWI', 'TRINDAD AND TOBAGO', 'TRINIDAD AND TOBAGO', 'TRININDAD AND TOBAGO', 'ZAMBIA', 'JORDAN', 'NORWAY', 'NORWARY', 'JAMAICA', 'FIJI', 'IRELAND', 'BAHAMAS', 'BOTSWANA', 'PALAU', 'ARAB EMIRATES', 'UAE', 'KIRIBATI', 'CARIBBEAN COMMUNITY', 'CAPE VERDE ', 'ZIMBABWE', 'ZIMABABWE', 'LIBERIA', 'SLOVENIA', 'GUINEA BISSAU', 'TAJIKISTAN', 'INDIA', 'MARSHALL ISLANDS', 'BENIN', 'COALITION FOR RAINFOREST NATIONS', 'ICELAND', 'UMBRELLA GROUP', 'UG', 'for the Umbrella Group', 'G77 & CHINA', 'G-77/CHINA', 'G77-CHINA', 'G-77/ CHINA', 'for the Group of 77 and China', 'for the G-77/China', 'G77', 'for the G-77/ China', 'G77/CHINA', 'RUSSIA', 'RUSSIAN FEDERATION', 'AFGHANISTAN', 'BELARUS', 'KAZAKHSTAN', 'KAZAKSTAN', 'SOUTH AFRICA', 'MOZAMBIQUE', 'VIET NAM', 'VIETNAM', 'NAURU', 'SOLOMON ISLANDS', 'TANZANIA', 'LIECHTENSTEIN', 'LICHTENSTEIN', 'GEORGIA', 'BURKINA FASO', 'CHINA', 'SUDAN', 'TUNISIA', 'PALESTINE', 'EIT', 'CENTRAL GROUP', 'HONDURAS', 'NAMIBIA', 'BULGARIA', 'MONACO', 'SPAIN', 'ESTONIA', 'SWITERLAND', 'SWITZER', 'SWITZERLAND', 'CANADA', 'CYPRUS', 'GERMANY', 'OECD', 'SICA', 'SYRIAN ARAB REPUBLIC', 'SYRIA', 'NEPAL', 'TONGA', 'BARBADOS', 'GABON', 'PORTUGAL', 'TUVALU', 'US', 'VENEZUELA', 'VENEZULA', 'JUSSCANZ', 'JUSCANZ', \"COTE D'IVOIRE\", 'AILAC', 'BRUNEI', 'BANGLADESH', 'VISEGRAD GROUP', 'SOMALIA', 'BELIZE', 'BASIC', 'MONGOLIA', 'TIMOR LESTE', 'PAKISTAN', 'ALBANIA', 'DOMINICAN REPUBLIC', 'GROUP OF NINE', 'YUGOSLAVIA', 'SLOVAKIA', 'POLAND', 'AUSTRIA', 'SEYCHELLES', 'GUYANA', 'NIGERIA', 'BELGIUM', 'MALI', 'HUNGARY', 'SENEGAL', 'ALBA', 'GREECE', 'IRAQ', 'ISRAEL', 'NEW ZEALAND', 'DJIBOUTI', 'for the Environmental Integrity Group', 'ENVIRONMENTAL INTEGRITY GROUP', 'EIG', 'KYRGYZSTAN', 'SURINAME', 'UZBEKISTAN', 'GHANA', 'THAILAND', 'DENMARK', 'BOSNIA AND HERZEGOVINA', 'EGYPT', 'KUWAIT', 'ALGERIA', 'MOLDOVA', 'ANGOLA', 'ST. VINCENT AND THE GRENADINES', 'LAOS', 'COOK ISLAND', 'COOK ISLANDS', 'MADAGASCAR', 'UK', 'ARMENIA', 'BAHRAIN', 'CHAD', 'MEXICO', 'SWAZILAND', 'SERBIA AND MONTENEGRO', 'DOMINICA', 'ALLIANCE OF SMALL ISLAND STATES', 'AOSIS', 'BRAZIL', 'MALDIVES', 'MALTA', 'CENTRAL AFRICAN REPUBLIC', 'CAR', 'LEAST DEVELOPED COUNTRIES', 'LDCS', 'LDC GROUP', 'for the LDCs', 'for the Least Developed Countries', 'CARTAGENA DIALOGUE', 'LESOTHO', 'JAPAN', 'LITHUANIA', 'BHUTAN', 'SINGAPORE', 'AUSTRALIA', 'SIERRA LEONE', 'FRANCE', 'IRAN', 'AFRICA GROUP', 'for the Africa Group', 'AFRICAN GROUP', 'MICRONESIA', 'PAPUA NEW GUINEA', 'BURUNDI', 'URUGUAY', 'CG-11', 'SOUTH SUDAN', 'GAMBIA', 'ARGENTINA', 'RWANDA', 'PARAGUAY', 'ZAIRE', 'DEMOCRATIC REPUBLIC OF CONGO', 'DRC', 'SAUDI ARABIA', 'SAUDIA ARABIA', 'CUBA', 'NIGER', 'BOLIVA', 'BOLIVIA', 'SWEDEN']\nIssue  346\n"
    }
   ],
   "source": [
    "import pandas as pd\n",
    "import import_ipynb\n",
    "import h1_ENB_occ as h1 \n",
    "import h2_ENB_gen as h2 "
   ]
  },
  {
   "cell_type": "code",
   "execution_count": 32,
   "metadata": {},
   "outputs": [],
   "source": [
    "def extract_list_issue():\n",
    "     with open(\"Text/ENB_relationships.txt\") as infile:\n",
    "        k=0\n",
    "        num = []\n",
    "        for line in infile:\n",
    "            x = line.replace('\"','').split('\\t')[:26]\n",
    "\n",
    "            if(k > 0 and int(x[23]) < 594  and 100 < int(x[23])):\n",
    "\n",
    "                num.append(int(x[23]))\n",
    "            k +=1\n",
    "        return list(set(num))"
   ]
  },
  {
   "cell_type": "code",
   "execution_count": 33,
   "metadata": {
    "tags": [
     "outputPrepend",
     "outputPrepend",
     "outputPrepend",
     "outputPrepend",
     "outputPrepend",
     "outputPrepend",
     "outputPrepend",
     "outputPrepend",
     "outputPrepend",
     "outputPrepend",
     "outputPrepend",
     "outputPrepend",
     "outputPrepend",
     "outputPrepend",
     "outputPrepend",
     "outputPrepend",
     "outputPrepend",
     "outputPrepend",
     "outputPrepend",
     "outputPrepend",
     "outputPrepend",
     "outputPrepend",
     "outputPrepend",
     "outputPrepend",
     "outputPrepend",
     "outputPrepend"
    ]
   },
   "outputs": [],
   "source": [
    "list_issue_num = extract_list_issue()"
   ]
  },
  {
   "cell_type": "code",
   "execution_count": 34,
   "metadata": {},
   "outputs": [],
   "source": [
    "def extract_gen():\n",
    "    frames1 = []\n",
    "    frames2 = []\n",
    "    for issue_number in list_issue_num:\n",
    "        df1 = h1.extract_relationships_count(issue_number)\n",
    "        df2 = h2.interactions(issue_number)\n",
    "        frames1.append(df1)\n",
    "        frames2.append(df2) \n",
    "    return pd.concat(frames1), pd.concat(frames2)\n",
    ""
   ]
  },
  {
   "cell_type": "code",
   "execution_count": 35,
   "metadata": {
    "tags": [
     "outputPrepend",
     "outputPrepend",
     "outputPrepend",
     "outputPrepend",
     "outputPrepend",
     "outputPrepend",
     "outputPrepend",
     "outputPrepend",
     "outputPrepend",
     "outputPrepend",
     "outputPrepend",
     "outputPrepend",
     "outputPrepend",
     "outputPrepend"
    ]
   },
   "outputs": [
    {
     "output_type": "stream",
     "name": "stdout",
     "text": "Issue  101\nIssue  102\nIssue  103\nIssue  104\nIssue  105\nIssue  106\nIssue  107\nIssue  108\nIssue  109\nIssue  113\nIssue  114\nIssue  115\nIssue  116\nIssue  117\nIssue  118\n'FEDERATED STATES OF MICRONESIA'\n'BAHAMAS'\n'CHILE'\n'EU'\n'FEDERATED STATES OF MICRONESIA'\n'AUSTRALIA'\n'US'\n'FEDERATED STATES OF MICRONESIA'\n'FEDERATED STATES OF MICRONESIA'\n'FEDERATED STATES OF MICRONESIA'\n'FEDERATED STATES OF MICRONESIA'\n'FEDERATED STATES OF MICRONESIA'\n'NEW ZEALAND'\n'ARGENTINA'\nIssue  119\nIssue  120\n'UK'\n'CARICOM'\n'IRELAND'\n'CARICOM'\n'FRANCE'\n'SPAIN'\n'GERMANY'\n'CARICOM'\n'EU'\n'CARICOM'\n'CARICOM'\n'CARICOM'\n'ITALY'\n'SWEDEN'\n'CARICOM'\n'CARICOM'\n'BULGARIA'\n'HAITI'\n'CARICOM'\n'JAPAN'\n'CARICOM'\n'CARICOM'\nIssue  121\nIssue  124\nIssue  125\nIssue  126\nIssue  128\nIssue  129\nIssue  130\nIssue  131\nIssue  132\nIssue  133\nIssue  134\nIssue  135\nIssue  136\nIssue  138\nIssue  139\nIssue  142\nIssue  143\nIssue  144\nIssue  145\nIssue  146\n'FEDERATED STATES OF MICRONESIA'\n'FEDERATED STATES OF MICRONESIA'\n'SAMOA'\n'FEDERATED STATES OF MICRONESIA'\n'BRAZIL'\n'FEDERATED STATES OF MICRONESIA'\n'FEDERATED STATES OF MICRONESIA'\n'PALAU'\nIssue  147\nIssue  148\nIssue  149\n'FEDERATED STATES OF MICRONESIA'\n'FEDERATED STATES OF MICRONESIA'\n'SAMOA'\n'EU'\nIssue  150\nIssue  153\n'SAMOA'\n'FEDERATED STATES OF MICRONESIA'\n'TUVALU'\n'FEDERATED STATES OF MICRONESIA'\nIssue  154\nIssue  155\nIssue  156\nIssue  157\nIssue  158\nIssue  159\nIssue  160\nIssue  161\nIssue  164\nIssue  167\nIssue  170\nIssue  172\nIssue  173\nIssue  174\nIssue  179\nIssue  180\nIssue  181\nIssue  182\nIssue  183\nIssue  184\nIssue  185\nIssue  186\nIssue  187\nIssue  188\nIssue  190\nIssue  193\nIssue  194\nIssue  195\nIssue  196\nIssue  197\nIssue  198\nIssue  199\nIssue  202\nIssue  203\nIssue  204\nIssue  205\nIssue  206\nIssue  207\nIssue  208\nIssue  212\nIssue  213\n<built-in function id>\n<built-in function id>\n<built-in function id>\n<built-in function id>\n<built-in function id>\n<built-in function id>\nIssue  214\nIssue  215\nIssue  216\nIssue  217\nIssue  218\nIssue  222\nIssue  223\nIssue  224\nIssue  225\nIssue  226\nIssue  227\nIssue  228\nIssue  229\n'MOZAMBIQUE'\n'BELGUIM'\nIssue  230\nIssue  232\nIssue  234\nIssue  235\nIssue  236\nIssue  237\nIssue  238\nIssue  239\nIssue  240\nIssue  241\nIssue  243\nIssue  250\nIssue  251\nIssue  252\nIssue  253\nIssue  254\nIssue  255\nIssue  256\nIssue  257\nIssue  258\nIssue  259\nIssue  261\nIssue  263\nIssue  264\nIssue  265\nIssue  266\nIssue  267\nIssue  268\nIssue  269\nIssue  281\nIssue  282\nIssue  283\nIssue  284\nIssue  285\nIssue  286\nIssue  287\nIssue  288\nIssue  289\nIssue  290\nIssue  297\nIssue  298\nIssue  299\nIssue  300\nIssue  301\nIssue  302\nIssue  303\nIssue  304\nIssue  305\nIssue  308\nIssue  309\nIssue  310\n'UAE'\n'ABU'\nIssue  311\nIssue  312\nIssue  314\nIssue  315\nIssue  316\nIssue  317\nIssue  323\nIssue  324\nIssue  325\nIssue  326\nIssue  327\nIssue  328\nIssue  330\nIssue  332\nIssue  335\nIssue  337\nIssue  338\nIssue  344\nIssue  345\nIssue  346\nIssue  347\nIssue  348\nIssue  349\nIssue  350\nIssue  351\nIssue  353\nIssue  355\nIssue  358\nIssue  359\nIssue  360\nIssue  361\nIssue  365\nIssue  366\nIssue  367\nIssue  368\nIssue  369\nIssue  370\nIssue  371\nIssue  372\nIssue  373\nIssue  374\nIssue  376\nIssue  378\nIssue  379\nIssue  380\nIssue  381\nIssue  382\nIssue  386\nIssue  387\nIssue  388\nIssue  389\nIssue  390\nIssue  391\nIssue  392\nIssue  393\nIssue  394\nIssue  396\nIssue  398\nIssue  399\nIssue  400\nIssue  401\nIssue  402\nIssue  403\nIssue  404\nIssue  405\nIssue  406\nIssue  409\n'CARIBBEAN COMMUNITY'\n'CARICOM'\n'EU'\n'CARICOM'\n'CARIBBEAN COMMUNITY'\n'CARICOM'\nIssue  411\nIssue  412\nIssue  413\nIssue  414\nIssue  415\nIssue  416\nIssue  417\nIssue  418\nIssue  419\nIssue  420\nIssue  423\nIssue  424\nIssue  425\nIssue  426\nIssue  429\nIssue  430\n'FEDERATED STATES OF MICRONESIA'\n'FEDERATED STATES OF MICRONESIA'\n'FEDERATED STATES OF MICRONESIA'\n'TUVALU'\n'FEDERATED STATES OF MICRONESIA'\nIssue  431\n'FEDERATED STATES OF MICRONESIA'\n'US'\nIssue  432\nIssue  433\n'FEDERATED STATES OF MICRONESIA'\n'AOSIS'\n'FEDERATED STATES OF MICRONESIA'\n'BRAZIL'\n'FEDERATED STATES OF MICRONESIA'\n'PHILIPPINES'\nIssue  434\nIssue  435\nIssue  436\nIssue  437\nIssue  438\nIssue  443\nIssue  444\nIssue  445\nIssue  446\nIssue  449\nIssue  450\nIssue  451\nIssue  452\n'BANGLADESH'\n'EGYPT'\n'FEDERATED STATES OF MICRONESIA'\n'FEDERATED STATES OF MICRONESIA'\n'BRAZIL'\n'FEDERATED STATES OF MICRONESIA'\nIssue  454\nIssue  455\n'G-77/CHINA'\n'AFRICAN GROUP'\n'FEDERATED STATES OF MICRONESIA'\n'FEDERATED STATES OF MICRONESIA'\n'PERU'\n'FEDERATED STATES OF MICRONESIA'\n'AUSTRALIA'\n'SWITZERLAND'\n'FEDERATED STATES OF MICRONESIA'\n'BRAZIL'\n'FEDERATED STATES OF MICRONESIA'\n'FEDERATED STATES OF MICRONESIA'\n'SOUTH AFRICA'\n'BRAZIL'\n'FEDERATED STATES OF MICRONESIA'\n'FEDERATED STATES OF MICRONESIA'\n'FEDERATED STATES OF MICRONESIA'\n'JAPAN'\nIssue  456\nIssue  457\nIssue  458\nIssue  460\n'EGYPT'\n'ARAB STATES'\nIssue  462\n'FEDERATED STATES OF MICRONESIA'\n'BARBADOS'\n'FEDERATED STATES OF MICRONESIA'\n'ZAMBIA'\n'JAMAICA'\n'FEDERATED STATES OF MICRONESIA'\n'TRINIDAD AND TOBAGO'\n'FEDERATED STATES OF MICRONESIA'\n'BRAZIL'\n'FEDERATED STATES OF MICRONESIA'\nIssue  463\nIssue  464\nIssue  465\nIssue  466\nIssue  467\n'CHINA'\n'FEDERATED STATES OF MICRONESIA'\n'BRAZIL'\n'FEDERATED STATES OF MICRONESIA'\nIssue  468\nIssue  469\nIssue  470\n'SOUTH AFRICA'\n'NORWAY'\n'AFRICAN GROUP'\n'FEDERATED STATES OF MICRONESIA'\n'FEDERATED STATES OF MICRONESIA'\n'FEDERATED STATES OF MICRONESIA'\n'GUATEMALA'\nIssue  471\n'JAPAN'\n'CHINA'\n'SOUTH AFRICA'\n'BOLIVIA'\n'EU'\n'FEDERATED STATES OF MICRONESIA'\n'FEDERATED STATES OF MICRONESIA'\n'FEDERATED STATES OF MICRONESIA'\n'FEDERATED STATES OF MICRONESIA'\n'FEDERATED STATES OF MICRONESIA'\n'GAMBIA'\n'NORWAY'\nIssue  474\nIssue  475\nIssue  476\nIssue  477\nIssue  480\n'BRAZIL'\n'FEDERATED STATES OF MICRONESIA'\nIssue  481\nIssue  482\nIssue  483\n'EUROPEAN UNION'\n'FEDERATED STATES OF MICRONESIA'\n'SWITZERLAND'\n'FEDERATED STATES OF MICRONESIA'\nIssue  484\nIssue  488\nIssue  489\nIssue  490\nIssue  491\nIssue  492\nIssue  493\nIssue  494\nIssue  497\nIssue  499\nIssue  503\nIssue  504\nIssue  505\nIssue  506\nIssue  507\nIssue  508\nIssue  509\nIssue  510\nIssue  511\nIssue  512\nIssue  515\nIssue  516\nIssue  517\nIssue  519\nIssue  520\nIssue  524\nIssue  525\nIssue  526\nIssue  527\nIssue  528\nIssue  529\nIssue  530\nIssue  531\nIssue  532\nIssue  533\nIssue  536\nIssue  537\nIssue  538\nIssue  539\nIssue  540\n'GRULAC'\n'AUSTRALIA'\n'EU'\n'GRULAC'\n'GRULAC'\n'RUSSIAN FEDERATION'\n'US'\n'GRULAC'\n'AOSIS'\n'GRULAC'\nIssue  541\nIssue  542\nIssue  543\nIssue  544\nIssue  545\nIssue  549\nIssue  550\nIssue  551\nIssue  552\nIssue  553\nIssue  554\nIssue  557\nIssue  558\nIssue  559\nIssue  560\nIssue  561\nIssue  562\nIssue  563\nIssue  564\nIssue  565\nIssue  566\nIssue  568\nIssue  570\nIssue  571\nIssue  572\nIssue  573\nIssue  574\nIssue  575\nIssue  576\nIssue  577\nIssue  578\nIssue  579\nIssue  584\n'ARAB STATES'\n'SAUDI ARABIA'\nIssue  585\nIssue  586\nIssue  587\nIssue  588\n'SOUTH AFRICA'\n'BOLIVIA'\n'FEDERATED STATES OF MICRONESIA'\n'FEDERATED STATES OF MICRONESIA'\nIssue  589\nIssue  590\nIssue  591\nIssue  592\nIssue  593\n"
    }
   ],
   "source": [
    "df_original, df_generated = extract_gen()"
   ]
  },
  {
   "cell_type": "code",
   "execution_count": 47,
   "metadata": {},
   "outputs": [
    {
     "output_type": "execute_result",
     "data": {
      "text/plain": "        type  issue  id_ca  id_cb         Country A  \\\n0   original    101    205     69     AFRICAN GROUP   \n1   original    101     69    205            NORWAY   \n2   original    101    130    197     UNITED STATES   \n3   original    101    130     53     UNITED STATES   \n4   original    101    197    130             JAPAN   \n..       ...    ...    ...    ...               ...   \n63  original    593     86    197  MARSHALL ISLANDS   \n64  original    593     86    201  MARSHALL ISLANDS   \n65  original    593     86     50  MARSHALL ISLANDS   \n66  original    593     29     99         INDONESIA   \n67  original    593     91     36               G77   \n\n                           Country B  behalf  support  agreement  opposition  \\\n0                             NORWAY       0        0          1           0   \n1                      AFRICAN GROUP       0        0          1           0   \n2                              JAPAN       0        0          0           0   \n3                          GUATEMALA       0        0          0           0   \n4                      UNITED STATES       0        0          0           0   \n..                               ...     ...      ...        ...         ...   \n63                             JAPAN       0        0          0           1   \n64                         AUSTRALIA       0        0          0           1   \n65  LIKE MINDED DEVELOPING COUNTRIES       0        0          0           1   \n66                             NAURU       0        1          0           0   \n67                                EU       0        1          0           0   \n\n    criticism  cooperation  \n0           0            1  \n1           0            1  \n2           0            1  \n3           0            1  \n4           0            1  \n..        ...          ...  \n63          0            0  \n64          0            0  \n65          0            0  \n66          0            1  \n67          0            1  \n\n[44572 rows x 12 columns]",
      "text/html": "<div>\n<style scoped>\n    .dataframe tbody tr th:only-of-type {\n        vertical-align: middle;\n    }\n\n    .dataframe tbody tr th {\n        vertical-align: top;\n    }\n\n    .dataframe thead th {\n        text-align: right;\n    }\n</style>\n<table border=\"1\" class=\"dataframe\">\n  <thead>\n    <tr style=\"text-align: right;\">\n      <th></th>\n      <th>type</th>\n      <th>issue</th>\n      <th>id_ca</th>\n      <th>id_cb</th>\n      <th>Country A</th>\n      <th>Country B</th>\n      <th>behalf</th>\n      <th>support</th>\n      <th>agreement</th>\n      <th>opposition</th>\n      <th>criticism</th>\n      <th>cooperation</th>\n    </tr>\n  </thead>\n  <tbody>\n    <tr>\n      <td>0</td>\n      <td>original</td>\n      <td>101</td>\n      <td>205</td>\n      <td>69</td>\n      <td>AFRICAN GROUP</td>\n      <td>NORWAY</td>\n      <td>0</td>\n      <td>0</td>\n      <td>1</td>\n      <td>0</td>\n      <td>0</td>\n      <td>1</td>\n    </tr>\n    <tr>\n      <td>1</td>\n      <td>original</td>\n      <td>101</td>\n      <td>69</td>\n      <td>205</td>\n      <td>NORWAY</td>\n      <td>AFRICAN GROUP</td>\n      <td>0</td>\n      <td>0</td>\n      <td>1</td>\n      <td>0</td>\n      <td>0</td>\n      <td>1</td>\n    </tr>\n    <tr>\n      <td>2</td>\n      <td>original</td>\n      <td>101</td>\n      <td>130</td>\n      <td>197</td>\n      <td>UNITED STATES</td>\n      <td>JAPAN</td>\n      <td>0</td>\n      <td>0</td>\n      <td>0</td>\n      <td>0</td>\n      <td>0</td>\n      <td>1</td>\n    </tr>\n    <tr>\n      <td>3</td>\n      <td>original</td>\n      <td>101</td>\n      <td>130</td>\n      <td>53</td>\n      <td>UNITED STATES</td>\n      <td>GUATEMALA</td>\n      <td>0</td>\n      <td>0</td>\n      <td>0</td>\n      <td>0</td>\n      <td>0</td>\n      <td>1</td>\n    </tr>\n    <tr>\n      <td>4</td>\n      <td>original</td>\n      <td>101</td>\n      <td>197</td>\n      <td>130</td>\n      <td>JAPAN</td>\n      <td>UNITED STATES</td>\n      <td>0</td>\n      <td>0</td>\n      <td>0</td>\n      <td>0</td>\n      <td>0</td>\n      <td>1</td>\n    </tr>\n    <tr>\n      <td>...</td>\n      <td>...</td>\n      <td>...</td>\n      <td>...</td>\n      <td>...</td>\n      <td>...</td>\n      <td>...</td>\n      <td>...</td>\n      <td>...</td>\n      <td>...</td>\n      <td>...</td>\n      <td>...</td>\n      <td>...</td>\n    </tr>\n    <tr>\n      <td>63</td>\n      <td>original</td>\n      <td>593</td>\n      <td>86</td>\n      <td>197</td>\n      <td>MARSHALL ISLANDS</td>\n      <td>JAPAN</td>\n      <td>0</td>\n      <td>0</td>\n      <td>0</td>\n      <td>1</td>\n      <td>0</td>\n      <td>0</td>\n    </tr>\n    <tr>\n      <td>64</td>\n      <td>original</td>\n      <td>593</td>\n      <td>86</td>\n      <td>201</td>\n      <td>MARSHALL ISLANDS</td>\n      <td>AUSTRALIA</td>\n      <td>0</td>\n      <td>0</td>\n      <td>0</td>\n      <td>1</td>\n      <td>0</td>\n      <td>0</td>\n    </tr>\n    <tr>\n      <td>65</td>\n      <td>original</td>\n      <td>593</td>\n      <td>86</td>\n      <td>50</td>\n      <td>MARSHALL ISLANDS</td>\n      <td>LIKE MINDED DEVELOPING COUNTRIES</td>\n      <td>0</td>\n      <td>0</td>\n      <td>0</td>\n      <td>1</td>\n      <td>0</td>\n      <td>0</td>\n    </tr>\n    <tr>\n      <td>66</td>\n      <td>original</td>\n      <td>593</td>\n      <td>29</td>\n      <td>99</td>\n      <td>INDONESIA</td>\n      <td>NAURU</td>\n      <td>0</td>\n      <td>1</td>\n      <td>0</td>\n      <td>0</td>\n      <td>0</td>\n      <td>1</td>\n    </tr>\n    <tr>\n      <td>67</td>\n      <td>original</td>\n      <td>593</td>\n      <td>91</td>\n      <td>36</td>\n      <td>G77</td>\n      <td>EU</td>\n      <td>0</td>\n      <td>1</td>\n      <td>0</td>\n      <td>0</td>\n      <td>0</td>\n      <td>1</td>\n    </tr>\n  </tbody>\n</table>\n<p>44572 rows × 12 columns</p>\n</div>"
     },
     "metadata": {},
     "execution_count": 47
    }
   ],
   "source": [
    "df_original\n",
    "#df_generated"
   ]
  },
  {
   "cell_type": "code",
   "execution_count": 45,
   "metadata": {},
   "outputs": [],
   "source": [
    "df = pd.concat([df_generated, df_original])\n",
    "df = df[['issue', 'Country A', 'Country B', 'id_ca', 'id_cb','cooperation','agreement','behalf','criticism','opposition','support','type']]\n",
    "d = df.drop(['Country A','Country B','type','issue'],axis=1)\n",
    "#d = df.drop(['Country A','Country B','type','agreement','behalf','criticism','opposition','support'],axis=1)\n",
    "\n",
    "d = d.drop_duplicates(keep = False)\n",
    "\n",
    "d.sort_values(by=['id_ca','id_cb'], inplace=True)"
   ]
  },
  {
   "cell_type": "code",
   "execution_count": 46,
   "metadata": {},
   "outputs": [
    {
     "output_type": "execute_result",
     "data": {
      "text/plain": "                                                id_ca  id_cb  cooperation  \\\n24                                                  0      5          1.0   \n16                                                  0     39          1.0   \n26                                                  0     45          1.0   \n31                                                  0     65          0.0   \n66                                                  0     69          1.0   \n..                                                ...    ...          ...   \n31  align=\"justify\"&gt;The EU, also speaking for t...    210          1.0   \n11  class=\"textstory\"&gt;Kyrgyzstan, on behalf of ...      5          1.0   \n12  class=\"textstory\"&gt;Kyrgyzstan, on behalf of ...    124          1.0   \n2   class=\"textstory\"&gt;Samoa, speaking for the C...      6          1.0   \n1   class=\"textstory\"&gt;Samoa, speaking for the C...    195          1.0   \n\n    agreement  behalf  criticism  opposition  support  \n24        1.0     0.0        0.0         0.0      0.0  \n16        0.0     0.0        0.0         0.0      0.0  \n26        1.0     0.0        0.0         0.0      0.0  \n31        0.0     0.0        0.0         1.0      0.0  \n66        1.0     0.0        0.0         0.0      0.0  \n..        ...     ...        ...         ...      ...  \n31        1.0     0.0        0.0         0.0      0.0  \n11        1.0     0.0        0.0         0.0      0.0  \n12        1.0     0.0        0.0         0.0      0.0  \n2         1.0     0.0        0.0         0.0      0.0  \n1         1.0     0.0        0.0         0.0      0.0  \n\n[6265 rows x 8 columns]",
      "text/html": "<div>\n<style scoped>\n    .dataframe tbody tr th:only-of-type {\n        vertical-align: middle;\n    }\n\n    .dataframe tbody tr th {\n        vertical-align: top;\n    }\n\n    .dataframe thead th {\n        text-align: right;\n    }\n</style>\n<table border=\"1\" class=\"dataframe\">\n  <thead>\n    <tr style=\"text-align: right;\">\n      <th></th>\n      <th>id_ca</th>\n      <th>id_cb</th>\n      <th>cooperation</th>\n      <th>agreement</th>\n      <th>behalf</th>\n      <th>criticism</th>\n      <th>opposition</th>\n      <th>support</th>\n    </tr>\n  </thead>\n  <tbody>\n    <tr>\n      <td>24</td>\n      <td>0</td>\n      <td>5</td>\n      <td>1.0</td>\n      <td>1.0</td>\n      <td>0.0</td>\n      <td>0.0</td>\n      <td>0.0</td>\n      <td>0.0</td>\n    </tr>\n    <tr>\n      <td>16</td>\n      <td>0</td>\n      <td>39</td>\n      <td>1.0</td>\n      <td>0.0</td>\n      <td>0.0</td>\n      <td>0.0</td>\n      <td>0.0</td>\n      <td>0.0</td>\n    </tr>\n    <tr>\n      <td>26</td>\n      <td>0</td>\n      <td>45</td>\n      <td>1.0</td>\n      <td>1.0</td>\n      <td>0.0</td>\n      <td>0.0</td>\n      <td>0.0</td>\n      <td>0.0</td>\n    </tr>\n    <tr>\n      <td>31</td>\n      <td>0</td>\n      <td>65</td>\n      <td>0.0</td>\n      <td>0.0</td>\n      <td>0.0</td>\n      <td>0.0</td>\n      <td>1.0</td>\n      <td>0.0</td>\n    </tr>\n    <tr>\n      <td>66</td>\n      <td>0</td>\n      <td>69</td>\n      <td>1.0</td>\n      <td>1.0</td>\n      <td>0.0</td>\n      <td>0.0</td>\n      <td>0.0</td>\n      <td>0.0</td>\n    </tr>\n    <tr>\n      <td>...</td>\n      <td>...</td>\n      <td>...</td>\n      <td>...</td>\n      <td>...</td>\n      <td>...</td>\n      <td>...</td>\n      <td>...</td>\n      <td>...</td>\n    </tr>\n    <tr>\n      <td>31</td>\n      <td>align=\"justify\"&amp;gt;The EU, also speaking for t...</td>\n      <td>210</td>\n      <td>1.0</td>\n      <td>1.0</td>\n      <td>0.0</td>\n      <td>0.0</td>\n      <td>0.0</td>\n      <td>0.0</td>\n    </tr>\n    <tr>\n      <td>11</td>\n      <td>class=\"textstory\"&amp;gt;Kyrgyzstan, on behalf of ...</td>\n      <td>5</td>\n      <td>1.0</td>\n      <td>1.0</td>\n      <td>0.0</td>\n      <td>0.0</td>\n      <td>0.0</td>\n      <td>0.0</td>\n    </tr>\n    <tr>\n      <td>12</td>\n      <td>class=\"textstory\"&amp;gt;Kyrgyzstan, on behalf of ...</td>\n      <td>124</td>\n      <td>1.0</td>\n      <td>1.0</td>\n      <td>0.0</td>\n      <td>0.0</td>\n      <td>0.0</td>\n      <td>0.0</td>\n    </tr>\n    <tr>\n      <td>2</td>\n      <td>class=\"textstory\"&amp;gt;Samoa, speaking for the C...</td>\n      <td>6</td>\n      <td>1.0</td>\n      <td>1.0</td>\n      <td>0.0</td>\n      <td>0.0</td>\n      <td>0.0</td>\n      <td>0.0</td>\n    </tr>\n    <tr>\n      <td>1</td>\n      <td>class=\"textstory\"&amp;gt;Samoa, speaking for the C...</td>\n      <td>195</td>\n      <td>1.0</td>\n      <td>1.0</td>\n      <td>0.0</td>\n      <td>0.0</td>\n      <td>0.0</td>\n      <td>0.0</td>\n    </tr>\n  </tbody>\n</table>\n<p>6265 rows × 8 columns</p>\n</div>"
     },
     "metadata": {},
     "execution_count": 46
    }
   ],
   "source": [
    "d"
   ]
  },
  {
   "cell_type": "markdown",
   "metadata": {},
   "source": [
    "missing id dict\n",
    "\n",
    "problems\n",
    "\n",
    "' Malaysia and Ghana, both speaking for the G-77/CHINA, suggested some additions.'Issue  283'"
   ]
  },
  {
   "cell_type": "markdown",
   "metadata": {},
   "source": [
    "# Only cooperation\n",
    "    With Issue : 2185 rows × 4 columns\n",
    "    Without Issue : 835 rows × 3 columns\n",
    "\n",
    "# With all of them \n",
    "    With Issue : 1183 rows × 8 columns\n",
    "    Without Issue : 2794 rows × 9 columns"
   ]
  },
  {
   "cell_type": "code",
   "execution_count": null,
   "metadata": {},
   "outputs": [],
   "source": [
    "# 100 - 594\n",
    "Total number of observations\n",
    "Generated : 32225\n",
    "Original : 44572\n",
    "Only cooperation \n",
    "    without issue : 3714 rows × 3 columns\n",
    "    with issue : 18230\n",
    "All interactions\n",
    "    without issue : 6265\n",
    "    with issue : 26326"
   ]
  }
 ],
 "metadata": {
  "language_info": {
   "codemirror_mode": {
    "name": "ipython",
    "version": 3
   },
   "file_extension": ".py",
   "mimetype": "text/x-python",
   "name": "python",
   "nbconvert_exporter": "python",
   "pygments_lexer": "ipython3",
   "version": "3.7.4-final"
  },
  "orig_nbformat": 2,
  "kernelspec": {
   "name": "python3",
   "display_name": "Python 3"
  }
 },
 "nbformat": 4,
 "nbformat_minor": 2
}