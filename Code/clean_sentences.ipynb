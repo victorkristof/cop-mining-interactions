{
 "nbformat": 4,
 "nbformat_minor": 2,
 "metadata": {
  "language_info": {
   "name": "python",
   "codemirror_mode": {
    "name": "ipython",
    "version": 3
   },
   "version": "3.7.3-final"
  },
  "orig_nbformat": 2,
  "file_extension": ".py",
  "mimetype": "text/x-python",
  "name": "python",
  "npconvert_exporter": "python",
  "pygments_lexer": "ipython3",
  "version": 3,
  "kernelspec": {
   "name": "python37664bit9d5a6365487849299c5de4ddf449b4f4",
   "display_name": "Python 3.7.6 64-bit"
  }
 },
 "cells": [
  {
   "cell_type": "code",
   "execution_count": 1,
   "metadata": {},
   "outputs": [],
   "source": [
    "import urllib.request\n",
    "import re\n",
    "from bs4 import BeautifulSoup\n",
    "from dateutil.parser import parse\n",
    "import csv\n",
    "import pandas as pd\n",
    "import requests\n",
    "import functools "
   ]
  },
  {
   "cell_type": "code",
   "execution_count": 2,
   "metadata": {},
   "outputs": [],
   "source": [
    "# Clean <p> tags with tab and special characters.\n",
    "def clean_tp(sentence_tp):\n",
    "    s = sentence_tp\n",
    "    s = re.sub(\"\\r\\n\\s+\",\" \",s)\n",
    "    s = re.sub(\"\\[a-z]\\r\\n\",\" \",s)\n",
    "    s = re.sub(\"<b>\",\" \",s)\n",
    "    s = re.sub(\"</b>\",\" \",s)\n",
    "    s = re.sub(\"\\n\",\" \",s)\n",
    "    s = re.sub(\"\\s\\s+\",\" \",s)\n",
    "    return s"
   ]
  },
  {
   "cell_type": "code",
   "execution_count": 4,
   "metadata": {},
   "outputs": [],
   "source": [
    "# from the txt_file extract all the sentences and arrange them. Remove also the footer page (sponsors)\n",
    "def extract_from_txt_sentences(txt_file):\n",
    "    list_tp = open(txt_file)\n",
    "\n",
    "    list_tp_cleaned = [clean_tp(sentence_tp) for sentence_tp in list_tp]\n",
    "    list_tp_foot = []\n",
    "    #Remove footer\n",
    "    for i in range(len(list_tp_cleaned)):\n",
    "        if('Sustaining Donors' not in list_tp_cleaned[i] and 'This issue of' not in list_tp_cleaned[i]):\n",
    "            list_tp_foot.append(list_tp_cleaned[i])\n",
    "    #Split into sentence from paragraph\n",
    "\n",
    "    splited_sentence = []\n",
    "    for s in list_tp_foot:\n",
    "        splited_sentence += s.split('.')\n",
    "    return splited_sentence\n",
    "\n",
    "\n",
    "    "
   ]
  },
  {
   "cell_type": "code",
   "execution_count": 5,
   "metadata": {},
   "outputs": [],
   "source": [
    "list_tp_cleaned = extract_from_txt_sentences('list_p_tags.txt')\n"
   ]
  },
  {
   "cell_type": "code",
   "execution_count": 6,
   "metadata": {},
   "outputs": [],
   "source": [
    "# generate list_p_tags.txt file\n",
    "outF = open(\"list_p_tags_cleaned.txt\", \"w\")\n",
    "for line in list_tp_cleaned:\n",
    "    # write line to output file\n",
    "    outF.write(line)\n",
    "    outF.write(\"\\n\")\n",
    "outF.close()"
   ]
  },
  {
   "cell_type": "code",
   "execution_count": null,
   "metadata": {},
   "outputs": [],
   "source": []
  }
 ]
}