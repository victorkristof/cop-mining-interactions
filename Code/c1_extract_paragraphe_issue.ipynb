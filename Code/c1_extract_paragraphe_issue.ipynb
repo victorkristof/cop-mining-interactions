{
 "nbformat": 4,
 "nbformat_minor": 2,
 "metadata": {
  "language_info": {
   "name": "python",
   "codemirror_mode": {
    "name": "ipython",
    "version": 3
   },
   "version": "3.7.4-final"
  },
  "orig_nbformat": 2,
  "file_extension": ".py",
  "mimetype": "text/x-python",
  "name": "python",
  "npconvert_exporter": "python",
  "pygments_lexer": "ipython3",
  "version": 3,
  "kernelspec": {
   "name": "python37664bit162d60da764a43dc83edcb73a443ab01",
   "display_name": "Python 3.7.6 64-bit"
  }
 },
 "cells": [
  {
   "cell_type": "markdown",
   "metadata": {},
   "source": [
    "# c1_extract_paragraphes_issues\n",
    "From the list_meetings.csv extract all the paragraphes in the html page for each issues and create a file paragraphes.txt with it "
   ]
  },
  {
   "cell_type": "code",
   "execution_count": 1,
   "metadata": {},
   "outputs": [],
   "source": [
    "import urllib\n",
    "from urllib.request import urlopen\n",
    "import re\n",
    "from bs4 import BeautifulSoup\n",
    "from dateutil.parser import parse\n",
    "import csv\n",
    "import numpy as np\n",
    "import requests"
   ]
  },
  {
   "cell_type": "code",
   "execution_count": 2,
   "metadata": {},
   "outputs": [],
   "source": [
    "def write_paragraphe(number, paragraphes):\n",
    "    \"\"\" Write \"paragraphes\" into a file paragraphes+number.txt. \"\"\"\n",
    "    paragraphes = list(set(paragraphes))\n",
    "    # generate list_p_tags.txt file\n",
    "    outF = open(\"paragraphes\"+str(number)+\".txt\", \"w\")\n",
    "    for line in paragraphes:\n",
    "        outF.write(str(line))\n",
    "        outF.write(\"\\n\")\n",
    "    outF.close()"
   ]
  },
  {
   "cell_type": "code",
   "execution_count": 3,
   "metadata": {},
   "outputs": [],
   "source": [
    "def remove_unwanted_p(paragraphes):\n",
    "    \"\"\" Remove all the text into paragraphes that is no needed.\"\"\"\n",
    "    #paragraphes = re.split(r'<p>|</p>','\\n'.join(paragraphes))\n",
    "    paragraphes = [p.replace('<p align=\"justify\">','') for p in paragraphes]\n",
    "    paragraphes = [p.replace('<p align=\"CENTER\">','') for p in paragraphes] \n",
    "    paragraphes = [re.sub('<strong>.+</strong>',' ',str(p)) for p in paragraphes]\n",
    "    paragraphes = [re.sub('<p align=\"justify\" class=\"ENB-Body\">','',p) for p in paragraphes]\n",
    "    paragraphes = [re.sub('<font face=\"Verdana\" size=\"2\">','',p) for p in paragraphes]\n",
    "    paragraphes = [re.sub(r'<font.*?>','',p) for p in paragraphes]\n",
    "    paragraphes = [re.sub(r'<a.*?>','',p) for p in paragraphes]\n",
    "    paragraphes = [re.sub(r'<.*?>','',p) for p in paragraphes]\n",
    "    paragraphes = [p for p in paragraphes if not p.isupper()] \n",
    "    return paragraphes"
   ]
  },
  {
   "cell_type": "code",
   "execution_count": 4,
   "metadata": {},
   "outputs": [],
   "source": [
    "def clean_page_to_parse(page_string):\n",
    "    \"\"\" Remove comment at the beginning of the hml and also put the <html> tag in lowercase and <b> tags to be able to collect all paragraphes. \"\"\"\n",
    "    page_string = re.sub('<!-- WWW Designer Jeff Anderson janderson@iisd.ca --!>','',str(page_string))\n",
    "    page_string = re.sub('<!-- WWW Designer Jeff Anderson janderson@iisd.ca --!>','',str(page_string))\n",
    "    page_string = re.sub('<!-- WWW design Jeff Anderson janderson@iisd.ca ---!>','',str(page_string))\n",
    "    page_string = re.sub(\"<!--.*?<html\", '<html', page_string, flags=re.MULTILINE)\n",
    "    #page_string = re.sub('<!DOCTYPE html PUBLIC \"-//W3C//DTD XHTML 1.0 Transitional//EN\" \"http://www.w3.org/TR/xhtml1/DTD/xhtml1-transitional.dtd\">','',str(page_string))\n",
    "\n",
    "    page_string = re.sub(r'<HTML>',r'<html>',str(page_string))\n",
    "    page_string = re.sub(r'</HTML>',r'</html>',str(page_string))\n",
    "    page_string = re.sub(r'<b>',r'</p><p>',str(page_string))\n",
    "    page_string = re.sub(r'</b>',r'</p>',str(page_string))\n",
    "\n",
    "    return bytes(page_string,'utf-8')\n",
    ""
   ]
  },
  {
   "cell_type": "code",
   "execution_count": 5,
   "metadata": {},
   "outputs": [],
   "source": [
    "def remove_special_char(p):\n",
    "    \"\"\" Remove special char to be able to detect easier sentences. \"\"\"\n",
    "    s = p.replace(\"\\r\",\" \")\n",
    "    s = s.replace(r'\\x',\" \")\n",
    "    s = s.replace(\"\\n\",\" \")\n",
    "    s = s.replace(\"\\t\",\" \")\n",
    "    s = s.replace(\"\\\\x\",\" \")\n",
    "    s = s.replace(\"\\\\r\",\" \")\n",
    "    s = s.replace(\"\\\\n\",\" \")\n",
    "    s = s.replace(\"\\\\t\",\" \")\n",
    "    q = re.compile('\\s\\s+')\n",
    "    p = re.compile('\\n\\n+')\n",
    "    s = q.sub(' ',s)\n",
    "    s = p.sub(' ',s)\n",
    "    s = s.split('<p>')\n",
    "    return s"
   ]
  },
  {
   "cell_type": "code",
   "execution_count": 6,
   "metadata": {},
   "outputs": [],
   "source": [
    "def remove_footer(paragraphes):\n",
    "    \"\"\" Remove footer of the page with conditions. \"\"\"\n",
    "    k = len(paragraphes)\n",
    "    for i in range(len(paragraphes)):\n",
    "        if('IN THE CORRIDORS' in paragraphes[i] or 'THINGS TO LOOK'  in paragraphes[i] or 'This issue of' in paragraphes[i]  or 'BRIEF ANALYSIS OF' in paragraphes[i]):\n",
    "            k=i\n",
    "            break\n",
    "\n",
    "    return paragraphes[:k]"
   ]
  },
  {
   "cell_type": "code",
   "execution_count": 22,
   "metadata": {},
   "outputs": [],
   "source": [
    "def extract_p_tags(html_link):\n",
    "    \"\"\" Extract the <p> tag from a specific html link. \"\"\"\n",
    "    #Parse the page \n",
    "    page = urlopen(html_link).read()\n",
    "    page = clean_page_to_parse(page)\n",
    "    soup = BeautifulSoup(page,'html.parser')\n",
    "    \n",
    "    list_tp = soup.find_all('p',recursive=False)\n",
    "    if(len(list_tp) == 0):\n",
    "        x = \".\"\n",
    "        list_tp = list(soup.find_all('p'))\n",
    "    #Extract all the text and remove undesired paragraphes\n",
    "    list_tp2 = []\n",
    "    for p in list_tp:\n",
    "        list_tp2 += remove_special_char(str(p))\n",
    "    list_tp = remove_footer(list_tp2)\n",
    "    # Remove titles and sentences all in uppercase\n",
    "    list_tp = remove_unwanted_p(list_tp)\n",
    "    return list_tp"
   ]
  },
  {
   "cell_type": "code",
   "execution_count": 23,
   "metadata": {},
   "outputs": [],
   "source": [
    "def extract_p_tags_45(html_link):\n",
    "    \"\"\" Extract <p> tags from link inside \"html_link\" for Issue# <45. \"\"\"\n",
    "    page_link = urllib.request.urlopen(html_link).read()\n",
    "    soup_link = BeautifulSoup(page_link)\n",
    "    paragraphes = soup_link.findAll('a',href = re.compile('\\d+'))\n",
    "    list_tp = []\n",
    "\n",
    "    for pa in paragraphes:\n",
    "        # doesn't use the link of the main page (all issues)\n",
    "        if(pa['href'] != '1200000e.html'):\n",
    "            html_link = 'https://enb.iisd.org/vol12/'+pa['href']\n",
    "            list_tp += extract_p_tags(html_link)\n",
    "\n",
    "    return list_tp\n",
    ""
   ]
  },
  {
   "cell_type": "code",
   "execution_count": 24,
   "metadata": {},
   "outputs": [],
   "source": [
    "#Extract from \"csv_file\" all the html link to be able to extract all the <p> tags\n",
    "def extract_from_csv_list_issues(csv_file):\n",
    "    \"\"\" Extract from \"csv_file\" all the html link to be able to extract all the <p> tags. \"\"\"\n",
    "    f = open(csv_file)\n",
    "    csv_f = csv.reader(f)\n",
    "    list_pt = []\n",
    "    return list(csv_f)[1:]"
   ]
  },
  {
   "cell_type": "code",
   "execution_count": 25,
   "metadata": {},
   "outputs": [],
   "source": [
    "def extract_paragraphes_from_issue(number):\n",
    "    \"\"\" Extract from \"csv_file\" all the html link to be able to extract all the <p> tags from issue number. \"\"\"\n",
    "    list_meetings = extract_from_csv_list_issues('list_meetings.csv')\n",
    "    for i in range(len(list_meetings)) :\n",
    "        if(int(list_meetings[i][4])== number):\n",
    "            line = list_meetings[i]\n",
    "            break\n",
    "    \n",
    "    #Extract for 0 < Issue# < 45 \n",
    "    if(number < 45 ):\n",
    "        list_pt = extract_p_tags_45(line[6])\n",
    "\n",
    "    #Extract for 66 < Issue# < 775\n",
    "    else :\n",
    "        request = requests.get(list_meetings[number-2][6])\n",
    "        if(request.status_code == 200):\n",
    "            list_pt = extract_p_tags(line[6])\n",
    "\n",
    "\n",
    "    write_paragraphe(number, list_pt)\n",
    "    print('Issue ',number)\n",
    "    return list(set(list_pt))"
   ]
  },
  {
   "cell_type": "code",
   "execution_count": 26,
   "metadata": {
    "tags": [
     "outputPrepend"
    ]
   },
   "outputs": [
    {
     "output_type": "stream",
     "name": "stdout",
     "text": "[<p>\\r\\n\\r\\n\\t\\t\\t\\t\\t\\t\\t\\t\\t\\t\\t\\t\\t<font color=\"#FFFFFF\" face=\"Verdana, Arial\" size=\"-1\">\\r\\n\\r\\n\\t\\t\\t\\t\\t\\t\\t\\t\\t\\t\\t\\t\\tPDF Format</font></p>, <p>\\r\\n\\r\\n\\t\\t\\t\\t\\t\\t\\t\\t\\t\\t\\t\\t\\t<font color=\"#FFFFFF\" face=\"Verdana, Arial\" size=\"-1\">\\r\\n\\r\\n\\t\\t\\t\\t\\t\\t\\t\\t\\t\\t\\t\\t\\t Spanish Version</font></p>, <p>\\r\\n\\r\\n\\t\\t\\t\\t\\t\\t\\t\\t\\t\\t\\t\\t\\t<font color=\"#FFFFFF\" face=\"Verdana, Arial\" size=\"-1\">\\r\\n\\r\\n\\t\\t\\t\\t\\t\\t\\t\\t\\t\\t\\t\\t\\tFrench Version</font></p>, <p>\\r\\n\\r\\n\\t\\t\\t\\t\\t\\t\\t\\t\\t\\t\\t\\t\\t<font color=\"#FFFFFF\" face=\"Verdana, Arial\" size=\"-1\">\\r\\n\\r\\n\\t\\t\\t\\t\\t\\t\\t\\t\\t\\t\\t\\t\\tJapanese Version</font></p>, <p>\\r\\n\\r\\n\\t\\t\\t\\t\\t\\t\\t\\t\\t\\t\\t\\t\\t<font color=\"#4E009B\" face=\"Verdana, Arial\" size=\"-1\">\\r\\n\\r\\n\\t\\t\\t\\t\\t\\t\\t\\t\\t\\t\\t\\t\\t<span style=\"text-decoration: none\">\\r\\n\\r\\n\\t\\t\\t\\t\\t\\t\\t\\t\\t\\t\\t\\t\\t<a href=\"/climate/sb24/\">\\r\\n\\r\\n\\t\\t\\t\\t\\t\\t\\t\\t\\t\\t\\t\\t\\t<font color=\"#002D00\">\\r\\n\\r\\n\\t\\t\\t\\t\\t\\t\\t\\t\\t\\t\\t\\t\\t<span style=\"text-decoration: none\">\\r\\n\\t\\t\\t\\t\\t\\t\\t\\t\\t\\t\\t\\t\\tIISD RS<br/>\\r\\n\\r\\n\\t\\t\\t\\t\\t\\t\\t\\t\\t\\t\\t\\t\\tweb coverage</span></font></a></span></font></p>, <p align=\"center\" class=\"MsoNormal\" style=\"text-align: center; margin: 0 10\">\\r\\n\\r\\n      <i>\\r\\n\\r\\n      <font face=\"Georgia\" size=\"2\"><br/>\\r\\n\\r\\n\\t\\t</font></i>\\r\\n\\r\\n      <font face=\"Verdana\" size=\"2\">Published by the </font>\\r\\n\\r\\n\\t\\t<font face=\"Verdana\">\\r\\n\\t\\t<a href=\"/\" style=\"text-decoration: none\">\\r\\n\\t\\t<font color=\"#008000\" size=\"2\">\\r\\n\\r\\n\\t\\tInternational Institute for Sustainable Development (IISD)</font></a></font></p>, <p align=\"center\" class=\"MsoNormal\" style=\"text-align: center; margin: 0 10\">\\r\\n\\r\\n       </p>, <p class=\"MsoNormal\" style=\"margin: 0 10\">\\r\\n\\r\\n      <font face=\"Verdana\" size=\"2\"></font></p>, <p>Vol. 12 No. 305<br/>\\r\\n\\r\\n      Friday, 26 May 2006</p>, <p align=\"center\" class=\"ENB-Headline2\"></p>, <p>\\r\\n\\t\\t<font face=\"Verdana\" size=\"2\">\\r\\n\\t\\t<a href=\"/climate/sb24/\" style=\"text-decoration: none\" target=\"_blank\">\\r\\n\\t\\t<font color=\"#000000\">SB 24 &amp; AWG</font></a> HIGHLIGHTS:<br/>\\r\\n\\t\\t<br/>\\r\\n\\t\\tTHURSDAY, 25 MAY 2006</font></p>, <p align=\"justify\" class=\"ENB-Body\"><font face=\"Verdana\" size=\"2\">On \\r\\n\\t\\tThursday, <a href=\"#subsidiary\" style=\"text-decoration: none\">SBI</a> \\r\\n\\t\\treconvened in plenary, concluding its work and adopting the report of \\r\\n\\t\\tthe session. <a href=\"#body\" style=\"text-decoration: none\">SBSTA</a> met \\r\\n\\t\\tand adopted conclusions and/or draft decisions on many items, including \\r\\n\\t\\tseveral methodological issues, research and systematic observation, and \\r\\n\\t\\treducing emissions from deforestation in developing countries. However, \\r\\n\\t\\tdiscussions on the five-year programme of work on adaptation continued \\r\\n\\t\\tlate into Thursday night, and will be taken up in the SBSTA plenary on \\r\\n\\t\\tFriday. The <a href=\"#ad\" style=\"text-decoration: none\">AWG</a> \\r\\n\\t\\tconcluded its work very late on Thursday night after lengthy informal \\r\\n\\t\\tconsultations by agreeing on text outlining the \\x93planning of future \\r\\n\\t\\twork.\\x94</font></p>, <p align=\"justify\" class=\"ENB-Headline3\"></p>, <p><i>\\r\\n\\t\\t<font face=\"Verdana\" size=\"2\"><a name=\"subsidiary\"></a>SUBSIDIARY BODY \\r\\n\\t\\tFOR IMPLEMENTATION</font></i></p>, <p align=\"justify\" class=\"ENB-Body\"><font face=\"Verdana\" size=\"2\"></font></p>, <p>\\r\\n\\t\\tADMINISTRATIVE, FINANCIAL AND INSTITUTIONAL MATTERS: </p>, <p align=\"justify\" class=\"ENB-Body\"><font face=\"Verdana\" size=\"2\"></font></p>, <p>\\r\\n\\t\\tUNFCCC ARTICLE 4.8 &amp; 4.9: </p>, <p align=\"justify\" class=\"ENB-Body\"><font face=\"Verdana\" size=\"2\"></font></p>, <p>\\r\\n\\t\\tCAPACITY BUILDING (CONVENTION):</p>, <p align=\"justify\" class=\"ENB-Body\"><font face=\"Verdana\" size=\"2\"></font></p>, <p>\\r\\n\\t\\tFINANCIAL MECHANISM (CONVENTION): </p>, <p align=\"justify\" class=\"ENB-Body\"><font face=\"Verdana\" size=\"2\">On the \\r\\n\\t\\tthird review of the financial mechanism, contact group Co-Chair Marcia \\r\\n\\t\\tLevaggi (Argentina) noted that the annex to the draft SBI conclusions is \\r\\n\\t\\ta compilation of views expressed and could be used as the basis for \\r\\n\\t\\tnegotiations at SBI 25, but that it is still open for further input. \\r\\n\\t\\tParties then adopted the conclusions (FCCC/SBI/2006/L.4).</font></p>, <p align=\"justify\" class=\"ENB-Body\"><font face=\"Verdana\" size=\"2\"></font></p>, <p>\\r\\n\\t\\tARRANGEMENTS OF INTERGOVERNMENTAL MEETINGS: </p>, <p>\\r\\n\\t\\t</p>, <p align=\"justify\" class=\"ENB-Body\"><font face=\"Verdana\" size=\"2\">\\r\\n\\t\\tRichard Kinley, Officer-in-Charge, UNFCCC Secretariat, said these \\r\\n\\t\\tconclusions on meeting arrangements were \\x93quite revolutionary\\x94 for this \\r\\n\\t\\tprocess. He said the Secretariat would discontinue the current practice \\r\\n\\t\\tof scheduling evening meetings, and that the decision on what \\r\\n\\t\\tconstitutes exceptional circumstances would be left to elected officers. \\r\\n\\t\\tHe noted the significant implications of restricting the negotiating \\r\\n\\t\\ttime available at meetings, given that there are about 36 substantive \\r\\n\\t\\titems or sub-items on the various agendas to be addressed in Nairobi. \\r\\n\\t\\tDescribing the changes as \\x93shock therapy,\\x94 he expressed his \\x93deep \\r\\n\\t\\tanxiety\\x94 that such an approach could lead to process \\x93paralysis\\x94 unless \\r\\n\\t\\tparties prioritize issues. </font></p>, <p align=\"justify\" class=\"ENB-Body\"><font face=\"Verdana\" size=\"2\"></font></p>, <p>\\r\\n\\t\\tCAPACITY BUILDING (PROTOCOL):</p>, <p align=\"justify\" class=\"ENB-Body\"><font face=\"Verdana\" size=\"2\"></font></p>, <p>\\r\\n\\t\\tCOMPLIANCE: </p>, <p align=\"justify\" class=\"ENB-Body\"><font face=\"Verdana\" size=\"2\"></font></p>, <p>\\r\\n\\t\\tINTERNATIONAL TRANSACTION LOG: </p>, <p align=\"justify\" class=\"ENB-Body\"><font face=\"Verdana\" size=\"2\"></font></p>, <p>\\r\\n\\t\\tPRIVILEGES AND IMMUNITIES:</p>, <p align=\"justify\" class=\"ENB-Body\"><font face=\"Verdana\" size=\"2\"></font></p>, <p>\\r\\n\\t\\tNON-ANNEX I COMMUNICATIONS:</p>, <p align=\"justify\" class=\"ENB-Body\"><font face=\"Verdana\" size=\"2\"></font></p>, <p>\\r\\n\\t\\tBASE YEAR OF CROATIA:</p>, <p align=\"justify\" class=\"ENB-Body\"><font face=\"Verdana\" size=\"2\"></font></p>, <p>\\r\\n\\t\\tANNEX I COMMUNICATIONS:</p>, <p align=\"justify\" class=\"ENB-Body\"><font face=\"Verdana\" size=\"2\"></font></p>, <p>\\r\\n\\t\\tFINANCIAL MECHANISM (PROTOCOL): Adaptation Fund:</p>, <p align=\"justify\" class=\"ENB-Body\"><font face=\"Verdana\" size=\"2\"></font></p>, <p>\\r\\n\\t\\tEXPERTS GROUP MEETING:</p>, <p align=\"justify\" class=\"ENB-Body\"><font face=\"Verdana\" size=\"2\"></font></p>, <p>\\r\\n\\t\\tREPORT OF THE SESSION: </p>, <p align=\"justify\" class=\"ENB-Headline3\"><i></i></p>, <p>\\r\\n\\t\\t<font face=\"Verdana\" size=\"2\"><a name=\"body\"></a>SUBSIDIARY BODY FOR \\r\\n\\t\\tSCIENTIFIC AND TECHNOLOGICAL ADVICE</font></p>, <p align=\"justify\" class=\"ENB-Body\"><font face=\"Verdana\" size=\"2\"></font></p>, <p>\\r\\n\\t\\tAGENDA/MAURITIUS STRATEGY:</p>, <p align=\"justify\" class=\"ENB-Body\"><font face=\"Verdana\" size=\"2\"></font></p>, <p>\\r\\n\\t\\tRESEARCH AND SYSTEMATIC OBSERVATION:</p>, <p align=\"justify\" class=\"ENB-Body\"><font face=\"Verdana\" size=\"2\"></font></p>, <p>\\r\\n\\t\\tMETHODOLOGICAL ISSUES (CONVENTION): Bunker Fuels:</p>, <p align=\"justify\" class=\"ENB-Body\"><font face=\"Verdana\" size=\"2\"></font></p>, <p>\\r\\n\\t\\tBrazilian Proposal:</p>, <p align=\"justify\" class=\"ENB-Body\"><font face=\"Verdana\" size=\"2\"></font></p>, <p>\\r\\n\\t\\tDeforestation</p>, <p align=\"justify\" class=\"ENB-Body\"><font face=\"Verdana\" size=\"2\"></font></p>, <p>\\r\\n\\t\\tIPCC 2006 Guidelines and Harvested Wood Products:</p>, <p align=\"justify\" class=\"ENB-Body\"><font face=\"Verdana\" size=\"2\"></font></p>, <p>\\r\\n\\t\\tReporting, review and training of experts: </p>, <p align=\"justify\" class=\"ENB-Body\"><font face=\"Verdana\" size=\"2\"></font></p>, <p>\\r\\n\\t\\tMETHODOLOGICAL ISSUES (PROTOCOL): HFC-23:</p>, <p align=\"justify\" class=\"ENB-Body\"><font face=\"Verdana\" size=\"2\"></font></p>, <p>\\r\\n\\t\\tNumerical value inscribed for Italy: </p>, <p align=\"justify\" class=\"ENB-Body\"><font face=\"Verdana\" size=\"2\"></font></p>, <p>\\r\\n\\t\\tPOLICIES AND MEASURES:</p>, <p align=\"justify\" class=\"ENB-Body\"><font face=\"Verdana\" size=\"2\"></font></p>, <p>\\r\\n\\t\\tPROTOCOL ARTICLE 2.3 (ADVERSE EFFECTS):</p>, <p align=\"justify\" class=\"ENB-Body\"><font face=\"Verdana\" size=\"2\"></font></p>, <p>\\r\\n\\t\\tCOOPERATION WITH RELEVANT INTERNATIONAL ORGANIZATIONS: </p>, <p> </p>, <p align=\"justify\" class=\"ENB-Body\"><font face=\"Verdana\" size=\"2\"></font></p>, <p>\\r\\n\\t\\tOTHER MATTERS:</p>, <p align=\"justify\" class=\"ENB-Headline3\"></p>, <p><i>\\r\\n\\t\\t<font face=\"Verdana\" size=\"2\"><a name=\"ad\"></a>AD HOC WORKING GROUP</font></i></p>, <p align=\"justify\" class=\"ENB-Body\"><font face=\"Verdana\" size=\"2\">The \\r\\n\\t\\tAWG plenary convened shortly before midnight. This followed informal \\r\\n\\t\\tconsultations that had extended throughout Thursday in a small group \\r\\n\\t\\tsetting, with several delegates and A<span style=\"text-transform:uppercase\">WG </span>Chair Michael Zammit Cutajar working on a text on planning \\r\\n\\t\\tof future work distributed in the morning (FCCC/KP/AWG/2006/L.2).</font></p>, <p align=\"justify\" class=\"ENB-Body\"><font face=\"Verdana\" size=\"2\">\\r\\n\\t\\tOpening the late night plenary, Chair Zammit Cutajar outlined the \\r\\n\\t\\trevised text resulting from the informal negotiations, including \\r\\n\\t\\tparagraphs that he said: describe the focus of AWG; add momentum to the \\r\\n\\t\\tprocess; describe work that needs to be done for commitments; address \\r\\n\\t\\tthe review of implementation of the first commitment period; describe \\r\\n\\t\\tthe workshop to be held in Nairobi; set out the organization of the \\r\\n\\t\\tworkshop; and explain that the workshop will meet during 2007 regular \\r\\n\\t\\tsessions and that AWG\\xef\\xbf\\xbds work plan will be further elaborated in the next \\r\\n\\t\\tsession. The text also includes a Chair\\xef\\xbf\\xbds indicative non-exhaustive list \\r\\n\\t\\tof topics that may be relevant to the further work of the group. He \\r\\n\\t\\tindicated that the text would be part of the report of the session.</font></p>, <p align=\"justify\" class=\"ENB-Body\"><font face=\"Verdana\" size=\"2\">\\r\\n\\t\\tSWITZERLAND proposed adding text to ensure that that AWG\\xef\\xbf\\xbds future work \\r\\n\\t\\tis transparent and open to all parties. SAUDI ARABIA proposed that it \\r\\n\\t\\tshould be open to all UNFCCC parties. Chair Zammit Cutajar proposed \\r\\n\\t\\taddressing those questions at AWG 2 and delegates adopted the draft \\r\\n\\t\\treport without amendment (FCCC/KP/AWG/2006/L.2/Rev.1). Delegates then \\r\\n\\t\\tadopted the report of the session (FCCC/KP/AWG/2006/L.1) and Chair \\r\\n\\t\\tZammit Cutajar closed the session at 12:20 am.</font></p>, <p align=\"justify\" class=\"ENB-Headline3\"></p>, <p><i>\\r\\n\\t\\t<font face=\"Verdana\" size=\"2\">CONTACT GROUPS</font></i></p>, <p align=\"justify\" class=\"ENB-Body\"><font face=\"Verdana\" size=\"2\"></font></p>, <p>\\r\\n\\t\\tADAPTATION:</p>, <p align=\"justify\" class=\"ENB-Headline3\"></p>, <p><i>\\r\\n\\t\\t<font face=\"Verdana\" size=\"2\">IN THE CORRIDORS</font></i></p>, <p align=\"justify\" class=\"ENB-Body\"><font face=\"Verdana\" size=\"2\">A \\r\\n\\t\\tsense of relief was apparent among many participants shortly after \\r\\n\\t\\tmidnight on Thursday night as the AWG finally completed its work. After \\r\\n\\t\\tlengthy informal consultations, AWG Chair Michael Zammit Cutajar \\r\\n\\t\\tsuccessfully steered the first session to a close after a compromise was \\r\\n\\t\\tachieved that included new language on working \\xef\\xbf\\xbdexpeditiously\\xef\\xbf\\xbd towards \\r\\n\\t\\tagreement on further Annex I commitments. Many delegates seemed \\r\\n\\t\\tsatisfied at the result, and those not involved in the final small group \\r\\n\\t\\tnegotiations that finalized the deal will likely be poring over the \\r\\n\\t\\tdocument Friday morning. According to the late night talk in the \\r\\n\\t\\tcorridors, that small group did not include the major non-parties to the \\r\\n\\t\\tProtocol, but did include other big emitters from both Annex I and \\r\\n\\t\\tnon-Annex I. </font></p>, <p align=\"justify\"></p>, <p><span style=\"font-family: Verdana\"><font size=\"2\">\\r\\n\\t\\tENB SUMMARY AND ANALYSIS:</font></span></p>]\nIssue  305\n"
    }
   ],
   "source": [
    "p = extract_paragraphes_from_issue(305)\n",
    ""
   ]
  },
  {
   "cell_type": "code",
   "execution_count": null,
   "metadata": {},
   "outputs": [],
   "source": []
  }
 ]
}