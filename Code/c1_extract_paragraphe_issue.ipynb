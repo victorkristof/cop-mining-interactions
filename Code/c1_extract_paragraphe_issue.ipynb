{
 "nbformat": 4,
 "nbformat_minor": 2,
 "metadata": {
  "language_info": {
   "name": "python",
   "codemirror_mode": {
    "name": "ipython",
    "version": 3
   },
   "version": "3.7.4-final"
  },
  "orig_nbformat": 2,
  "file_extension": ".py",
  "mimetype": "text/x-python",
  "name": "python",
  "npconvert_exporter": "python",
  "pygments_lexer": "ipython3",
  "version": 3,
  "kernelspec": {
   "name": "python37664bit162d60da764a43dc83edcb73a443ab01",
   "display_name": "Python 3.7.6 64-bit"
  }
 },
 "cells": [
  {
   "cell_type": "markdown",
   "metadata": {},
   "source": [
    "# c1_extract_paragraphes_issues\n",
    "From the list_meetings.csv extract all the paragraphes in the html page for each issues and create a file paragraphes.txt with it "
   ]
  },
  {
   "cell_type": "code",
   "execution_count": 1,
   "metadata": {},
   "outputs": [],
   "source": [
    "import urllib\n",
    "from urllib.request import urlopen\n",
    "import re\n",
    "from bs4 import BeautifulSoup\n",
    "from dateutil.parser import parse\n",
    "import csv\n",
    "import numpy as np\n",
    "import requests\n",
    "import html5lib\n",
    "import urllib.request, urllib.error"
   ]
  },
  {
   "cell_type": "code",
   "execution_count": 2,
   "metadata": {},
   "outputs": [],
   "source": [
    "def write_paragraphe(number, paragraphes):\n",
    "    \"\"\" Write \"paragraphes\" into a file paragraphes+number.txt. \"\"\"\n",
    "    paragraphes = list(set(paragraphes))\n",
    "    # generate list_p_tags.txt file\n",
    "    outF = open(\"paragraphes\"+str(number)+\".txt\", \"w\")\n",
    "    for line in paragraphes:\n",
    "        outF.write(str(line))\n",
    "        outF.write(\"\\n\")\n",
    "    outF.close()"
   ]
  },
  {
   "cell_type": "code",
   "execution_count": 3,
   "metadata": {},
   "outputs": [],
   "source": [
    "def remove_unwanted_p(paragraphes):\n",
    "    \"\"\" Remove all the text into paragraphes that is no needed.\"\"\"\n",
    "    paragraphes = [p.replace('<p align=\"justify\">','') for p in paragraphes]\n",
    "    paragraphes = [p.replace('<p align=\"CENTER\">','') for p in paragraphes] \n",
    "    #paragraphes = [re.sub('<strong>.+</strong>',' ',str(p)) for p in paragraphes]\n",
    "    paragraphes = [re.sub('<p align=\"justify\" class=\"ENB-Body\">','',p) for p in paragraphes]\n",
    "    paragraphes = [re.sub('<font face=\"Verdana\" size=\"2\">','',p) for p in paragraphes]\n",
    "    paragraphes = [re.sub(r'<font.*?>','',p) for p in paragraphes]\n",
    "    paragraphes = [re.sub(r'<a.*?>','',p) for p in paragraphes]\n",
    "    paragraphes = [re.sub(r'<.*?>','',p) for p in paragraphes]\n",
    "    #paragraphes = [p for p in paragraphes if not p.isupper()] \n",
    "    return paragraphes"
   ]
  },
  {
   "cell_type": "code",
   "execution_count": 4,
   "metadata": {},
   "outputs": [],
   "source": [
    "def find_bad_html(page_string):\n",
    "    paragraphes = re.split(r'<p>|</p>|<b>|</b>|<p ',page_string)\n",
    "    start = \"<p>\"\n",
    "    end = \"</p>\"\n",
    "    page_string = [start+ p+ end for p in paragraphes]\n",
    "    return page_string"
   ]
  },
  {
   "cell_type": "code",
   "execution_count": 5,
   "metadata": {},
   "outputs": [],
   "source": [
    "def clean_page_to_parse(page_string):\n",
    "    page_string = find_bad_html(str(page_string))\n",
    "    \"\"\" Remove comment at the beginning of the hml and also put the <html> tag in lowercase and <b> tags to be able to collect all paragraphes. \"\"\"\n",
    "    page_string = re.sub('<!-- WWW Designer Jeff Anderson janderson@iisd.ca --!>','',str(page_string))\n",
    "    page_string = re.sub('<!-- WWW Designer Jeff Anderson janderson@iisd.ca --!>','',str(page_string))\n",
    "    page_string = re.sub('<!-- WWW design Jeff Anderson janderson@iisd.ca ---!>','',str(page_string))\n",
    "    page_string = re.sub(\"<!--.*?<html\", '<html', page_string, flags=re.MULTILINE)\n",
    "\n",
    "    page_string = re.sub(r'<HTML>',r'<html>',str(page_string))\n",
    "    page_string = re.sub(r'</HTML>',r'</html>',str(page_string))\n",
    "\n",
    "    return bytes(page_string,'utf-8')\n",
    ""
   ]
  },
  {
   "cell_type": "code",
   "execution_count": 6,
   "metadata": {},
   "outputs": [],
   "source": [
    "def remove_special_char(p):\n",
    "    \"\"\" Remove special char to be able to detect easier sentences. \"\"\"\n",
    "    s = p.replace(\"\\r\",\" \")\n",
    "    s = s.replace(r'\\x',\" \")\n",
    "    s = s.replace(\"\\n\",\" \")\n",
    "    s = s.replace(\"\\t\",\" \")\n",
    "    s = s.replace(\"\\\\x\",\" \")\n",
    "    s = s.replace(\"\\\\r\",\" \")\n",
    "    s = s.replace(\"\\\\n\",\" \")\n",
    "    s = s.replace(\"\\\\t\",\" \")\n",
    "    s = s.replace(\"\\\\\",\" \")\n",
    "    q = re.compile('\\s\\s+')\n",
    "    p = re.compile('\\n\\n+')\n",
    "    s = q.sub(' ',s)\n",
    "    s = p.sub(' ',s)\n",
    "    #s = re.split('<p>',s)\n",
    "    return s"
   ]
  },
  {
   "cell_type": "code",
   "execution_count": 7,
   "metadata": {},
   "outputs": [],
   "source": [
    "def remove_footer(paragraphes):\n",
    "    \"\"\" Remove footer of the page with conditions. \"\"\"\n",
    "    k = len(paragraphes)\n",
    "    for i in range(len(paragraphes)):\n",
    "        if('IN THE CORRIDORS' in paragraphes[i] or 'THINGS TO LOOK'  in paragraphes[i] or 'This issue of' in paragraphes[i]  or 'BRIEF ANALYSIS OF' in paragraphes[i]):\n",
    "            k=i\n",
    "            break\n",
    "\n",
    "    return paragraphes[:k]"
   ]
  },
  {
   "cell_type": "code",
   "execution_count": 8,
   "metadata": {},
   "outputs": [],
   "source": [
    "def extract_p_tags(html_link):\n",
    "    \"\"\" Extract the <p> tag from a specific html link. \"\"\"\n",
    "    #Parse the page \n",
    "    page = urlopen(html_link).read()\n",
    "    page = clean_page_to_parse(page)\n",
    "    soup = soup = BeautifulSoup(page, 'html.parser')\n",
    "\n",
    "    list_tp = soup.find_all('p',recursive=False)\n",
    "    if(len(list_tp) == 0):\n",
    "\n",
    "        x = \".\"\n",
    "        list_tp = list(soup.find_all('p'))\n",
    "    #Extract all the text and remove undesired paragraphes\n",
    "    list_tp2 = []\n",
    "    for p in list_tp:\n",
    "        list_tp2 += re.split('<p>',remove_special_char(str(p)))\n",
    "    list_tp = remove_footer(list_tp2)\n",
    "    # Remove titles and sentences all in uppercase\n",
    "    list_tp = remove_unwanted_p(list_tp)\n",
    "    return list_tp"
   ]
  },
  {
   "cell_type": "code",
   "execution_count": 9,
   "metadata": {},
   "outputs": [],
   "source": [
    "def extract_p_tags_411(html_link):\n",
    "    \"\"\" Extract the <p> tag from a specific html link. \"\"\"\n",
    "    #Parse the page \n",
    "    page = urlopen(html_link).read()\n",
    "    page = clean_page_to_parse(page)\n",
    "    soup = soup = BeautifulSoup(page, 'html.parser')\n",
    "\n",
    "    list_tp = soup.find_all('td',recursive=False)\n",
    "    if(len(list_tp) == 0):\n",
    "\n",
    "        x = \".\"\n",
    "        list_tp = list(soup.find_all('td'))\n",
    "    #Extract all the text and remove undesired paragraphes\n",
    "    list_tp2 = []\n",
    "    \n",
    "    for p in list_tp:\n",
    "        list_tp2 += re.split(r'<br/><br/>|<br /><br />',remove_special_char(str(p)))\n",
    "    list_tp = remove_footer(list_tp2)\n",
    "    # Remove titles and sentences all in uppercase\n",
    "    list_tp = remove_unwanted_p(list_tp)\n",
    "    return list_tp"
   ]
  },
  {
   "cell_type": "code",
   "execution_count": 10,
   "metadata": {},
   "outputs": [],
   "source": [
    "def extract_p_tags_45(html_link):\n",
    "    \"\"\" Extract <p> tags from link inside \"html_link\" for Issue# <45. \"\"\"\n",
    "    page_link = urllib.request.urlopen(html_link).read()\n",
    "    soup_link = BeautifulSoup(page_link)\n",
    "    paragraphes = soup_link.findAll('a',href = re.compile('\\d+'))\n",
    "    list_tp = []\n",
    "\n",
    "    for pa in paragraphes:\n",
    "        # doesn't use the link of the main page (all issues)\n",
    "        if(pa['href'] != '1200000e.html'):\n",
    "            html_link = 'https://enb.iisd.org/vol12/'+pa['href']\n",
    "            list_tp += extract_p_tags(html_link)\n",
    "\n",
    "    return list_tp\n",
    ""
   ]
  },
  {
   "cell_type": "code",
   "execution_count": 11,
   "metadata": {},
   "outputs": [],
   "source": [
    "#Extract from \"csv_file\" all the html link to be able to extract all the <p> tags\n",
    "def extract_from_csv_list_issues(csv_file):\n",
    "    \"\"\" Extract from \"csv_file\" all the html link to be able to extract all the <p> tags. \"\"\"\n",
    "    f = open(csv_file)\n",
    "    csv_f = csv.reader(f)\n",
    "    list_pt = []\n",
    "    return list(csv_f)[1:]"
   ]
  },
  {
   "cell_type": "code",
   "execution_count": 12,
   "metadata": {},
   "outputs": [],
   "source": [
    "def extract_paragraphes_from_issue(number):\n",
    "    \"\"\" Extract from \"csv_file\" all the html link to be able to extract all the <p> tags from issue number. \"\"\"\n",
    "    list_meetings = extract_from_csv_list_issues('list_meetings.csv')\n",
    "    for i in range(len(list_meetings)) :\n",
    "        if(int(list_meetings[i][4])== number):\n",
    "            line = list_meetings[i]\n",
    "            break\n",
    "    \n",
    "    #Extract for 0 < Issue# < 45 \n",
    "    if(number < 45 ):\n",
    "        list_pt = extract_p_tags_45(line[6])\n",
    "\n",
    "    #Extract for 66 < Issue# < 775\n",
    "    else :\n",
    "        list_pt = []\n",
    "        url = list_meetings[number-2][6]\n",
    "        request = requests.get(url)\n",
    "        if(number != 175 and number != 300 and request.status_code == 200):\n",
    "            if(411 <= number and number <= 420):\n",
    "                list_pt = extract_p_tags_411(line[6])\n",
    "            else:\n",
    "                list_pt = extract_p_tags(line[6])\n",
    "\n",
    "\n",
    "    #write_paragraphe(number, list_pt)\n",
    "    print('Issue ',number)\n",
    "    return list(set(list_pt))"
   ]
  },
  {
   "cell_type": "code",
   "execution_count": 13,
   "metadata": {
    "tags": [
     "outputPrepend"
    ]
   },
   "outputs": [],
   "source": [
    "#extract_paragraphes_from_issue(313)"
   ]
  },
  {
   "cell_type": "code",
   "execution_count": null,
   "metadata": {},
   "outputs": [],
   "source": []
  }
 ]
}