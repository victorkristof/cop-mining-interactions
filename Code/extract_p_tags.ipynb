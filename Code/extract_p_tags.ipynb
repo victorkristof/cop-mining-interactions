{
 "nbformat": 4,
 "nbformat_minor": 2,
 "metadata": {
  "language_info": {
   "name": "python",
   "codemirror_mode": {
    "name": "ipython",
    "version": 3
   },
   "version": "3.7.3-final"
  },
  "orig_nbformat": 2,
  "file_extension": ".py",
  "mimetype": "text/x-python",
  "name": "python",
  "npconvert_exporter": "python",
  "pygments_lexer": "ipython3",
  "version": 3,
  "kernelspec": {
   "name": "python37664bit9d5a6365487849299c5de4ddf449b4f4",
   "display_name": "Python 3.7.6 64-bit"
  }
 },
 "cells": [
  {
   "cell_type": "code",
   "execution_count": 8,
   "metadata": {},
   "outputs": [],
   "source": [
    "import urllib.request\n",
    "import re\n",
    "from bs4 import BeautifulSoup\n",
    "from dateutil.parser import parse\n",
    "import csv\n",
    "import pandas as pd\n",
    "import requests"
   ]
  },
  {
   "cell_type": "code",
   "execution_count": 9,
   "metadata": {},
   "outputs": [],
   "source": [
    "#Extract the all the new url inside html_link \n",
    "def extract_p_tags_45(html_link):\n",
    "    page_link = urllib.request.urlopen(html_link).read()\n",
    "    soup_link = BeautifulSoup(page_link)\n",
    "    paragraphes = soup_link.findAll('a',href = re.compile('\\d+'))\n",
    "    list_tp = []\n",
    "\n",
    "    for pa in paragraphes:\n",
    "        # doesn't use the link of the main page (all issues)\n",
    "        if(pa['href'] != '1200000e.html'):\n",
    "            html_link = 'https://enb.iisd.org/vol12/'+pa['href']\n",
    "            list_tp += extract_p_tags_rest(html_link)\n",
    "\n",
    "    return list_tp\n"
   ]
  },
  {
   "cell_type": "code",
   "execution_count": 10,
   "metadata": {},
   "outputs": [],
   "source": [
    "def extract_p_tags_66(html_link):\n",
    "    page = urllib.request.urlopen(html_link).read()\n",
    "\n",
    "    page_string = re.sub('<!-- WWW Designer Jeff Anderson janderson@iisd.ca --!>','',str(page))\n",
    "    #expression regulière pour enelevr dans les tags \n",
    "    page_string = re.sub('<!-- www design jeff anderson janderson@iisd.ca ---!>','',str(page_string).lower())\n",
    " \n",
    "    soup = BeautifulSoup(page_string,'html.parser')\n",
    "    list_tp = soup.find_all('p')\n",
    "    #s =b'<!DOCTYPE html PUBLIC \"-//W3C//DTD XHTML 1.0 Transitional//EN\"\"http://www.w3.org/TR/xhtml1/DTD/xhtml1-transitional.dtd\">\\n'\n",
    "    return list_tp"
   ]
  },
  {
   "cell_type": "code",
   "execution_count": 11,
   "metadata": {},
   "outputs": [],
   "source": [
    "#Extract the <p> tag from a specific html link\n",
    "def extract_p_tags_rest(html_link):\n",
    "    page = urllib.request.urlopen(html_link).read()\n",
    "    soup = BeautifulSoup(page,'html.parser')\n",
    "    list_tp = soup.find_all('p')\n",
    "    return list_tp"
   ]
  },
  {
   "cell_type": "code",
   "execution_count": 12,
   "metadata": {},
   "outputs": [],
   "source": [
    "def extract_from_csv_p_tags(csv_file):\n",
    "    f = open(csv_file)\n",
    "    csv_f = csv.reader(f)\n",
    "    k=0\n",
    "    list_pt = []\n",
    "    for row in csv_f:\n",
    "\n",
    "        #Extract for 0 < Issue# < 45 \n",
    "        if(k>0 and int(row[4]) < 45 ):\n",
    "\n",
    "            list_pt += extract_p_tags_45(row[6])\n",
    "\n",
    "\n",
    "        if(k>0 and  45 < int(row[4]) and  int(row[4]) <=66 ):\n",
    "\n",
    "            #check if URL still valid\n",
    "            print(row[6])\n",
    "            request = requests.get(row[6])\n",
    "            if(request.status_code == 200):\n",
    "                l = extract_p_tags_66(row[6])\n",
    "                list_pt += l\n",
    "\n",
    "\n",
    "        #Extract for 66 < Issue# < 775\n",
    "        if(k>0 and 66 < int(row[4]) and int(row[4]) < 775):\n",
    "\n",
    "            request = requests.get(row[6])\n",
    "            if(request.status_code == 200):\n",
    "                list_pt += extract_p_tags_rest(row[6])\n",
    "\n",
    "        k +=1\n",
    "\n",
    "    return list_pt"
   ]
  },
  {
   "cell_type": "code",
   "execution_count": 13,
   "metadata": {},
   "outputs": [],
   "source": [
    "def clean_tp(sentence_tp):\n",
    "    s = sentence_tp\n",
    "    s = re.sub(\"\\r\\n\\s+\",\" \",s)\n",
    "    s = re.sub(\"\\r\\n\",\" \",s)    \n",
    "    s = re.sub(\"<b>\",\" \",s)\n",
    "    s = re.sub(\"</b>\",\" \",s)\n",
    "    s = re.sub(\"\\n\",\" \",s)\n",
    "    s = re.sub(\"\\s\\s+\",\" \",s)\n",
    "    return s"
   ]
  },
  {
   "cell_type": "code",
   "execution_count": 14,
   "metadata": {},
   "outputs": [
    {
     "name": "stdout",
     "output_type": "stream",
     "text": "https://enb.iisd.org/vol12/enb1246e.html\nhttps://enb.iisd.org/vol12/enb1247e.html\nhttps://enb.iisd.org/vol12/enb1248e.html\nhttps://enb.iisd.org/vol12/enb1249e.html\nhttps://enb.iisd.org/vol12/enb1250e.html\nhttps://enb.iisd.org/vol12/enb1251e.html\nhttps://enb.iisd.org/vol12/enb1252e.html\nhttps://enb.iisd.org/vol12/enb1253e.html\nhttps://enb.iisd.org/vol12/enb1254e.html\nhttps://enb.iisd.org/vol12/enb1255e.html\nhttps://enb.iisd.org/vol12/enb1256e.html\nhttps://enb.iisd.org/vol12/enb1257e.html\nhttps://enb.iisd.org/vol12/enb1258e.html\nhttps://enb.iisd.org/vol12/enb1259e.html\nhttps://enb.iisd.org/vol12/enb1260e.html\nhttps://enb.iisd.org/vol12/enb1261e.html\nhttps://enb.iisd.org/vol12/enb1262e.html\nhttps://enb.iisd.org/vol12/enb1263e.html\nhttps://enb.iisd.org/vol12/enb1264e.html\nhttps://enb.iisd.org/vol12/enb1265e.html\nhttps://enb.iisd.org/vol12/enb1266e.html\n"
    }
   ],
   "source": [
    "\n",
    "list_tp = extract_from_csv_p_tags('list_meetings.csv')\n",
    "list_tp = [clean_tp(str(line)) for line in list_tp ]"
   ]
  },
  {
   "cell_type": "code",
   "execution_count": 15,
   "metadata": {},
   "outputs": [],
   "source": [
    "# generate list_p_tags.txt file\n",
    "outF = open(\"list_p_tags.txt\", \"w\")\n",
    "for line in list_tp:\n",
    "    # write line to output file\n",
    "    outF.write(str(line))\n",
    "    outF.write(\"\\n\")\n",
    "outF.close()"
   ]
  },
  {
   "cell_type": "code",
   "execution_count": 218,
   "metadata": {},
   "outputs": [],
   "source": [
    "######## EXAMPLE ######## \n",
    "#old page \n",
    "#extract_freq_countries_text('https://enb.iisd.org/vol12/enb1246e.html')\n",
    "\n",
    "#new page 1\n",
    "#extract_freq_countries_text('https://enb.iisd.org/vol12/enb1272e.html')\n",
    "\n",
    "#new page 2\n",
    "#extract_freq_countries_text('https://enb.iisd.org/vol12/enb1272e.html')"
   ]
  }
 ]
}