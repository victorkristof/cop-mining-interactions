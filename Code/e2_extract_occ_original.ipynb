{
 "nbformat": 4,
 "nbformat_minor": 2,
 "metadata": {
  "language_info": {
   "name": "python",
   "codemirror_mode": {
    "name": "ipython",
    "version": 3
   },
   "version": "3.7.4-final"
  },
  "orig_nbformat": 2,
  "file_extension": ".py",
  "mimetype": "text/x-python",
  "name": "python",
  "npconvert_exporter": "python",
  "pygments_lexer": "ipython3",
  "version": 3,
  "kernelspec": {
   "name": "python37464bitbaseconda12cc5b1983ce432e8ce1d0fc698bd97b",
   "display_name": "Python 3.7.4 64-bit ('base': conda)"
  }
 },
 "cells": [
  {
   "cell_type": "code",
   "execution_count": 2,
   "metadata": {},
   "outputs": [],
   "source": [
    "import urllib.request\n",
    "import csv"
   ]
  },
  {
   "cell_type": "code",
   "execution_count": 3,
   "metadata": {},
   "outputs": [],
   "source": [
    "def open_list_meetings():\n",
    "    f = open('statements_count.csv')\n",
    "    return csv.reader(f)"
   ]
  },
  {
   "cell_type": "code",
   "execution_count": 4,
   "metadata": {},
   "outputs": [],
   "source": [
    "def extract_entities():\n",
    "    dataset = extract_statement_count()\n",
    "    entities = set()\n",
    "    for d in dataset:\n",
    "        entities.add(d[0])\n",
    "    print(entities[0])\n",
    "    return entities"
   ]
  },
  {
   "cell_type": "code",
   "execution_count": 5,
   "metadata": {
    "tags": [
     "outputPrepend",
     "outputPrepend",
     "outputPrepend",
     "outputPrepend",
     "outputPrepend",
     "outputPrepend",
     "outputPrepend",
     "outputPrepend",
     "outputPrepend",
     "outputPrepend",
     "outputPrepend",
     "outputPrepend",
     "outputPrepend"
    ]
   },
   "outputs": [],
   "source": [
    "def extract_statement_count():\n",
    "    dataset =  open_list_meetings()\n",
    "    lines = []\n",
    "    for d in dataset:\n",
    "        if(len(d) !=0):\n",
    "            line = d[0].split('\\t')\n",
    "            lines.append((line[0],line[2],line[1]))\n",
    "    return lines"
   ]
  },
  {
   "cell_type": "code",
   "execution_count": 6,
   "metadata": {},
   "outputs": [],
   "source": [
    "def extract_occurences_issue(number):\n",
    "    dataset = extract_statement_count()\n",
    "\n",
    "    issue_count = []\n",
    "    for d in dataset:\n",
    "        if(d[2] == str(number)):\n",
    "            issue_count.append(d)\n",
    "\n",
    "    return issue_count"
   ]
  },
  {
   "cell_type": "code",
   "execution_count": 7,
   "metadata": {},
   "outputs": [
    {
     "output_type": "execute_result",
     "data": {
      "text/plain": "[('AILAC', '0', '305'),\n ('ALBA', '0', '305'),\n ('AOSIS', '0', '305'),\n ('Afghanistan', '0', '305'),\n ('African Group', '0', '305'),\n ('Albania', '0', '305'),\n ('Algeria', '0', '305'),\n ('Angola', '0', '305'),\n ('Antigua and Barbuda', '0', '305'),\n ('Arab Group', '0', '305'),\n ('Argentina', '0', '305'),\n ('Armenia', '0', '305'),\n ('Australia', '1', '305'),\n ('Austria', '0', '305'),\n ('Azerbaijan', '0', '305'),\n ('BASIC', '0', '305'),\n ('Bahamas', '0', '305'),\n ('Bahrain', '0', '305'),\n ('Bangladesh', '0', '305'),\n ('Barbados', '0', '305'),\n ('Belarus', '0', '305'),\n ('Belgium', '0', '305'),\n ('Belize', '0', '305'),\n ('Benin', '0', '305'),\n ('Bhutan', '0', '305'),\n ('Bolivia', '0', '305'),\n ('Bosnia and Herzegovina', '0', '305'),\n ('Botswana', '0', '305'),\n ('Brazil', '0', '305'),\n ('Brunei', '0', '305'),\n ('Bulgaria', '0', '305'),\n ('Burkina Faso', '0', '305'),\n ('Burundi', '0', '305'),\n ('CACAM', '0', '305'),\n ('COMIFAC', '0', '305'),\n ('Cambodia', '0', '305'),\n ('Cameroon', '0', '305'),\n ('Canada', '1', '305'),\n ('Cape Verde', '0', '305'),\n ('Cartagena Dialogue', '0', '305'),\n ('Central African Republic', '0', '305'),\n ('Central America', '0', '305'),\n ('Central Group', '0', '305'),\n ('Central Group Eleven', '0', '305'),\n ('Chad', '0', '305'),\n ('Chile', '0', '305'),\n ('China', '2', '305'),\n ('Coalition of Rainforest Nations', '0', '305'),\n ('Colombia', '0', '305'),\n ('Congo Basin Countries', '0', '305'),\n ('Congo, Democratic Rep.', '0', '305'),\n ('Congo, Republic', '0', '305'),\n ('Cook Islands', '0', '305'),\n ('Costa Rica', '0', '305'),\n (\"Cote d'Ivoire\", '0', '305'),\n ('Croatia', '1', '305'),\n ('Cuba', '0', '305'),\n ('Cyprus', '0', '305'),\n ('Czech Republic', '0', '305'),\n ('Denmark', '0', '305'),\n ('Djibouti', '0', '305'),\n ('Dominica', '0', '305'),\n ('Dominican Republic', '0', '305'),\n ('EU', '3', '305'),\n ('Ecuador', '0', '305'),\n ('Egypt', '0', '305'),\n ('El Salvador', '0', '305'),\n ('Environmental Integrity Group', '0', '305'),\n ('Equatorial Guinea', '0', '305'),\n ('Eritrea', '0', '305'),\n ('Estonia', '0', '305'),\n ('Ethiopia', '0', '305'),\n ('Fiji', '0', '305'),\n ('Finland', '0', '305'),\n ('France', '0', '305'),\n ('G77', '4', '305'),\n ('Gabon', '0', '305'),\n ('Gambia', '0', '305'),\n ('Georgia', '0', '305'),\n ('Germany', '0', '305'),\n ('Ghana', '0', '305'),\n ('Greece', '0', '305'),\n ('Grenada', '0', '305'),\n ('Group of 9', '0', '305'),\n ('Guatemala', '0', '305'),\n ('Guinea', '0', '305'),\n ('Guinea-Bissau', '0', '305'),\n ('Guyana', '0', '305'),\n ('Haiti', '0', '305'),\n ('Honduras', '0', '305'),\n ('Hungary', '0', '305'),\n ('Iceland', '0', '305'),\n ('India', '0', '305'),\n ('Indonesia', '0', '305'),\n ('Iran', '0', '305'),\n ('Iraq', '0', '305'),\n ('Ireland', '0', '305'),\n ('Israel', '0', '305'),\n ('Italy', '0', '305'),\n ('JUSCANZ', '0', '305'),\n ('Jamaica', '0', '305'),\n ('Japan', '1', '305'),\n ('Jordan', '0', '305'),\n ('Kazakhstan', '0', '305'),\n ('Kenya', '0', '305'),\n ('Kiribati', '0', '305'),\n ('Korea, Republic', '0', '305'),\n ('Kuwait', '0', '305'),\n ('Kyrgyz Republic', '0', '305'),\n ('LDCs', '1', '305'),\n ('Like Minded Developing Countries', '0', '305'),\n ('Lao PDR', '0', '305'),\n ('Latvia', '0', '305'),\n ('Lebanon', '0', '305'),\n ('Lesotho', '0', '305'),\n ('Liberia', '0', '305'),\n ('Libya', '0', '305'),\n ('Liechtenstein', '0', '305'),\n ('Lithuania', '0', '305'),\n ('Luxembourg', '0', '305'),\n ('Macedonia', '0', '305'),\n ('Madagascar', '0', '305'),\n ('Malawi', '0', '305'),\n ('Malaysia', '0', '305'),\n ('Maldives', '0', '305'),\n ('Mali', '0', '305'),\n ('Malta', '0', '305'),\n ('Marshall Islands', '0', '305'),\n ('Mauritania', '0', '305'),\n ('Mauritius', '1', '305'),\n ('Mexico', '0', '305'),\n ('Micronesia', '0', '305'),\n ('Moldova', '0', '305'),\n ('Monaco', '0', '305'),\n ('Mongolia', '0', '305'),\n ('Morocco', '0', '305'),\n ('Mountain Landlocked Developing Countries', '0', '305'),\n ('Mozambique', '0', '305'),\n ('Myanmar', '0', '305'),\n ('Namibia', '0', '305'),\n ('Nauru', '0', '305'),\n ('Nepal', '0', '305'),\n ('Netherlands', '0', '305'),\n ('New Zealand', '0', '305'),\n ('Nicaragua', '0', '305'),\n ('Niger', '0', '305'),\n ('Nigeria', '0', '305'),\n ('Niue', '0', '305'),\n ('Korea, Democratic Rep.', '0', '305'),\n ('Norway', '3', '305'),\n ('OECD', '0', '305'),\n ('OPEC', '0', '305'),\n ('Oman', '0', '305'),\n ('Pakistan', '0', '305'),\n ('Palau', '0', '305'),\n ('Palestine', '0', '305'),\n ('Panama', '0', '305'),\n ('Papua New Guinea', '0', '305'),\n ('Paraguay', '0', '305'),\n ('Peru', '0', '305'),\n ('Philippines', '0', '305'),\n ('Poland', '0', '305'),\n ('Portugal', '0', '305'),\n ('Qatar', '0', '305'),\n ('Romania', '0', '305'),\n ('Russian Federation', '1', '305'),\n ('Rwanda', '0', '305'),\n ('SICA', '0', '305'),\n ('Samoa', '0', '305'),\n ('Saudi Arabia', '4', '305'),\n ('Senegal', '0', '305'),\n ('Serbia and Montenegro', '0', '305'),\n ('Seychelles', '0', '305'),\n ('Sierra Leone', '0', '305'),\n ('Singapore', '0', '305'),\n ('Slovak Republic', '0', '305'),\n ('Slovenia', '0', '305'),\n ('Solomon Islands', '0', '305'),\n ('South Africa', '0', '305'),\n ('South Sudan', '0', '305'),\n ('Spain', '0', '305'),\n ('Sri Lanka', '0', '305'),\n ('St. Lucia', '0', '305'),\n ('St. Vincent and the Grenadines', '0', '305'),\n ('Sudan', '0', '305'),\n ('Suriname', '0', '305'),\n ('Swaziland', '0', '305'),\n ('Sweden', '0', '305'),\n ('Switzerland', '2', '305'),\n ('Syrian Arab Republic', '0', '305'),\n ('Tajikistan', '0', '305'),\n ('Tanzania', '0', '305'),\n ('Thailand', '0', '305'),\n ('Timor-Leste', '0', '305'),\n ('Togo', '0', '305'),\n ('Tonga', '0', '305'),\n ('Trinidad and Tobago', '0', '305'),\n ('Tunisia', '0', '305'),\n ('Turkey', '0', '305'),\n ('Turkmenistan', '0', '305'),\n ('Tuvalu', '1', '305'),\n ('Uganda', '0', '305'),\n ('Ukraine', '1', '305'),\n ('Umbrella Group', '0', '305'),\n ('United Arab Emirates', '0', '305'),\n ('United Kingdom', '1', '305'),\n ('United States', '1', '305'),\n ('Uruguay', '0', '305'),\n ('Uzbekistan', '0', '305'),\n ('Vanuatu', '0', '305'),\n ('Venezuela', '0', '305'),\n ('Vietnam', '0', '305'),\n ('Visegrad Group', '0', '305'),\n ('Yemen', '0', '305'),\n ('Yugoslavia', '0', '305'),\n ('Zambia', '0', '305'),\n ('Zimbabwe', '0', '305'),\n ('Southern Africa Development Community', '0', '305'),\n ('Caribbean Community', '0', '305'),\n ('EITs', '0', '305'),\n ('Somalia', '0', '305'),\n ('Comoros', '0', '305')]"
     },
     "metadata": {},
     "execution_count": 7
    }
   ],
   "source": [
    "extract_occurences_issue(305)"
   ]
  },
  {
   "cell_type": "code",
   "execution_count": null,
   "metadata": {},
   "outputs": [],
   "source": []
  }
 ]
}