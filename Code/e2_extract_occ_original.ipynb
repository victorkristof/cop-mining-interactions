{
 "cells": [
  {
   "cell_type": "markdown",
   "metadata": {},
   "source": [
    "# e2_extract_occ_original\n",
    "From the file statement_counts.csv, find the number of invertions of each entity for one issue."
   ]
  },
  {
   "cell_type": "code",
   "execution_count": 3,
   "metadata": {},
   "outputs": [],
   "source": [
    "import urllib.request\n",
    "import csv"
   ]
  },
  {
   "cell_type": "code",
   "execution_count": 4,
   "metadata": {
    "tags": [
     "outputPrepend",
     "outputPrepend",
     "outputPrepend",
     "outputPrepend",
     "outputPrepend",
     "outputPrepend",
     "outputPrepend",
     "outputPrepend",
     "outputPrepend",
     "outputPrepend",
     "outputPrepend",
     "outputPrepend",
     "outputPrepend"
    ]
   },
   "outputs": [],
   "source": [
    "def extract_statement_count():\n",
    "    f = open('Text/statements_count.csv')\n",
    "    dataset =  csv.reader(f)\n",
    "    lines = []\n",
    "    for d in dataset:\n",
    "        if(len(d) !=0):\n",
    "            line = d[0].split('\\t')\n",
    "            lines.append((line[0],line[2],line[1]))\n",
    "    return lines"
   ]
  },
  {
   "cell_type": "code",
   "execution_count": 6,
   "metadata": {},
   "outputs": [],
   "source": [
    "def extract_occurences_issue(number):\n",
    "    dataset = extract_statement_count()\n",
    "\n",
    "    issue_count = []\n",
    "    for d in dataset:\n",
    "        if(d[2] == str(number)):\n",
    "            issue_count.append(d)\n",
    "\n",
    "    return issue_count"
   ]
  },
  {
   "cell_type": "code",
   "execution_count": 7,
   "metadata": {},
   "outputs": [],
   "source": [
    "def extract_entities():\n",
    "    dataset = extract_statement_count()\n",
    "    entities = set()\n",
    "    for d in dataset:\n",
    "        entities.add(d[0])\n",
    "    print(entities[0])\n",
    "    return entities"
   ]
  },
  {
   "cell_type": "code",
   "execution_count": 8,
   "metadata": {},
   "outputs": [],
   "source": [
    "def extract_relationships_count(issue_number):\n",
    "    f = open('Text/ENB_relationships.csv')\n",
    "    dataset =  csv.reader(f)\n",
    "    k = 0\n",
    "    data = []\n",
    "    for d in dataset:\n",
    "        if(k == 0):\n",
    "            data.append(d[0].split('\\t')[3:24])\n",
    "        k +=1\n",
    "        if(len(d[0].split('\\t')) > 23 and d[0].split('\\t')[23] == str(issue_number)):\n",
    "            data.append(d[0].split('\\t')[3:24])\n",
    "    return data\n"
   ]
  },
  {
   "cell_type": "code",
   "execution_count": 56,
   "metadata": {
    "tags": [
     "outputPrepend",
     "outputPrepend",
     "outputPrepend",
     "outputPrepend",
     "outputPrepend",
     "outputPrepend",
     "outputPrepend",
     "outputPrepend",
     "outputPrepend",
     "outputPrepend",
     "outputPrepend",
     "outputPrepend",
     "outputPrepend",
     "outputPrepend",
     "outputPrepend",
     "outputPrepend",
     "outputPrepend",
     "outputPrepend",
     "outputPrepend",
     "outputPrepend",
     "outputPrepend",
     "outputPrepend",
     "outputPrepend",
     "outputPrepend",
     "outputPrepend",
     "outputPrepend",
     "outputPrepend"
    ]
   },
   "outputs": [],
   "source": []
  },
  {
   "cell_type": "code",
   "execution_count": null,
   "metadata": {},
   "outputs": [],
   "source": []
  }
 ],
 "metadata": {
  "language_info": {
   "name": "python",
   "codemirror_mode": {
    "name": "ipython",
    "version": 3
   },
   "version": "3.7.4-final"
  },
  "orig_nbformat": 2,
  "file_extension": ".py",
  "mimetype": "text/x-python",
  "name": "python",
  "npconvert_exporter": "python",
  "pygments_lexer": "ipython3",
  "version": 3,
  "kernelspec": {
   "name": "python37464bitbaseconda4f5c7516ebd241a4b21307bc10feeff0",
   "display_name": "Python 3.7.4 64-bit ('base': conda)"
  }
 },
 "nbformat": 4,
 "nbformat_minor": 2
}