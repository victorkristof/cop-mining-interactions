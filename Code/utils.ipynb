{
 "nbformat": 4,
 "nbformat_minor": 2,
 "metadata": {
  "language_info": {
   "name": "python",
   "codemirror_mode": {
    "name": "ipython",
    "version": 3
   }
  },
  "orig_nbformat": 2,
  "file_extension": ".py",
  "mimetype": "text/x-python",
  "name": "python",
  "npconvert_exporter": "python",
  "pygments_lexer": "ipython3",
  "version": 3
 },
 "cells": [
  {
   "cell_type": "code",
   "execution_count": null,
   "metadata": {},
   "outputs": [],
   "source": [
    "import urllib.request\n",
    "import re\n",
    "from bs4 import BeautifulSoup\n",
    "from dateutil.parser import parse\n",
    "import csv\n",
    "import pandas as pd\n",
    "import requests"
   ]
  },
  {
   "cell_type": "code",
   "execution_count": null,
   "metadata": {},
   "outputs": [],
   "source": [
    "#Create a set of all the countries\n",
    "def extract_set_countries():\n",
    "\n",
    "    url = 'https://www.britannica.com/topic/list-of-countries-1993160'\n",
    "    page = urllib.request.urlopen(url).read()\n",
    "    soup = BeautifulSoup(page)\n",
    "    \n",
    "    countries = {}\n",
    "    for link in soup.findAll('a',href=re.compile(\"https://www.britannica.com/place/\")):\n",
    "        c = re.sub(\"https://www.britannica.com/place/\", '',link.get('href'))\n",
    "        countries.add(c)\n",
    "    \n",
    "    return countries"
   ]
  },
  {
   "cell_type": "code",
   "execution_count": null,
   "metadata": {},
   "outputs": [],
   "source": [
    "#Create a dictionary with all the party groupings\n",
    "dict_party = {  'Umbrella Group':['Australia', ' Belarus', ' Canada', ' Iceland', ' Israel', ' Japan', ' New Zealand', ' Kazakhstan', ' Norway', ' the Russian Federation','Ukraine', ' United States'\n",
    "]}"
   ]
  },
  {
   "cell_type": "code",
   "execution_count": null,
   "metadata": {},
   "outputs": [],
   "source": [
    "def remove_char(rem_char,list):\n",
    "    x = ''\n",
    "    string = x.join(list).split(rem_char)\n",
    "    return x.join(string).split('\\s\\s+')"
   ]
  },
  {
   "cell_type": "code",
   "execution_count": null,
   "metadata": {},
   "outputs": [],
   "source": [
    "def remove_cells(char_remove,list):\n",
    "    result = []\n",
    "    for item in list:\n",
    "        if item != char_remove:\n",
    "            result.append(item)\n",
    "    return result"
   ]
  }
 ]
}