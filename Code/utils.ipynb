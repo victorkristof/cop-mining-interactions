{
 "nbformat": 4,
 "nbformat_minor": 2,
 "metadata": {
  "language_info": {
   "name": "python",
   "codemirror_mode": {
    "name": "ipython",
    "version": 3
   },
   "version": "3.7.4-final"
  },
  "orig_nbformat": 2,
  "file_extension": ".py",
  "mimetype": "text/x-python",
  "name": "python",
  "npconvert_exporter": "python",
  "pygments_lexer": "ipython3",
  "version": 3,
  "kernelspec": {
   "name": "python37464bitbaseconda12cc5b1983ce432e8ce1d0fc698bd97b",
   "display_name": "Python 3.7.4 64-bit ('base': conda)"
  }
 },
 "cells": [
  {
   "cell_type": "markdown",
   "metadata": {},
   "source": [
    "# utils\n",
    "File to help to construct functions (will e removed at the end of the project)"
   ]
  },
  {
   "cell_type": "code",
   "execution_count": 2,
   "metadata": {},
   "outputs": [],
   "source": [
    "import urllib.request\n",
    "import re\n",
    "from bs4 import BeautifulSoup\n",
    "from dateutil.parser import parse\n",
    "import csv\n",
    "import pandas as pd\n",
    "import requests\n",
    "from nltk import sent_tokenize\n",
    "from nltk import word_tokenize\n",
    "from nltk.tag import StanfordNERTagger\n",
    "from nltk.tokenize import MWETokenizer"
   ]
  },
  {
   "cell_type": "code",
   "execution_count": 3,
   "metadata": {},
   "outputs": [],
   "source": [
    "#Create a set of all the countries\n",
    "def extract_set_countries():\n",
    "\n",
    "    url = 'https://www.britannica.com/topic/list-of-countries-1993160'\n",
    "    page = urllib.request.urlopen(url).read()\n",
    "    soup = BeautifulSoup(page)\n",
    "    \n",
    "    countries = {}\n",
    "    for link in soup.findAll('a',href=re.compile(\"https://www.britannica.com/place/\")):\n",
    "        c = re.sub(\"https://www.britannica.com/place/\", '',link.get('href'))\n",
    "        countries.add(c)\n",
    "    \n",
    "    return countries"
   ]
  },
  {
   "cell_type": "code",
   "execution_count": 4,
   "metadata": {},
   "outputs": [],
   "source": [
    "#Create a dictionary with all the party groupings\n",
    "dict_party = {  'Umbrella Group':['Australia', ' Belarus', ' Canada', ' Iceland', ' Israel', ' Japan', ' New Zealand', ' Kazakhstan', ' Norway', ' the Russian Federation','Ukraine', ' United States'\n",
    "]}"
   ]
  },
  {
   "cell_type": "code",
   "execution_count": 5,
   "metadata": {},
   "outputs": [],
   "source": [
    "def remove_char(rem_char,list):\n",
    "    x = ''\n",
    "    string = x.join(list).split(rem_char)\n",
    "    return x.join(string).split('\\s\\s+')"
   ]
  },
  {
   "cell_type": "code",
   "execution_count": 6,
   "metadata": {},
   "outputs": [],
   "source": [
    "def remove_cells(char_remove,list):\n",
    "    result = []\n",
    "    for item in list:\n",
    "        if item != char_remove:\n",
    "            result.append(item)\n",
    "    return result"
   ]
  },
  {
   "cell_type": "code",
   "execution_count": null,
   "metadata": {},
   "outputs": [],
   "source": [
    "# Check if a specific word p1 in parenthesis equals to s \n",
    "def in_parenthesis(p1,s):\n",
    "    p1 = '('+p1+')'\n",
    "    if(p1 ==s or p1.upper() ==s  or p1.lower() == s):\n",
    "        return 1 \n",
    "    else:\n",
    "        return 0"
   ]
  },
  {
   "cell_type": "code",
   "execution_count": 4,
   "metadata": {},
   "outputs": [
    {
     "output_type": "stream",
     "name": "stdout",
     "text": "['COSTA RICA', 'UNDP/GEF']\n"
    }
   ],
   "source": [
    "tokens_countries = [(r'[A-Z]+',r'[A-Z]+')]\n",
    "string = \" He also suggested the compilation of a roster of individuals available to respond to technical questions COSTA RICA has completed its inventory with UNDP/GEF assistance and is conducting a vulnerability assessment focused on coastal agriculture and water resources.\"\n",
    "\n",
    "new_s = [' '.join(b) for a, b in itertools.groupby(string.split(), key=str.isupper) if a]\n",
    "\n",
    "print(new_s)"
   ]
  },
  {
   "cell_type": "code",
   "execution_count": null,
   "metadata": {},
   "outputs": [],
   "source": []
  }
 ]
}