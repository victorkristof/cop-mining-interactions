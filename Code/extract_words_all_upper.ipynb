{
 "nbformat": 4,
 "nbformat_minor": 2,
 "metadata": {
  "language_info": {
   "name": "python",
   "codemirror_mode": {
    "name": "ipython",
    "version": 3
   },
   "version": "3.7.4-final"
  },
  "orig_nbformat": 2,
  "file_extension": ".py",
  "mimetype": "text/x-python",
  "name": "python",
  "npconvert_exporter": "python",
  "pygments_lexer": "ipython3",
  "version": 3,
  "kernelspec": {
   "name": "python37664bitdc492750459a4915aed0fa5b4b3f43c4",
   "display_name": "Python 3.7.6 64-bit"
  }
 },
 "cells": [
  {
   "cell_type": "code",
   "execution_count": 1,
   "metadata": {},
   "outputs": [],
   "source": [
    "import urllib.request\n",
    "import re\n",
    "from bs4 import BeautifulSoup\n",
    "from dateutil.parser import parse\n",
    "import csv\n",
    "import pandas as pd\n",
    "import requests\n",
    "import numpy as np\n",
    "import nltk\n",
    "from nltk import sent_tokenize\n",
    "from nltk import word_tokenize\n",
    "from nltk.tag import StanfordNERTagger\n",
    "from nltk.tokenize import MWETokenizer"
   ]
  },
  {
   "cell_type": "code",
   "execution_count": 2,
   "metadata": {},
   "outputs": [],
   "source": [
    "#Create a set of all the countries\n",
    "def extract_token_countries():\n",
    "\n",
    "    url = 'https://www.britannica.com/topic/list-of-countries-1993160'\n",
    "    page = urllib.request.urlopen(url).read()\n",
    "    soup = BeautifulSoup(page)\n",
    "    \n",
    "    countries = []\n",
    "    for link in soup.findAll('a',href=re.compile(\"https://www.britannica.com/place/\")):\n",
    "        c = re.sub(\"https://www.britannica.com/place/\", '',link.get('href'))\n",
    "        list_c = (str(c.upper())).split('-')\n",
    "\n",
    "        countries.append(list_c)\n",
    "    \n",
    "    return countries"
   ]
  },
  {
   "cell_type": "code",
   "execution_count": 3,
   "metadata": {},
   "outputs": [],
   "source": [
    "def extract_from_txt_sentences(txt_file):\n",
    "    list_tp = open(txt_file)\n",
    "    return list_tp"
   ]
  },
  {
   "cell_type": "code",
   "execution_count": 4,
   "metadata": {},
   "outputs": [],
   "source": [
    "#clean a sentence before processing it to find the desired words\n",
    "def clean_sentence(sentence):\n",
    "    s = sentence.replace(\",\",\"\")\n",
    "    s = s.replace(\".\",\"\")\n",
    "    s = s.replace(\";\", \"\")\n",
    "    s = s.replace(\":\", \"\")\n",
    "    s = s.replace(\"\\\"\", \"\")\n",
    "    return s"
   ]
  },
  {
   "cell_type": "code",
   "execution_count": 5,
   "metadata": {},
   "outputs": [],
   "source": [
    "#Find all the words who are written in uppercase\n",
    "def find_all_word_upper(sentence, tokenizer, list_upper):\n",
    "    sentence = clean_sentence(sentence)\n",
    "    tokens = tokenizer.tokenize(sentence.split())\n",
    "    for word in tokens:\n",
    "        if(word.isupper() and word not in list_upper):\n",
    "            list_upper.append(word)\n",
    "    return list_upper"
   ]
  },
  {
   "cell_type": "code",
   "execution_count": 6,
   "metadata": {},
   "outputs": [],
   "source": [
    "# Extract all the sentence with at least one word who starts with uppercase\n",
    "def extract_upper_words(sentences):\n",
    "    uppers = []\n",
    "    countries = extract_token_countries() + [(\"G-\",\"77/CHINA\"),(\"G-77/\",\"CHINA\")]\n",
    "    tokenizer = MWETokenizer(countries, separator=' ')\n",
    "    for s in sentences:\n",
    "        s = re.sub(\",\",\"\",s)\n",
    "        uppers = find_all_word_upper(s, tokenizer, uppers)\n",
    "    return uppers"
   ]
  },
  {
   "cell_type": "code",
   "execution_count": 7,
   "metadata": {},
   "outputs": [],
   "source": [
    "sentences = extract_from_txt_sentences('list_p_tags_cleaned.txt')\n",
    "\n",
    "list_words_all_upper = np.sort(extract_upper_words(sentences))\n"
   ]
  },
  {
   "cell_type": "code",
   "execution_count": 8,
   "metadata": {},
   "outputs": [],
   "source": [
    "# generate list_sentence_with_country.txt file\n",
    "outF = open(\"list_words_all_upper.txt\", \"w\")\n",
    "for line in list_words_all_upper :\n",
    "    # write line to output file\n",
    "    outF.write(line)\n",
    "    outF.write('\\n')\n",
    "outF.close()"
   ]
  },
  {
   "cell_type": "code",
   "execution_count": null,
   "metadata": {},
   "outputs": [],
   "source": []
  }
 ]
}