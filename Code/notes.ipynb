{
 "nbformat": 4,
 "nbformat_minor": 2,
 "metadata": {
  "language_info": {
   "name": "python",
   "codemirror_mode": {
    "name": "ipython",
    "version": 3
   }
  },
  "orig_nbformat": 2,
  "file_extension": ".py",
  "mimetype": "text/x-python",
  "name": "python",
  "npconvert_exporter": "python",
  "pygments_lexer": "ipython3",
  "version": 3
 },
 "cells": [
  {
   "cell_type": "code",
   "execution_count": null,
   "metadata": {},
   "outputs": [],
   "source": [
    "\n",
    "\"\"\"\n",
    "#Extract the number time each countries is written from issue > #45 \n",
    "def extract_freq_countries_text(html_link,list_sentence,dictionary):\n",
    "    # Extract all the paragraphes from the html link\n",
    "    page_link = urllib.request.urlopen(html_link).read()\n",
    "    soup_link = BeautifulSoup(page_link, 'lxml')\n",
    "    # print(soup_link)\n",
    "    f_table = soup_link.find_all('p')\n",
    "    for x in f_table:\n",
    "        print(x.text)\n",
    "    f_table = remove_cells('\\n',f_table)\n",
    "    f_table = remove_char('\\r\\n\\t',f_table)\n",
    "    f_table = remove_char('\\t',f_table)\n",
    "    f_table = remove_char('\\r\\n',f_table)\n",
    "    f_table = remove_char('. .',f_table)\n",
    "    f_table = remove_char('\\xa0A ',f_table)\n",
    "    f = (f_table[0]).split('.')\n",
    "\n",
    "    for i in range (len(f)):\n",
    "        f[i] = re.sub('\\s\\s+',\"\",f[i])\n",
    "        f[i] +=\".\"\n",
    "\n",
    "        if('CORRIDORS' in f[i] or 'Corridors' in f[i] or 'THINGS TO LOOK FOR' in f[i] or 'Earth Negotiations Bulletin' in f[i] or 'BREEZEWAYS' in f[i] or 'UPCOMING MEETINGS' in f[i] or 'enb@iisd.org' in f[i]):\n",
    "            #if('mailto:enb@iisd.org' in f_table[i]):\n",
    "            sentences = f[0:i]\n",
    "\n",
    "    for p in sentences:\n",
    "\n",
    "        for c in dictionary:\n",
    "            if (c in str(p)) or (c.lower() in str(p)) or (c.upper() in str(p)):\n",
    "                if(p not in list_sentence):\n",
    "                    list_sentence.append(p)\n",
    "\n",
    "    return list_sentence\n",
    "\"\"\""
   ]
  }
 ]
}