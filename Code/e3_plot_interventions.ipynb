{
 "nbformat": 4,
 "nbformat_minor": 2,
 "metadata": {
  "language_info": {
   "name": "python",
   "codemirror_mode": {
    "name": "ipython",
    "version": 3
   }
  },
  "orig_nbformat": 2,
  "file_extension": ".py",
  "mimetype": "text/x-python",
  "name": "python",
  "npconvert_exporter": "python",
  "pygments_lexer": "ipython3",
  "version": 3
 },
 "cells": [
  {
   "cell_type": "markdown",
   "metadata": {},
   "source": [
    "# e3_plot_interventions\n",
    "Plot the interventions for all the COP"
   ]
  },
  {
   "cell_type": "code",
   "execution_count": null,
   "metadata": {},
   "outputs": [],
   "source": [
    "import import_ipynb\n",
    "import c1_extract_paragraphe_issue as c1 \n",
    "import c2_extract_sentence_issue as c2 \n",
    "import e1_extract_occ_gen as e1\n",
    "import csv\n",
    "import numpy as np\n",
    "import pandas as pd\n",
    "import numpy as np\n",
    "import matplotlib.pyplot as plt\n",
    "import matplotlib\n",
    "import matplotlib.patches as mpatches\n",
    "import csv\n",
    "from nltk import sent_tokenize\n",
    "from nltk import word_tokenize\n",
    "from nltk.tokenize import MWETokenizer"
   ]
  },
  {
   "cell_type": "code",
   "execution_count": null,
   "metadata": {},
   "outputs": [],
   "source": [
    "def open_list_meetings():\n",
    "    \"\"\" Open the csv file that contain all the meetings. \"\"\"\n",
    "    f = open('list_meetings.csv')\n",
    "    return csv.reader(f)"
   ]
  },
  {
   "cell_type": "code",
   "execution_count": null,
   "metadata": {},
   "outputs": [],
   "source": [
    "def extract_cop():\n",
    "    \"\"\" Extract all the occurences for all the issues that are for a COP \"\"\"\n",
    "    list_cop_issues = [int(i[4]) for i in open_list_meetings() if i[0] == 'COP'and int(i[4]) > 22]\n",
    "    occurences_cops = []\n",
    "    for c in list_cop_issues:\n",
    "        p = c1.extract_paragraphes_from_issue(c)\n",
    "        s = c2.extract_from_txt_sentences(p)\n",
    "        occurences_cops += e1.extract_occurences_issue_ENB(s,c)\n",
    "    return occurences_cops"
   ]
  },
  {
   "cell_type": "code",
   "execution_count": null,
   "metadata": {},
   "outputs": [],
   "source": [
    "def find_occ_between_typos(party_name, occ_party):\n",
    "    \"\"\"Return the right occurences from occ_party with no duplicates for party_name\"\"\"\n",
    "    dict_ch = dict()\n",
    "    occ_update = []\n",
    "    list_cop_issues = [int(i[4]) for i in open_list_meetings() if i[0] == 'COP' and int(i[4]) > 22]\n",
    "    for x in list_cop_issues:\n",
    "        dict_ch[x] = []\n",
    "        for s in occ_party:\n",
    "            if(s[0] == x):\n",
    "                dict_ch[x].append(s[2])\n",
    "        dict_ch[x] = max(dict_ch[x])\n",
    "        occ_update.append((x,party_name, dict_ch[x]))\n",
    "    return occ_update"
   ]
  },
  {
   "cell_type": "code",
   "execution_count": null,
   "metadata": {},
   "outputs": [],
   "source": [
    "def extract_occ_countries(occurences_cops):\n",
    "    \"\"\"Extract occurence for Switzerland, US, China, Saudi Arabia and Tuvalu.\"\"\"\n",
    "    occ_ch = []\n",
    "    occ_us = []\n",
    "    occ_china = []\n",
    "    occ_sa = []\n",
    "    occ_tuvalu = []\n",
    "    for line in occurences_cops:\n",
    "\n",
    "        if(line[1] == 'SWITERLAND' or line[1] == 'SWITZER' or line[1] == 'SWITZERLAND'):\n",
    "            occ_ch.append(line)           \n",
    "        if(line[1] == 'US'):\n",
    "            occ_us.append(line)\n",
    "        if(line[1] == 'CHINA'):\n",
    "            occ_china.append(line)\n",
    "        if(line[1] == 'SAUDI ARABIA' or line[1]== 'SAUDIA ARABIA'):\n",
    "                occ_sa.append(line)\n",
    "        if(line[1] == 'TUVALU'):\n",
    "                occ_tuvalu.append(line)\n",
    "    \n",
    "    return find_occ_between_typos(\"CH\", occ_ch), occ_china, occ_us, find_occ_between_typos(\"SAUDI ARABIA\", occ_sa), occ_tuvalu"
   ]
  },
  {
   "cell_type": "code",
   "execution_count": null,
   "metadata": {},
   "outputs": [],
   "source": [
    "def combine_issues(occ_party, dict_cop):\n",
    "    \"\"\"Combine issues that are related to the same COP and count the number of occurences in total for each COP\"\"\"\n",
    "    occ_party_m = []\n",
    "    for k in dict_cop.keys():\n",
    "        occ = 0\n",
    "        for c in occ_party:\n",
    "            if(c[0] in dict_cop[k]):\n",
    "                occ += c[2]\n",
    "        occ_party_m.append(occ)\n",
    "    return occ_party_m"
   ]
  },
  {
   "cell_type": "code",
   "execution_count": null,
   "metadata": {},
   "outputs": [],
   "source": [
    "# Dictionary for each COP (key) with the issues related to it (values)\n",
    "dict_cop = {1: np.arange(12,22),\n",
    "            2: np.arange(29,38),\n",
    "            3: np.arange(68,76),\n",
    "             4: np.arange(88,97),\n",
    "             5 : np.arange(113,123),\n",
    "             6: np.arange(153,163),\n",
    "             7: np.arange(179,189),\n",
    "             8: np.arange(200,209),\n",
    "             9: np.arange(222,230),\n",
    "             10: np.arange(250,260),\n",
    "             11: np.arange(281,291),\n",
    "             12: np.arange(308,318),\n",
    "             13: np.arange(344,354),\n",
    "             14: np.arange(386,395),\n",
    "             15: np.arange(449,459),\n",
    "             16: np.arange(488,497),\n",
    "             17: np.arange(524,534),\n",
    "             18: np.arange(557,567),\n",
    "             19: np.arange(584,593),\n",
    "             20 : np.arange(609,619),\n",
    "             21: np.arange(653,663),\n",
    "             22: np.arange(679,689),\n",
    "             23: np.arange(704,714),\n",
    "             24: np.arange(736,747),\n",
    "             25: np.arange(765,774)}"
   ]
  },
  {
   "cell_type": "code",
   "execution_count": null,
   "metadata": {},
   "outputs": [],
   "source": [
    "def plot_interventions_COP()\n",
    "    \"\"\"Plot for Switzerland, US, China, Saudi Arabia and Tuvalu thenumber of intervention for each COP\"\"\"\n",
    "    # Find the occurences of each party for all COP beween 2-25\n",
    "    swiss, china, us, sa, tu  = extract_occ_countries(occurences_cops[1:])\n",
    "    #Add COP 1 (collected manually because not written in capital)\n",
    "    swiss.append((12,'CH',6))\n",
    "    china.append((12,'China',4))\n",
    "    us.append((12,'US',16))\n",
    "    sa.append((12,'SA',3))\n",
    "    tu.append((12,'TUVALU',0))\n",
    "    occurences_cops = extract_cop()\n",
    "    #Combine all the intervention per issues for each COP\n",
    "    switzerland = combine_issues(swiss, dict_cop)\n",
    "    china = combine_issues(china, dict_cop)\n",
    "    united_states = combine_issues(us, dict_cop)\n",
    "    saudi_arabia = combine_issues(sa, dict_cop)\n",
    "    tuvalu = combine_issues(tu,dict_cop)\n",
    "\n",
    "    #Plot the interventions\n",
    "    index = 1+np.arange(len(united_states))\n",
    "    figsize = (24,9)\n",
    "\n",
    "    fig, ax = plt.subplots(1, 1, figsize=figsize)\n",
    "\n",
    "    csfont = {'fontname':'Helvetica','fontsize':'18' }\n",
    "    hfont = {'fontname':'Helvetica','fontsize':'12'}\n",
    "\n",
    "    plt.title('Number of intervention during COP between 1995-2020 for five parties',**csfont)\n",
    "    plt.xlabel(\"COPs in chronological order\", **hfont)\n",
    "    plt.ylabel(\"Number of interventions\", **hfont)\n",
    "\n",
    "    x = index\n",
    "    red_patch = mpatches.Patch(color='limegreen', label='United States')\n",
    "    c_patch = mpatches.Patch(color='red', label='China')\n",
    "    b_patch = mpatches.Patch(color='dodgerblue', label='Switzerland')\n",
    "    a_patch = mpatches.Patch(color='darkorange', label='Saudi Arabia')\n",
    "    t_patch = mpatches.Patch(color='yellow', label='Tuvalu')\n",
    "    plt.legend(handles=[b_patch,c_patch,red_patch, a_patch, t_patch])\n",
    "    ax.bar(x-0.3, switzerland, width=0.15, color='dodgerblue', align='center')\n",
    "    ax.bar(x-0.15, china, width=0.15, color='red', align='center')\n",
    "    ax.bar(x+0.0, united_states, width=0.15, color='limegreen', align='center')\n",
    "    ax.bar(x+0.15, saudi_arabia, width=0.15, color='darkorange', align='center')\n",
    "    ax.bar(x+0.3, tuvalu, width=0.15, color='yellow', align='center')\n",
    "    plt.xticks(np.arange(min(x), max(x)+1, 1.0))\n",
    "\n",
    "    plt.show()"
   ]
  }
 ]
}