{
 "cells": [
  {
   "cell_type": "code",
   "execution_count": 65,
   "metadata": {},
   "outputs": [],
   "source": [
    "import urllib.request\n",
    "import re\n",
    "from bs4 import BeautifulSoup\n",
    "from dateutil.parser import parse\n",
    "import csv"
   ]
  },
  {
   "cell_type": "code",
   "execution_count": 155,
   "metadata": {},
   "outputs": [],
   "source": [
    "# page of the countries\n",
    "page = urllib.request.urlopen('https://www.britannica.com/topic/list-of-countries-1993160').read()\n",
    "#page = urllib.request.urlopen('https://unfccc.int/process/parties-non-party-stakeholders/parties-convention-and-observer-states').read()\n",
    "soup = BeautifulSoup(page)\n"
   ]
  },
  {
   "cell_type": "code",
   "execution_count": 156,
   "metadata": {},
   "outputs": [],
   "source": [
    "def count_occurrences(word, sentence):\n",
    "    #sentence.lower().split().count(word)\n",
    "    l = re.split('; |, (  ',sentence).count(word)\n",
    "\n",
    "    return l"
   ]
  },
  {
   "cell_type": "code",
   "execution_count": 163,
   "metadata": {},
   "outputs": [],
   "source": [
    "def extract_dict_countries(soup):\n",
    "    #create a list of all the countries\n",
    "    dict = {}\n",
    "    for link in soup.findAll('a',href=re.compile(\"https://www.britannica.com/place/\")):\n",
    "        c = re.sub(\"https://www.britannica.com/place/\", '',link.get('href'))\n",
    "        dict[c] = 0\n",
    "\n",
    "    return dict"
   ]
  },
  {
   "cell_type": "code",
   "execution_count": 174,
   "metadata": {},
   "outputs": [],
   "source": [
    "#Extract the number time each countries is written\n",
    "def extract_freq_countries(html_link,dict_countries):\n",
    "    # Extract all the paragraphes from the html link\n",
    "    page_link = urllib.request.urlopen(html_link).read()\n",
    "    soup_link = BeautifulSoup(page_link)\n",
    "    paragraphes = soup_link.findAll('p')\n",
    "    \n",
    "    \n",
    "    for p in paragraphes:\n",
    "        for c in dict_countries:\n",
    "            if c in str(p):\n",
    "                dict_countries[c] +=1\n",
    "    \n",
    "    return dict_countries\n",
    "    "
   ]
  },
  {
   "cell_type": "code",
   "execution_count": 175,
   "metadata": {},
   "outputs": [],
   "source": [
    "#Create a list with all the countries\n",
    "dict_countries = extract_dict_countries(soup)\n",
    "html_link = 'https://enb.iisd.org/vol12/enb12765e.html'\n",
    "\n",
    "\n",
    "countries_freq = extract_freq_countries(html_link,dict_countries)\n",
    "\n",
    "\n",
    "\n",
    "\n"
   ]
  },
  {
   "cell_type": "code",
   "execution_count": null,
   "metadata": {},
   "outputs": [],
   "source": []
  },
  {
   "cell_type": "code",
   "execution_count": null,
   "metadata": {},
   "outputs": [],
   "source": []
  }
 ],
 "metadata": {
  "kernelspec": {
   "display_name": "Python 3",
   "language": "python",
   "name": "python3"
  },
  "language_info": {
   "codemirror_mode": {
    "name": "ipython",
    "version": 3
   },
   "file_extension": ".py",
   "mimetype": "text/x-python",
   "name": "python",
   "nbconvert_exporter": "python",
   "pygments_lexer": "ipython3",
   "version": "3.7.4"
  }
 },
 "nbformat": 4,
 "nbformat_minor": 2
}
