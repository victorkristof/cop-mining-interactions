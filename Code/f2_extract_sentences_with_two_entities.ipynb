{
 "nbformat": 4,
 "nbformat_minor": 2,
 "metadata": {
  "language_info": {
   "name": "python",
   "codemirror_mode": {
    "name": "ipython",
    "version": 3
   },
   "version": "3.7.4-final"
  },
  "orig_nbformat": 2,
  "file_extension": ".py",
  "mimetype": "text/x-python",
  "name": "python",
  "npconvert_exporter": "python",
  "pygments_lexer": "ipython3",
  "version": 3,
  "kernelspec": {
   "name": "python37464bitbaseconda12cc5b1983ce432e8ce1d0fc698bd97b",
   "display_name": "Python 3.7.4 64-bit ('base': conda)"
  }
 },
 "cells": [
  {
   "cell_type": "markdown",
   "metadata": {},
   "source": [
    "# f2_extract_sentences_with_two_entities\n",
    "From the file sentences.txt extract all the sentence who contain at least two entities and write them in the file sentences-with-two-entities.txt"
   ]
  },
  {
   "cell_type": "code",
   "execution_count": 1,
   "metadata": {},
   "outputs": [],
   "source": [
    "import urllib.request\n",
    "import re\n",
    "from bs4 import BeautifulSoup\n",
    "from dateutil.parser import parse\n",
    "import csv\n",
    "import pandas as pd\n",
    "import requests\n",
    "from nltk import sent_tokenize\n",
    "from nltk import word_tokenize\n",
    "from nltk.tag import StanfordNERTagger\n",
    "from nltk.tokenize import MWETokenizer"
   ]
  },
  {
   "cell_type": "code",
   "execution_count": null,
   "metadata": {},
   "outputs": [],
   "source": [
    "def write_list_collected(list_with_two_entities):\n",
    "    \"\"\"Write list_sentence_with_country.txt file. \"\"\"\n",
    "    outF = open(\"sentences-with-two-entities.txt\", \"w\")\n",
    "    for line in list_with_two_entities :\n",
    "        # write line to output file\n",
    "        outF.write(line)\n",
    "    outF.close()"
   ]
  },
  {
   "cell_type": "code",
   "execution_count": 2,
   "metadata": {},
   "outputs": [],
   "source": [
    "def extract_from_txt_sentences(txt_file):\n",
    "    \"\"\" Open file that contains all the sentences. \"\"\"\n",
    "    list_tp = open(txt_file)\n",
    "    return list_tp\n",
    "\n",
    "parties = ['African Group','Arab States','Environmental Integrity Group', 'European Union','Least Developed Countries','Small Island Developing States','Umbrella Group','G-77/China']"
   ]
  },
  {
   "cell_type": "code",
   "execution_count": 3,
   "metadata": {},
   "outputs": [],
   "source": [
    "def extract_tokens_countries(type_word):\n",
    "    \"\"\" Create a set of all the token countries. \"\"\"\n",
    "    url = 'https://www.britannica.com/topic/list-of-countries-1993160'\n",
    "    page = urllib.request.urlopen(url).read()\n",
    "    soup = BeautifulSoup(page)\n",
    "    \n",
    "    countries = []\n",
    "    for link in soup.findAll('a',href=re.compile(\"https://www.britannica.com/place/\")):\n",
    "        c = re.sub(\"https://www.britannica.com/place/\", '',link.get('href'))\n",
    "\n",
    "        if(type_word == 'normal'):\n",
    "            list_c = (str(c)).split('-')\n",
    "        if(type_word == 'upper'):\n",
    "            list_c = (str(c).upper()).split('-')\n",
    "        if(type_word == 'lower'):\n",
    "            list_c = (str(c).lower()).split('-')\n",
    "\n",
    "        countries.append(list_c)\n",
    "    \n",
    "    return countries"
   ]
  },
  {
   "cell_type": "code",
   "execution_count": 4,
   "metadata": {},
   "outputs": [],
   "source": [
    "def extract_list_countries(type_word):\n",
    "    \"\"\" Create a set of all the countries. \"\"\"\n",
    "    url = 'https://www.britannica.com/topic/list-of-countries-1993160'\n",
    "    page = urllib.request.urlopen(url).read()\n",
    "    soup = BeautifulSoup(page)\n",
    "    \n",
    "    countries = []\n",
    "    for link in soup.findAll('a',href=re.compile(\"https://www.britannica.com/place/\")):\n",
    "        c = re.sub(\"https://www.britannica.com/place/\", '',link.get('href'))\n",
    "        \n",
    "        if(type_word == 'normal'):\n",
    "            list_c = (str(c)).split('-')\n",
    "            x = \" \"        \n",
    "            country = x.join(list_c)\n",
    "        if(type_word == 'upper'):\n",
    "            list_c = (str(c).upper()).split('-')\n",
    "            x = \" \"        \n",
    "            country = x.join(list_c)\n",
    "        if(type_word == 'lower'):\n",
    "            list_c = (str(c).lower()).split('-')\n",
    "            x = \" \"        \n",
    "            country = x.join(list_c)\n",
    "\n",
    "        countries.append(country)\n",
    "    \n",
    "    return countries"
   ]
  },
  {
   "cell_type": "code",
   "execution_count": 5,
   "metadata": {},
   "outputs": [],
   "source": [
    "def extract_sentences_with_two_countries(list_tp_cleaned):\n",
    "    \"\"\" Extract all the sentence with at least one party inside. \"\"\"\n",
    "    tokens_countries = \n",
    "    tokenizer = MWETokenizer(tokens_countries, separator=' ')\n",
    "    sentences_country = set()\n",
    "\n",
    "    for line in list_tp_cleaned:\n",
    "        #split sentence with tokenizer to detect a country \n",
    "        founded = 0    \n",
    "        line_splited = word_tokenize(line)\n",
    "        tokens = tokenizer.tokenize(line_splited)\n",
    "        for country1 in lists_countries: \n",
    "            for country2 in lists_countries:\n",
    "                if(country1 in tokens and country2 in tokens and country1 != country2):\n",
    "                    sentences_country.add(line)\n",
    "                    founded = 1\n",
    "                    break\n",
    "            if(founded):\n",
    "                founded =0\n",
    "                break \n",
    "\n",
    "    return sentences_country"
   ]
  },
  {
   "cell_type": "code",
   "execution_count": 6,
   "metadata": {},
   "outputs": [],
   "source": [
    "list_sentences_cleaned = extract_from_txt_sentences('sentences.txt')\n",
    "list_with_two_entities = extract_sentences_with_two_countries(list_sentences_cleaned)\n",
    "write_list_collected(list_with_two_entities)\n"
   ]
  }
 ]
}