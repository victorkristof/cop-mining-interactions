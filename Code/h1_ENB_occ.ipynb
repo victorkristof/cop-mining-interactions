{
 "cells": [
  {
   "cell_type": "markdown",
   "metadata": {},
   "source": [
    "# h1_ENB_OCC.ipynb\n",
    "Find all interactions in the original dataset for one issue or a range of issues."
   ]
  },
  {
   "cell_type": "code",
   "execution_count": 10,
   "metadata": {},
   "outputs": [],
   "source": [
    "import import_ipynb\n",
    "import pandas as pd\n",
    "import csv"
   ]
  },
  {
   "cell_type": "code",
   "execution_count": 11,
   "metadata": {},
   "outputs": [],
   "source": [
    "def open_dict_interaction():\n",
    "    dict_entities = {}\n",
    "    with open(\"Files/dict_inter.csv\") as csv_file:\n",
    "        csv_reader = csv.reader(csv_file, delimiter=',')\n",
    "        for row in csv_reader:\n",
    "            dict_entities[row[0]] = row[1].split(', ')\n",
    "    return dict_entities      "
   ]
  },
  {
   "cell_type": "code",
   "execution_count": 12,
   "metadata": {},
   "outputs": [],
   "source": [
    "def create_dict():\n",
    "    \"\"\"Create dictionary that can map entities with an id but also map entities from the original to the generated dataset. \"\"\"\n",
    "    DICTIONARY = open_dict_interaction()\n",
    "    n = 0\n",
    "    DICTIONARY_NUM = {}\n",
    "    for k in DICTIONARY:\n",
    "        DICTIONARY_NUM[k] = n \n",
    "        n +=1\n",
    "    NAMES = []\n",
    "    for x in list(DICTIONARY.values()):\n",
    "        if(len(x) == 1):\n",
    "            NAMES.append(x[0])\n",
    "        else:\n",
    "            NAMES += [k for k in x]\n",
    "\n",
    "    return DICTIONARY, DICTIONARY_NUM, NAMES"
   ]
  },
  {
   "cell_type": "code",
   "execution_count": 13,
   "metadata": {},
   "outputs": [],
   "source": [
    "DICTIONARY, DICTIONARY_NUM, NAMES = create_dict()"
   ]
  },
  {
   "cell_type": "code",
   "execution_count": 14,
   "metadata": {},
   "outputs": [],
   "source": [
    "def create_df(cooperations,issue_number):\n",
    "    \"\"\" Function that combines all the information of the interaction to a dataframe. \"\"\"\n",
    "    ca = [x[0] for x in cooperations]\n",
    "    cb = [x[1] for x in cooperations]\n",
    "    id_ca = [x[17] for x in cooperations]\n",
    "    id_cb = [x[18] for x in cooperations]\n",
    "    behalf = [int(float(x[5])) for x in cooperations]\n",
    "    support = [int(float(x[6]))for x in cooperations]\n",
    "    agreement =[int(float(x[8]))for x in cooperations]\n",
    "    opposition =[int(float(x[10]))for x in cooperations]\n",
    "    criticism =[int(float(x[11])) for x in cooperations]\n",
    "    cooperation =[int(float(x[12])) for x in cooperations]\n",
    "    sentences = [x[-3] for x in cooperations]\n",
    "    dict_issue = {'type':'original','issue': issue_number,'id_ca':id_ca,'id_cb':id_cb,'Country A':ca, 'Country B': cb, 'behalf':behalf,'support':support,'agreement':agreement,'opposition':opposition,'criticism':criticism,'cooperation':cooperation, 'sentences':sentences}\n",
    "    df = pd.DataFrame(dict_issue)\n",
    "    return df"
   ]
  },
  {
   "cell_type": "code",
   "execution_count": 15,
   "metadata": {},
   "outputs": [],
   "source": [
    "def extract_from_csv_list_issues(csv_file):\n",
    "    \"\"\" Extract from \"csv_file\" all the html link to be able to extract all the <p> tags. \"\"\"\n",
    "    f = open(csv_file)\n",
    "    csv_f = csv.reader(f)\n",
    "    list_pt = []\n",
    "    return list(csv_f)[1:]"
   ]
  },
  {
   "cell_type": "code",
   "execution_count": 16,
   "metadata": {},
   "outputs": [],
   "source": [
    "l = extract_from_csv_list_issues(\"Text/ENB_relationships.txt\")"
   ]
  },
  {
   "cell_type": "code",
   "execution_count": 17,
   "metadata": {},
   "outputs": [],
   "source": [
    "def extract_date(issue_number):\n",
    "    \"\"\" Function that find the specific date of one issue. \"\"\"\n",
    "    list_meetings = extract_from_csv_list_issues('Text/list_meetings.csv')\n",
    "    for i in range(len(list_meetings)):\n",
    "\n",
    "        if(list_meetings[i][4] == str(issue_number)):\n",
    "\n",
    "            date = list_meetings[i][5].replace('-','')\n",
    "\n",
    "            return date"
   ]
  },
  {
   "cell_type": "code",
   "execution_count": 18,
   "metadata": {},
   "outputs": [],
   "source": [
    "def extract_relationships_count(issue_number):\n",
    "    \"\"\" Function that find all the interaction of one issue. \"\"\"\n",
    "    lines = []\n",
    "    sentences = []\n",
    "    data = []\n",
    "    entities = []\n",
    "    date = extract_date(issue_number)\n",
    "    with open(\"Text/ENB_relationships.txt\") as infile:\n",
    "        k=0\n",
    "        for line in infile:\n",
    "            x = line.replace('\"','').split('\\t')[:26]\n",
    "            entities.append(x[4])\n",
    "            entities.append(x[3])\n",
    "            if(k > 0 and date in x and k!=0):\n",
    "                lines.append(line)\n",
    "            k += 1\n",
    "        se_old = ''\n",
    "    for l in lines:\n",
    "        list_line = l.replace('\"','').split('\\t')[:26]\n",
    "            \n",
    "        \n",
    "        informations = list_line[3:19]\n",
    "        informations = [f.upper() for f in informations]\n",
    "        se_new = list_line[25]\n",
    "\n",
    "        if(se_new != ''):\n",
    "\n",
    "            se_old = se_new\n",
    "            sentences.append(se_old)\n",
    "            informations.append(se_old)\n",
    "        \n",
    "        else:\n",
    "\n",
    "            sentences.append(se_old)\n",
    "            informations.append(se_old)\n",
    "        id_cb = 8888\n",
    "        id_ca = 8888\n",
    "        #print('Countries :',list_line[3],list_line[4])\n",
    "        if(list_line[3] in DICTIONARY_NUM.keys()):\n",
    "            id_ca = DICTIONARY_NUM[list_line[3]]\n",
    "\n",
    "        if(list_line[4] in DICTIONARY_NUM.keys()):\n",
    "            id_cb = DICTIONARY_NUM[list_line[4]]\n",
    "\n",
    "        if(id_ca == 8888):\n",
    "            print(list_line[3])\n",
    "        informations.append(id_ca)\n",
    "        informations.append(id_cb)\n",
    "        data.append(informations)\n",
    "\n",
    "    return create_df(data,issue_number), sentences"
   ]
  },
  {
   "cell_type": "code",
   "execution_count": 20,
   "metadata": {},
   "outputs": [],
   "source": [
    "df, sent = extract_relationships_count(50)"
   ]
  },
  {
   "cell_type": "code",
   "execution_count": 21,
   "metadata": {},
   "outputs": [
    {
     "output_type": "execute_result",
     "data": {
      "text/plain": [
       "       type  issue  id_ca  id_cb Country A Country B  behalf  support  \\\n",
       "0  original     50     29     79    BRAZIL       G77       0        0   \n",
       "1  original     50    180     75  SLOVENIA        EU       0        1   \n",
       "\n",
       "   agreement  opposition  criticism  cooperation  \\\n",
       "0          0           1          0            0   \n",
       "1          0           0          0            1   \n",
       "\n",
       "                                           sentences  \n",
       "0  He (G77/China) indicated that an agreement ent...  \n",
       "1  SLOVENIA signaled its preparation to eventuall...  "
      ],
      "text/html": "<div>\n<style scoped>\n    .dataframe tbody tr th:only-of-type {\n        vertical-align: middle;\n    }\n\n    .dataframe tbody tr th {\n        vertical-align: top;\n    }\n\n    .dataframe thead th {\n        text-align: right;\n    }\n</style>\n<table border=\"1\" class=\"dataframe\">\n  <thead>\n    <tr style=\"text-align: right;\">\n      <th></th>\n      <th>type</th>\n      <th>issue</th>\n      <th>id_ca</th>\n      <th>id_cb</th>\n      <th>Country A</th>\n      <th>Country B</th>\n      <th>behalf</th>\n      <th>support</th>\n      <th>agreement</th>\n      <th>opposition</th>\n      <th>criticism</th>\n      <th>cooperation</th>\n      <th>sentences</th>\n    </tr>\n  </thead>\n  <tbody>\n    <tr>\n      <th>0</th>\n      <td>original</td>\n      <td>50</td>\n      <td>29</td>\n      <td>79</td>\n      <td>BRAZIL</td>\n      <td>G77</td>\n      <td>0</td>\n      <td>0</td>\n      <td>0</td>\n      <td>1</td>\n      <td>0</td>\n      <td>0</td>\n      <td>He (G77/China) indicated that an agreement ent...</td>\n    </tr>\n    <tr>\n      <th>1</th>\n      <td>original</td>\n      <td>50</td>\n      <td>180</td>\n      <td>75</td>\n      <td>SLOVENIA</td>\n      <td>EU</td>\n      <td>0</td>\n      <td>1</td>\n      <td>0</td>\n      <td>0</td>\n      <td>0</td>\n      <td>1</td>\n      <td>SLOVENIA signaled its preparation to eventuall...</td>\n    </tr>\n  </tbody>\n</table>\n</div>"
     },
     "metadata": {},
     "execution_count": 21
    }
   ],
   "source": [
    "df"
   ]
  },
  {
   "cell_type": "code",
   "execution_count": 22,
   "metadata": {},
   "outputs": [
    {
     "output_type": "execute_result",
     "data": {
      "text/plain": [
       "['He (G77/China) indicated that an agreement entailed advancing commitments for Annex I Parties, while avoiding new ones for non-Annex I Parties. He (Brazil) called for the development of quantitative targets for non-Annex I countries as they rea',\n",
       " 'SLOVENIA signaled its preparation to eventually join Annex I Parties in complying with legally binding commitments and supported an EU proposal for GHG reductions.']"
      ]
     },
     "metadata": {},
     "execution_count": 22
    }
   ],
   "source": [
    "sent"
   ]
  },
  {
   "cell_type": "code",
   "execution_count": null,
   "metadata": {},
   "outputs": [],
   "source": []
  }
 ],
 "metadata": {
  "language_info": {
   "codemirror_mode": {
    "name": "ipython",
    "version": 3
   },
   "file_extension": ".py",
   "mimetype": "text/x-python",
   "name": "python",
   "nbconvert_exporter": "python",
   "pygments_lexer": "ipython3",
   "version": "3.7.6-final"
  },
  "orig_nbformat": 2,
  "kernelspec": {
   "name": "python37664bit15afa4b5d9a84aa2af9f4a46f3f973aa",
   "display_name": "Python 3.7.6 64-bit",
   "language": "python"
  }
 },
 "nbformat": 4,
 "nbformat_minor": 2
}