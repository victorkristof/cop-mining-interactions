{
 "cells": [
  {
   "cell_type": "code",
   "execution_count": 1,
   "metadata": {},
   "outputs": [
    {
     "output_type": "stream",
     "name": "stdout",
     "text": "importing Jupyter notebook from c1_extract_paragraphe_issue.ipynb\nIssue  34\nimporting Jupyter notebook from c2_extract_sentence_issue.ipynb\nimporting Jupyter notebook from g1_generate_dictionary.ipynb\n"
    }
   ],
   "source": [
    "import import_ipynb\n",
    "import c1_extract_paragraphe_issue as c1 \n",
    "import c2_extract_sentence_issue as c2 \n",
    "import g1_generate_dictionary as g1\n",
    "import pandas as pd\n",
    ""
   ]
  },
  {
   "cell_type": "code",
   "execution_count": 2,
   "metadata": {},
   "outputs": [],
   "source": [
    "DICTIONARY = g1.compute_dictionary()\n",
    "n = 0\n",
    "DICTIONARY_NUM = dict()\n",
    "for k in DICTIONARY:\n",
    "\n",
    "    DICTIONARY_NUM[k] = n \n",
    "    n +=1\n",
    "NAMES = []\n",
    "for x in DICTIONARY.values():\n",
    "    if(len(x) == 1):\n",
    "        NAMES.append(x[0])\n",
    "\n",
    "    else:\n",
    "        NAMES += [k for k in x]\n",
    "\n",
    "n = 0\n",
    "DICTIONARY_NUM = dict()\n",
    "for k in DICTIONARY:\n",
    "\n",
    "    DICTIONARY_NUM[k] = n \n",
    "    n +=1\n",
    "NAMES = []\n",
    "for x in DICTIONARY.values():\n",
    "    if(len(x) == 1):\n",
    "        NAMES.append(x[0])\n",
    "\n",
    "    else:\n",
    "        NAMES += [k for k in x]"
   ]
  },
  {
   "cell_type": "code",
   "execution_count": 3,
   "metadata": {},
   "outputs": [],
   "source": [
    "def create_df(cooperations,issue_number):\n",
    "\n",
    "    ca = [x[0] for x in cooperations]\n",
    "    cb = [x[1] for x in cooperations]\n",
    "    id_ca = [x[17] for x in cooperations]\n",
    "    id_cb = [x[18] for x in cooperations]\n",
    "    behalf = [int(float(x[5])) for x in cooperations]\n",
    "    support = [int(float(x[6]))for x in cooperations]\n",
    "    agreement =[int(float(x[8]))for x in cooperations]\n",
    "    opposition =[int(float(x[10]))for x in cooperations]\n",
    "    criticism =[int(float(x[11])) for x in cooperations]\n",
    "    cooperation =[int(float(x[12])) for x in cooperations]\n",
    "    sentences = [x[-3] for x in cooperations]\n",
    "    dict_issue = {'type':'original','issue': issue_number,'id_ca':id_ca,'id_cb':id_cb,'Country A':ca, 'Country B': cb, 'behalf':behalf,'support':support,'agreement':agreement,'opposition':opposition,'criticism':criticism,'cooperation':cooperation, 'sentences':sentences}\n",
    "    df = pd.DataFrame(dict_issue)\n",
    "    return df"
   ]
  },
  {
   "cell_type": "code",
   "execution_count": 4,
   "metadata": {},
   "outputs": [],
   "source": [
    "def extract_relationships_count(issue_number):\n",
    "    lines = []\n",
    "    sentences = []\n",
    "    data = []\n",
    "    entities = []\n",
    "    with open(\"Text/ENB_relationships.txt\") as infile:\n",
    "        k=0\n",
    "        for line in infile:\n",
    "            x = line.replace('\"','').split('\\t')[:26]\n",
    "            entities.append(x[4])\n",
    "            entities.append(x[3])\n",
    "            if(k > 0 and int(x[23]) == issue_number and k!=0):\n",
    "                lines.append(line)\n",
    "            k += 1\n",
    "    for l in lines:\n",
    "        list_line = l.replace('\"','').split('\\t')[:26]\n",
    "            \n",
    "        \n",
    "        informations = list_line[3:19]\n",
    "        informations = [f.upper() for f in informations]\n",
    "        se_new = list_line[25]\n",
    "        if(se_new != ''):\n",
    "\n",
    "            se_old = se_new\n",
    "            sentences.append(se_old)\n",
    "            informations.append(se_old)\n",
    "        else:\n",
    "\n",
    "            sentences.append(se_old)\n",
    "            informations.append(se_old)\n",
    "        id_cb = 8888\n",
    "        id_ca = 8888\n",
    "        #print('Countries :',list_line[3],list_line[4])\n",
    "        if(list_line[3] in DICTIONARY_NUM.keys()):\n",
    "            id_ca = DICTIONARY_NUM[list_line[3]]\n",
    "\n",
    "        if(list_line[4] in DICTIONARY_NUM.keys()):\n",
    "            id_cb = DICTIONARY_NUM[list_line[4]]\n",
    "\n",
    "        if(id_cb == 8888 or id_ca == 8888):\n",
    "            print(id)\n",
    "        informations.append(id_ca)\n",
    "        informations.append(id_cb)\n",
    "        data.append(informations)\n",
    "\n",
    "    return create_df(data,issue_number), sentences"
   ]
  },
  {
   "cell_type": "code",
   "execution_count": 5,
   "metadata": {
    "tags": [
     "outputPrepend"
    ]
   },
   "outputs": [],
   "source": [
    "d , s = extract_relationships_count(505)"
   ]
  },
  {
   "cell_type": "markdown",
   "metadata": {},
   "source": []
  }
 ],
 "metadata": {
  "language_info": {
   "codemirror_mode": {
    "name": "ipython",
    "version": 3
   },
   "file_extension": ".py",
   "mimetype": "text/x-python",
   "name": "python",
   "nbconvert_exporter": "python",
   "pygments_lexer": "ipython3",
   "version": "3.7.6-final"
  },
  "orig_nbformat": 2,
  "kernelspec": {
   "name": "python37664bit162d60da764a43dc83edcb73a443ab01",
   "display_name": "Python 3.7.6 64-bit"
  }
 },
 "nbformat": 4,
 "nbformat_minor": 2
}