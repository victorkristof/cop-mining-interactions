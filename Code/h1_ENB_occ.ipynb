{
 "cells": [
  {
   "cell_type": "code",
   "execution_count": 8,
   "metadata": {},
   "outputs": [],
   "source": [
    "import import_ipynb\n",
    "import c1_extract_paragraphe_issue as c1 \n",
    "import c2_extract_sentence_issue as c2 \n",
    "import g1_generate_dictionary as g1\n",
    "import pandas as pd\n"
   ]
  },
  {
   "cell_type": "code",
   "execution_count": 9,
   "metadata": {},
   "outputs": [],
   "source": [
    "DICTIONARY = g1.compute_dictionary()\n",
    "n = 0\n",
    "DICTIONARY_NUM = dict()\n",
    "for k in DICTIONARY:\n",
    "\n",
    "    DICTIONARY_NUM[k] = n \n",
    "    n +=1\n",
    "NAMES = []\n",
    "for x in DICTIONARY.values():\n",
    "    if(len(x) == 1):\n",
    "        NAMES.append(x[0])\n",
    "\n",
    "    else:\n",
    "        NAMES += [k for k in x]\n",
    "\n",
    "n = 0\n",
    "DICTIONARY_NUM = dict()\n",
    "for k in DICTIONARY:\n",
    "\n",
    "    DICTIONARY_NUM[k] = n \n",
    "    n +=1\n",
    "NAMES = []\n",
    "for x in DICTIONARY.values():\n",
    "    if(len(x) == 1):\n",
    "        NAMES.append(x[0])\n",
    "\n",
    "    else:\n",
    "        NAMES += [k for k in x]"
   ]
  },
  {
   "cell_type": "code",
   "execution_count": 10,
   "metadata": {},
   "outputs": [],
   "source": [
    "def extract_relationships_count(date, issue_number):\n",
    "    lines = []\n",
    "    sentences = []\n",
    "    data = []\n",
    "   \n",
    "    with open(\"Text/ENB_relationships.txt\") as infile:\n",
    "        k=0\n",
    "        for line in infile:\n",
    "            x = line.replace('\"','').split('\\t')[:26]\n",
    "\n",
    "            if(k > 0 and int(x[23]) == issue_number and k!=0):\n",
    "                lines.append(line)\n",
    "            k += 1\n",
    "    for l in lines:\n",
    "        list_line = l.replace('\"','').split('\\t')[:26]\n",
    "        sentences.append(list_line[25])\n",
    "        informations = list_line[3:19]\n",
    "        informations = [f.upper() for f in informations]\n",
    "        informations.append(list_line[25])\n",
    "        id_cb = 8888\n",
    "        id_ca = 8888\n",
    "        if(list_line[3] in DICTIONARY_NUM.keys()):\n",
    "            id_ca = DICTIONARY_NUM[list_line[3]]\n",
    "        if(list_line[4] in DICTIONARY_NUM.keys()):\n",
    "            id_cb = DICTIONARY_NUM[list_line[4]]\n",
    "        informations.append(id_ca)\n",
    "        informations.append(id_cb)\n",
    "        data.append(informations)\n",
    "\n",
    "\n",
    "\n",
    "    print('Number of observations : ', len(data)-1)\n",
    "    print('Number of sentences : ', len(set(sentences))-1)\n",
    "    \n",
    "    return data"
   ]
  },
  {
   "cell_type": "code",
   "execution_count": 11,
   "metadata": {
    "tags": [
     "outputPrepend",
     "outputPrepend",
     "outputPrepend",
     "outputPrepend",
     "outputPrepend",
     "outputPrepend",
     "outputPrepend",
     "outputPrepend",
     "outputPrepend",
     "outputPrepend",
     "outputPrepend",
     "outputPrepend",
     "outputPrepend",
     "outputPrepend",
     "outputPrepend",
     "outputPrepend"
    ]
   },
   "outputs": [
    {
     "output_type": "stream",
     "name": "stdout",
     "text": "Number of observations :  35\nNumber of sentences :  5\n"
    }
   ],
   "source": [
    "d = extract_relationships_count('20041213', 255)"
   ]
  },
  {
   "cell_type": "code",
   "execution_count": 12,
   "metadata": {},
   "outputs": [],
   "source": [
    "def create_df(cooperations,issue_number):\n",
    "    id_ca = [x[17] for x in cooperations]\n",
    "    id_cb = [x[18] for x in cooperations]\n",
    "    behalf = [x[5] for x in cooperations]\n",
    "    support = [x[6] for x in cooperations]\n",
    "    agreement =[x[8] for x in cooperations]\n",
    "    opposition =[x[10] for x in cooperations]\n",
    "    criticism =[x[11] for x in cooperations]\n",
    "    cooperation =[x[12] for x in cooperations]\n",
    "    dict_issue = {'type':'original','issue': issue_number,'id_ca':id_ca,'id_cb':id_cb, 'behalf':behalf,'support':support,'agreement':agreement,'opposition':opposition,'criticism':criticism,'cooperation':cooperation}\n",
    "    df = pd.DataFrame(dict_issue)\n",
    "    return df"
   ]
  },
  {
   "cell_type": "code",
   "execution_count": 13,
   "metadata": {},
   "outputs": [
    {
     "output_type": "execute_result",
     "data": {
      "text/plain": "        type  issue  id_ca  id_cb behalf support agreement opposition  \\\n0   original    255    113    208    0.0     0.0       0.0        1.0   \n1   original    255     54    147    0.0     0.0       1.0        0.0   \n2   original    255    147     54    0.0     0.0       1.0        0.0   \n3   original    255    147     54    0.0     0.0       0.0        0.0   \n4   original    255    147    133    0.0     0.0       0.0        0.0   \n5   original    255    147    135    0.0     0.0       0.0        0.0   \n6   original    255    147    113    0.0     0.0       0.0        0.0   \n7   original    255     54    147    0.0     0.0       0.0        0.0   \n8   original    255     54    133    0.0     0.0       1.0        0.0   \n9   original    255     54    135    0.0     0.0       1.0        0.0   \n10  original    255     54    113    0.0     0.0       1.0        0.0   \n11  original    255    133     54    0.0     0.0       1.0        0.0   \n12  original    255    133    147    0.0     0.0       0.0        0.0   \n13  original    255    133    135    0.0     0.0       1.0        0.0   \n14  original    255    133    113    0.0     0.0       1.0        0.0   \n15  original    255    135     54    0.0     0.0       1.0        0.0   \n16  original    255    135    133    0.0     0.0       1.0        0.0   \n17  original    255    135    147    0.0     0.0       0.0        0.0   \n18  original    255    135    113    0.0     0.0       1.0        0.0   \n19  original    255    113     54    0.0     0.0       1.0        0.0   \n20  original    255    113    133    0.0     0.0       1.0        0.0   \n21  original    255    113    135    0.0     0.0       1.0        0.0   \n22  original    255    113    147    0.0     0.0       0.0        0.0   \n23  original    255    138    147    0.0     0.0       0.0        1.0   \n24  original    255    138     54    0.0     0.0       0.0        1.0   \n25  original    255    138    133    0.0     0.0       0.0        1.0   \n26  original    255    138    135    0.0     0.0       0.0        1.0   \n27  original    255    138    113    0.0     0.0       0.0        1.0   \n28  original    255     89     84    0.0     0.0       1.0        0.0   \n29  original    255     84     89    0.0     0.0       1.0        0.0   \n30  original    255     93     89    0.0     0.0       0.0        1.0   \n31  original    255     93     84    0.0     0.0       0.0        1.0   \n32  original    255    135     22    0.0     0.0       0.0        0.0   \n33  original    255     22    135    0.0     0.0       0.0        0.0   \n34  original    255    167     89    0.0     0.0       1.0        0.0   \n35  original    255     89    167    0.0     0.0       1.0        0.0   \n\n   criticism cooperation  \n0        0.0         0.0  \n1        0.0         1.0  \n2        0.0         1.0  \n3        0.0         1.0  \n4        0.0         1.0  \n5        0.0         1.0  \n6        0.0         1.0  \n7        0.0         1.0  \n8        0.0         1.0  \n9        0.0         1.0  \n10       0.0         1.0  \n11       0.0         1.0  \n12       0.0         1.0  \n13       0.0         1.0  \n14       0.0         1.0  \n15       0.0         1.0  \n16       0.0         1.0  \n17       0.0         1.0  \n18       0.0         1.0  \n19       0.0         1.0  \n20       0.0         1.0  \n21       0.0         1.0  \n22       0.0         1.0  \n23       0.0         0.0  \n24       0.0         0.0  \n25       0.0         0.0  \n26       0.0         0.0  \n27       0.0         0.0  \n28       0.0         1.0  \n29       0.0         1.0  \n30       0.0         0.0  \n31       0.0         0.0  \n32       0.0         1.0  \n33       0.0         1.0  \n34       0.0         1.0  \n35       0.0         1.0  ",
      "text/html": "<div>\n<style scoped>\n    .dataframe tbody tr th:only-of-type {\n        vertical-align: middle;\n    }\n\n    .dataframe tbody tr th {\n        vertical-align: top;\n    }\n\n    .dataframe thead th {\n        text-align: right;\n    }\n</style>\n<table border=\"1\" class=\"dataframe\">\n  <thead>\n    <tr style=\"text-align: right;\">\n      <th></th>\n      <th>type</th>\n      <th>issue</th>\n      <th>id_ca</th>\n      <th>id_cb</th>\n      <th>behalf</th>\n      <th>support</th>\n      <th>agreement</th>\n      <th>opposition</th>\n      <th>criticism</th>\n      <th>cooperation</th>\n    </tr>\n  </thead>\n  <tbody>\n    <tr>\n      <th>0</th>\n      <td>original</td>\n      <td>255</td>\n      <td>113</td>\n      <td>208</td>\n      <td>0.0</td>\n      <td>0.0</td>\n      <td>0.0</td>\n      <td>1.0</td>\n      <td>0.0</td>\n      <td>0.0</td>\n    </tr>\n    <tr>\n      <th>1</th>\n      <td>original</td>\n      <td>255</td>\n      <td>54</td>\n      <td>147</td>\n      <td>0.0</td>\n      <td>0.0</td>\n      <td>1.0</td>\n      <td>0.0</td>\n      <td>0.0</td>\n      <td>1.0</td>\n    </tr>\n    <tr>\n      <th>2</th>\n      <td>original</td>\n      <td>255</td>\n      <td>147</td>\n      <td>54</td>\n      <td>0.0</td>\n      <td>0.0</td>\n      <td>1.0</td>\n      <td>0.0</td>\n      <td>0.0</td>\n      <td>1.0</td>\n    </tr>\n    <tr>\n      <th>3</th>\n      <td>original</td>\n      <td>255</td>\n      <td>147</td>\n      <td>54</td>\n      <td>0.0</td>\n      <td>0.0</td>\n      <td>0.0</td>\n      <td>0.0</td>\n      <td>0.0</td>\n      <td>1.0</td>\n    </tr>\n    <tr>\n      <th>4</th>\n      <td>original</td>\n      <td>255</td>\n      <td>147</td>\n      <td>133</td>\n      <td>0.0</td>\n      <td>0.0</td>\n      <td>0.0</td>\n      <td>0.0</td>\n      <td>0.0</td>\n      <td>1.0</td>\n    </tr>\n    <tr>\n      <th>5</th>\n      <td>original</td>\n      <td>255</td>\n      <td>147</td>\n      <td>135</td>\n      <td>0.0</td>\n      <td>0.0</td>\n      <td>0.0</td>\n      <td>0.0</td>\n      <td>0.0</td>\n      <td>1.0</td>\n    </tr>\n    <tr>\n      <th>6</th>\n      <td>original</td>\n      <td>255</td>\n      <td>147</td>\n      <td>113</td>\n      <td>0.0</td>\n      <td>0.0</td>\n      <td>0.0</td>\n      <td>0.0</td>\n      <td>0.0</td>\n      <td>1.0</td>\n    </tr>\n    <tr>\n      <th>7</th>\n      <td>original</td>\n      <td>255</td>\n      <td>54</td>\n      <td>147</td>\n      <td>0.0</td>\n      <td>0.0</td>\n      <td>0.0</td>\n      <td>0.0</td>\n      <td>0.0</td>\n      <td>1.0</td>\n    </tr>\n    <tr>\n      <th>8</th>\n      <td>original</td>\n      <td>255</td>\n      <td>54</td>\n      <td>133</td>\n      <td>0.0</td>\n      <td>0.0</td>\n      <td>1.0</td>\n      <td>0.0</td>\n      <td>0.0</td>\n      <td>1.0</td>\n    </tr>\n    <tr>\n      <th>9</th>\n      <td>original</td>\n      <td>255</td>\n      <td>54</td>\n      <td>135</td>\n      <td>0.0</td>\n      <td>0.0</td>\n      <td>1.0</td>\n      <td>0.0</td>\n      <td>0.0</td>\n      <td>1.0</td>\n    </tr>\n    <tr>\n      <th>10</th>\n      <td>original</td>\n      <td>255</td>\n      <td>54</td>\n      <td>113</td>\n      <td>0.0</td>\n      <td>0.0</td>\n      <td>1.0</td>\n      <td>0.0</td>\n      <td>0.0</td>\n      <td>1.0</td>\n    </tr>\n    <tr>\n      <th>11</th>\n      <td>original</td>\n      <td>255</td>\n      <td>133</td>\n      <td>54</td>\n      <td>0.0</td>\n      <td>0.0</td>\n      <td>1.0</td>\n      <td>0.0</td>\n      <td>0.0</td>\n      <td>1.0</td>\n    </tr>\n    <tr>\n      <th>12</th>\n      <td>original</td>\n      <td>255</td>\n      <td>133</td>\n      <td>147</td>\n      <td>0.0</td>\n      <td>0.0</td>\n      <td>0.0</td>\n      <td>0.0</td>\n      <td>0.0</td>\n      <td>1.0</td>\n    </tr>\n    <tr>\n      <th>13</th>\n      <td>original</td>\n      <td>255</td>\n      <td>133</td>\n      <td>135</td>\n      <td>0.0</td>\n      <td>0.0</td>\n      <td>1.0</td>\n      <td>0.0</td>\n      <td>0.0</td>\n      <td>1.0</td>\n    </tr>\n    <tr>\n      <th>14</th>\n      <td>original</td>\n      <td>255</td>\n      <td>133</td>\n      <td>113</td>\n      <td>0.0</td>\n      <td>0.0</td>\n      <td>1.0</td>\n      <td>0.0</td>\n      <td>0.0</td>\n      <td>1.0</td>\n    </tr>\n    <tr>\n      <th>15</th>\n      <td>original</td>\n      <td>255</td>\n      <td>135</td>\n      <td>54</td>\n      <td>0.0</td>\n      <td>0.0</td>\n      <td>1.0</td>\n      <td>0.0</td>\n      <td>0.0</td>\n      <td>1.0</td>\n    </tr>\n    <tr>\n      <th>16</th>\n      <td>original</td>\n      <td>255</td>\n      <td>135</td>\n      <td>133</td>\n      <td>0.0</td>\n      <td>0.0</td>\n      <td>1.0</td>\n      <td>0.0</td>\n      <td>0.0</td>\n      <td>1.0</td>\n    </tr>\n    <tr>\n      <th>17</th>\n      <td>original</td>\n      <td>255</td>\n      <td>135</td>\n      <td>147</td>\n      <td>0.0</td>\n      <td>0.0</td>\n      <td>0.0</td>\n      <td>0.0</td>\n      <td>0.0</td>\n      <td>1.0</td>\n    </tr>\n    <tr>\n      <th>18</th>\n      <td>original</td>\n      <td>255</td>\n      <td>135</td>\n      <td>113</td>\n      <td>0.0</td>\n      <td>0.0</td>\n      <td>1.0</td>\n      <td>0.0</td>\n      <td>0.0</td>\n      <td>1.0</td>\n    </tr>\n    <tr>\n      <th>19</th>\n      <td>original</td>\n      <td>255</td>\n      <td>113</td>\n      <td>54</td>\n      <td>0.0</td>\n      <td>0.0</td>\n      <td>1.0</td>\n      <td>0.0</td>\n      <td>0.0</td>\n      <td>1.0</td>\n    </tr>\n    <tr>\n      <th>20</th>\n      <td>original</td>\n      <td>255</td>\n      <td>113</td>\n      <td>133</td>\n      <td>0.0</td>\n      <td>0.0</td>\n      <td>1.0</td>\n      <td>0.0</td>\n      <td>0.0</td>\n      <td>1.0</td>\n    </tr>\n    <tr>\n      <th>21</th>\n      <td>original</td>\n      <td>255</td>\n      <td>113</td>\n      <td>135</td>\n      <td>0.0</td>\n      <td>0.0</td>\n      <td>1.0</td>\n      <td>0.0</td>\n      <td>0.0</td>\n      <td>1.0</td>\n    </tr>\n    <tr>\n      <th>22</th>\n      <td>original</td>\n      <td>255</td>\n      <td>113</td>\n      <td>147</td>\n      <td>0.0</td>\n      <td>0.0</td>\n      <td>0.0</td>\n      <td>0.0</td>\n      <td>0.0</td>\n      <td>1.0</td>\n    </tr>\n    <tr>\n      <th>23</th>\n      <td>original</td>\n      <td>255</td>\n      <td>138</td>\n      <td>147</td>\n      <td>0.0</td>\n      <td>0.0</td>\n      <td>0.0</td>\n      <td>1.0</td>\n      <td>0.0</td>\n      <td>0.0</td>\n    </tr>\n    <tr>\n      <th>24</th>\n      <td>original</td>\n      <td>255</td>\n      <td>138</td>\n      <td>54</td>\n      <td>0.0</td>\n      <td>0.0</td>\n      <td>0.0</td>\n      <td>1.0</td>\n      <td>0.0</td>\n      <td>0.0</td>\n    </tr>\n    <tr>\n      <th>25</th>\n      <td>original</td>\n      <td>255</td>\n      <td>138</td>\n      <td>133</td>\n      <td>0.0</td>\n      <td>0.0</td>\n      <td>0.0</td>\n      <td>1.0</td>\n      <td>0.0</td>\n      <td>0.0</td>\n    </tr>\n    <tr>\n      <th>26</th>\n      <td>original</td>\n      <td>255</td>\n      <td>138</td>\n      <td>135</td>\n      <td>0.0</td>\n      <td>0.0</td>\n      <td>0.0</td>\n      <td>1.0</td>\n      <td>0.0</td>\n      <td>0.0</td>\n    </tr>\n    <tr>\n      <th>27</th>\n      <td>original</td>\n      <td>255</td>\n      <td>138</td>\n      <td>113</td>\n      <td>0.0</td>\n      <td>0.0</td>\n      <td>0.0</td>\n      <td>1.0</td>\n      <td>0.0</td>\n      <td>0.0</td>\n    </tr>\n    <tr>\n      <th>28</th>\n      <td>original</td>\n      <td>255</td>\n      <td>89</td>\n      <td>84</td>\n      <td>0.0</td>\n      <td>0.0</td>\n      <td>1.0</td>\n      <td>0.0</td>\n      <td>0.0</td>\n      <td>1.0</td>\n    </tr>\n    <tr>\n      <th>29</th>\n      <td>original</td>\n      <td>255</td>\n      <td>84</td>\n      <td>89</td>\n      <td>0.0</td>\n      <td>0.0</td>\n      <td>1.0</td>\n      <td>0.0</td>\n      <td>0.0</td>\n      <td>1.0</td>\n    </tr>\n    <tr>\n      <th>30</th>\n      <td>original</td>\n      <td>255</td>\n      <td>93</td>\n      <td>89</td>\n      <td>0.0</td>\n      <td>0.0</td>\n      <td>0.0</td>\n      <td>1.0</td>\n      <td>0.0</td>\n      <td>0.0</td>\n    </tr>\n    <tr>\n      <th>31</th>\n      <td>original</td>\n      <td>255</td>\n      <td>93</td>\n      <td>84</td>\n      <td>0.0</td>\n      <td>0.0</td>\n      <td>0.0</td>\n      <td>1.0</td>\n      <td>0.0</td>\n      <td>0.0</td>\n    </tr>\n    <tr>\n      <th>32</th>\n      <td>original</td>\n      <td>255</td>\n      <td>135</td>\n      <td>22</td>\n      <td>0.0</td>\n      <td>0.0</td>\n      <td>0.0</td>\n      <td>0.0</td>\n      <td>0.0</td>\n      <td>1.0</td>\n    </tr>\n    <tr>\n      <th>33</th>\n      <td>original</td>\n      <td>255</td>\n      <td>22</td>\n      <td>135</td>\n      <td>0.0</td>\n      <td>0.0</td>\n      <td>0.0</td>\n      <td>0.0</td>\n      <td>0.0</td>\n      <td>1.0</td>\n    </tr>\n    <tr>\n      <th>34</th>\n      <td>original</td>\n      <td>255</td>\n      <td>167</td>\n      <td>89</td>\n      <td>0.0</td>\n      <td>0.0</td>\n      <td>1.0</td>\n      <td>0.0</td>\n      <td>0.0</td>\n      <td>1.0</td>\n    </tr>\n    <tr>\n      <th>35</th>\n      <td>original</td>\n      <td>255</td>\n      <td>89</td>\n      <td>167</td>\n      <td>0.0</td>\n      <td>0.0</td>\n      <td>1.0</td>\n      <td>0.0</td>\n      <td>0.0</td>\n      <td>1.0</td>\n    </tr>\n  </tbody>\n</table>\n</div>"
     },
     "metadata": {},
     "execution_count": 13
    }
   ],
   "source": [
    "create_df(d,255)"
   ]
  },
  {
   "cell_type": "code",
   "execution_count": null,
   "metadata": {},
   "outputs": [],
   "source": []
  }
 ],
 "metadata": {
  "language_info": {
   "codemirror_mode": {
    "name": "ipython",
    "version": 3
   },
   "file_extension": ".py",
   "mimetype": "text/x-python",
   "name": "python",
   "nbconvert_exporter": "python",
   "pygments_lexer": "ipython3",
   "version": "3.7.6-final"
  },
  "orig_nbformat": 2,
  "kernelspec": {
   "name": "python37664bit162d60da764a43dc83edcb73a443ab01",
   "display_name": "Python 3.7.6 64-bit"
  }
 },
 "nbformat": 4,
 "nbformat_minor": 2
}