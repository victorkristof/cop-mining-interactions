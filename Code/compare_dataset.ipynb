{
 "nbformat": 4,
 "nbformat_minor": 2,
 "metadata": {
  "language_info": {
   "name": "python",
   "codemirror_mode": {
    "name": "ipython",
    "version": 3
   },
   "version": "3.7.4-final"
  },
  "orig_nbformat": 2,
  "file_extension": ".py",
  "mimetype": "text/x-python",
  "name": "python",
  "npconvert_exporter": "python",
  "pygments_lexer": "ipython3",
  "version": 3,
  "kernelspec": {
   "name": "python37464bitbaseconda12cc5b1983ce432e8ce1d0fc698bd97b",
   "display_name": "Python 3.7.4 64-bit ('base': conda)"
  }
 },
 "cells": [
  {
   "cell_type": "code",
   "execution_count": 14,
   "metadata": {},
   "outputs": [],
   "source": [
    "import urllib.request\n",
    "import re\n",
    "from bs4 import BeautifulSoup\n",
    "from dateutil.parser import parse\n",
    "import csv\n",
    "import pandas as pd\n",
    "import requests\n",
    "from nltk import sent_tokenize\n",
    "from nltk import word_tokenize\n",
    "from nltk.tag import StanfordNERTagger\n",
    "from nltk.tokenize import MWETokenizer"
   ]
  },
  {
   "cell_type": "code",
   "execution_count": 15,
   "metadata": {},
   "outputs": [],
   "source": [
    "#--------------------------------------- TO BE REMOVED ---------------------------------------\n",
    "def clean_page_to_parse(page_string):\n",
    "    page_string = re.sub('<!-- WWW Designer Jeff Anderson janderson@iisd.ca --!>','',str(page_string))\n",
    "    page_string = re.sub('<!-- WWW Designer Jeff Anderson janderson@iisd.ca --!>','',str(page_string))\n",
    "    page_string = re.sub(r'<HTML>',r'<html>',str(page_string))\n",
    "    page_string = re.sub(r'</HTML>',r'</html>',str(page_string))\n",
    "\n",
    "    return page_string\n",
    "\n",
    "#Extract the <p> tag from a specific html link \n",
    "def extract_p_tags(html_link):\n",
    "    page = urllib.request.urlopen(html_link).read()\n",
    "    page = clean_page_to_parse(page)\n",
    "    soup = BeautifulSoup(page,'html.parser')\n",
    "    list_tp = soup.find_all('p')\n",
    "    return list_tp\n",
    "\n",
    "#Clean the sentence by removing special char\n",
    "def clean_tp(sentence):\n",
    "    s = re.sub(\"\\r\\n\\s\\s+\",\" \",sentence)\n",
    "    s = re.sub(\"\\r\\n\",\"\",s)\n",
    "    s = re.sub(\"\\s\\s+\",\" \",s)\n",
    "    s = re.sub(\"\\r\\n\",\"\",s)\n",
    "    p = re.compile(r'<.*?>')\n",
    "    return p.sub('', s)\n"
   ]
  },
  {
   "cell_type": "code",
   "execution_count": 16,
   "metadata": {},
   "outputs": [],
   "source": [
    "def extract_from_paragraphes_sentences(list_paragraphes):\n",
    "    list_paragraphes_foot = []\n",
    "    #Remove footer\n",
    "    for i in range(len(list_paragraphes)):\n",
    "        if('Sustaining Donors' not in list_paragraphes[i] and 'This issue of' not in list_paragraphes[i]):\n",
    "            list_paragraphes_foot.append(list_paragraphes[i])\n",
    "    \n",
    "    #Split into sentence from paragraph\n",
    "    splited_sentence = []\n",
    "    for s in list_paragraphes_foot:\n",
    "        splited_sentence += sent_tokenize(s)\n",
    "    return splited_sentence"
   ]
  },
  {
   "cell_type": "code",
   "execution_count": 17,
   "metadata": {},
   "outputs": [],
   "source": [
    "def open_list_meetings():\n",
    "    f = open('list_meetings.csv')\n",
    "    return csv.reader(f)"
   ]
  },
  {
   "cell_type": "code",
   "execution_count": 18,
   "metadata": {},
   "outputs": [],
   "source": [
    "def extract_tuple(line):\n",
    "    l = line.replace('\"',\"\")\n",
    "    l = l.replace('\\n',\"\")\n",
    "    l = l.split('\\t')\n",
    "    return l\n"
   ]
  },
  {
   "cell_type": "code",
   "execution_count": 19,
   "metadata": {},
   "outputs": [],
   "source": [
    "#Extract complete dataset of Paula, put it into list of tuples\n",
    "def extract_dataset():\n",
    "    list_data = list(open('statements_count.csv','r'))\n",
    "    list_dataset = []\n",
    "    for line in list_data:\n",
    "        list_dataset.append(extract_tuple(line))\n",
    "    return list_dataset\n"
   ]
  },
  {
   "cell_type": "code",
   "execution_count": 20,
   "metadata": {},
   "outputs": [],
   "source": [
    "#Extract all the entities mentioned in Paula's dataset\n",
    "def extract_entities():\n",
    "    list_dataset = extract_dataset()\n",
    "    set_entities = set()\n",
    "    for line in list_dataset:\n",
    "        set_entities.add(line[0])\n",
    "    return set_entities"
   ]
  },
  {
   "cell_type": "code",
   "execution_count": 21,
   "metadata": {},
   "outputs": [],
   "source": [
    "def count_occurences(list_sentences, dict_occ, tokenizer, list_entities, meetings):\n",
    "\n",
    "    for s in list_sentences:\n",
    "        #Split line into words with tokenizer to detetc entity\n",
    "        line = s.replace(\",\",\"\")\n",
    "        line_splited = word_tokenize(line)\n",
    "        tokens = tokenizer.tokenize(line_splited)\n",
    "        \n",
    "        for entity in list_entities:\n",
    "            #Increment value of intervention of the entity\n",
    "            if(entity in tokens):\n",
    "                dict_occ[entity] += 1\n",
    "    rows = [(meetings[0],entity,meetings[4],dict_occ[entity],meetings[5]) for entity in dict_occ]\n",
    "    return rows\n",
    "    \n",
    "\n",
    "                \n",
    "\n"
   ]
  },
  {
   "cell_type": "code",
   "execution_count": 22,
   "metadata": {},
   "outputs": [],
   "source": [
    "def extract_occurences_issue_ENB():\n",
    "    #List meetings named 'ENB'\n",
    "    list_ENBs = open_list_meetings()\n",
    "    #list_ENBs = [('COP','13','2007-12-03','Bali, Indonesia','349','2007-12-10','https://enb.iisd.org/vol12/enb12349e.html','Issue')]\n",
    "    tokenizer = MWETokenizer(extract_entities(), separator=' ')\n",
    "    list_entities = extract_entities()\n",
    "    occurences_meetings = []\n",
    "    k=0\n",
    "    #2 Count number time entities mentioned\n",
    "    for m in list(list_ENBs)[80:]:\n",
    "        k +=1\n",
    "\n",
    "        if(k==20):\n",
    "            break\n",
    "        \n",
    "        request = requests.get(m[6])\n",
    "        \n",
    "        if(request.status_code == 200):\n",
    "            list_paragraphes = [clean_tp(str(line)) for line in extract_p_tags(m[6])]\n",
    "            list_sentences = extract_from_paragraphes_sentences(list_paragraphes)\n",
    "            dict_occurences = dict.fromkeys(extract_entities(), 0)\n",
    "            occurences_meetings += count_occurences(list_sentences, dict_occurences, tokenizer, list_entities, m)\n",
    "\n",
    "    \n",
    "    with open('list_occurences.csv', 'w', newline='') as file:\n",
    "        writer = csv.writer(file)\n",
    "        #header\n",
    "        writer.writerow(('meeting_type','entity','issue_number','interventions','date'))\n",
    "        writer.writerows(occurences_meetings)\n",
    "\n",
    "\n",
    "\n",
    "\n"
   ]
  },
  {
   "cell_type": "code",
   "execution_count": 23,
   "metadata": {},
   "outputs": [],
   "source": [
    "extract_occurences_issue_ENB()"
   ]
  },
  {
   "cell_type": "code",
   "execution_count": null,
   "metadata": {},
   "outputs": [],
   "source": []
  }
 ]
}