{
 "nbformat": 4,
 "nbformat_minor": 2,
 "metadata": {
  "language_info": {
   "name": "python",
   "codemirror_mode": {
    "name": "ipython",
    "version": 3
   },
   "version": "3.7.4-final"
  },
  "orig_nbformat": 2,
  "file_extension": ".py",
  "mimetype": "text/x-python",
  "name": "python",
  "npconvert_exporter": "python",
  "pygments_lexer": "ipython3",
  "version": 3,
  "kernelspec": {
   "name": "python37664bit162d60da764a43dc83edcb73a443ab01",
   "display_name": "Python 3.7.6 64-bit"
  }
 },
 "cells": [
  {
   "cell_type": "code",
   "execution_count": 1,
   "metadata": {},
   "outputs": [
    {
     "output_type": "stream",
     "name": "stdout",
     "text": "importing Jupyter notebook from e2_extract_occ_original.ipynb\nimporting Jupyter notebook from c1_extract_paragraphe_issue.ipynb\nimporting Jupyter notebook from c2_extract_sentence_issue.ipynb\nimporting Jupyter notebook from g2_generate_correlation.ipynb\nimporting Jupyter notebook from g1_generate_dictionary.ipynb\nimporting Jupyter notebook from e1_extract_occ_gen.ipynb\n"
    }
   ],
   "source": [
    "import import_ipynb\n",
    "import e2_extract_occ_original as original_issues\n",
    "import c1_extract_paragraphe_issue as p\n",
    "import c2_extract_sentence_issue as s\n",
    "import g2_generate_correlation as g2\n",
    "import numpy as np"
   ]
  },
  {
   "cell_type": "code",
   "execution_count": 2,
   "metadata": {},
   "outputs": [],
   "source": [
    "def find_issues_to_extract():\n",
    "    lines = original_issues.extract_statement_count()\n",
    "    set_issue = set()\n",
    "    for l in lines[1:]:\n",
    "        set_issue.add(int(l[2]))\n",
    "    return list(set_issue)"
   ]
  },
  {
   "cell_type": "code",
   "execution_count": 3,
   "metadata": {},
   "outputs": [],
   "source": [
    "def extract_coeff_issues():\n",
    "    # Extract all the issue number in the original dataset\n",
    "    list_issues = np.sort(find_issues_to_extract())\n",
    "    list_coeff = []\n",
    "    for i in list_issues:\n",
    "        if(i == 570):\n",
    "            list_paragraphes = p.extract_paragraphes_from_issue(i)\n",
    "            list_sentences = s.sentences(list_paragraphes)\n",
    "            coef_matrix = g2.compute_correlation_coefficient(i, list_sentences)\n",
    "            coef_corr = coef_matrix[0][1]\n",
    "            list_coeff.append((i,coef_corr))\n",
    "    return list_coeff\n",
    ""
   ]
  }
 ]
}