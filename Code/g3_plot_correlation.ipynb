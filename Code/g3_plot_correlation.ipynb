{
 "nbformat": 4,
 "nbformat_minor": 2,
 "metadata": {
  "language_info": {
   "name": "python",
   "codemirror_mode": {
    "name": "ipython",
    "version": 3
   },
   "version": "3.7.6-final"
  },
  "orig_nbformat": 2,
  "file_extension": ".py",
  "mimetype": "text/x-python",
  "name": "python",
  "npconvert_exporter": "python",
  "pygments_lexer": "ipython3",
  "version": 3,
  "kernelspec": {
   "name": "python37664bit162d60da764a43dc83edcb73a443ab01",
   "display_name": "Python 3.7.6 64-bit"
  }
 },
 "cells": [
  {
   "cell_type": "code",
   "execution_count": 1,
   "metadata": {},
   "outputs": [
    {
     "output_type": "stream",
     "name": "stdout",
     "text": "importing Jupyter notebook from e2_extract_occ_original.ipynb\nimporting Jupyter notebook from c1_extract_paragraphe_issue.ipynb\nimporting Jupyter notebook from c2_extract_sentence_issue.ipynb\nimporting Jupyter notebook from g2_generate_correlation.ipynb\nimporting Jupyter notebook from g1_generate_dictionary.ipynb\nWARNING:root:Could not identify Central America in list_a\nWARNING:root:Could not identify SICA in list_a\nWARNING:root:Multiple matches for name Congo, Democratic Rep. in list_b\nWARNING:root:Could not identify COMIFAC in list_a\nWARNING:root:Could not find any correspondence for Korea, Democratic Rep. in list_b\nWARNING:root:Could not identify Group of 9 in list_a\nWARNING:root:Could not find any correspondence for Equatorial Guinea in list_b\nWARNING:root:Could not identify Visegrad Group in list_a\nWARNING:root:Could not identify Mountain Landlocked Developing Countries in list_a\nWARNING:root:Multiple matches for name United Arab Emirates in list_b\nWARNING:root:Could not identify country in list_a\nWARNING:root:Multiple matches for name United States in list_b\nWARNING:root:Could not identify EITs in list_a\nWARNING:root:Multiple matches for name Korea, Republic in list_b\nWARNING:root:Could not identify Central Group Eleven in list_a\nWARNING:root:Could not identify Like Minded Developing Countries in list_a\nimporting Jupyter notebook from e1_extract_occ_gen.ipynb\n"
    }
   ],
   "source": [
    "import warnings\n",
    "warnings.simplefilter(action='ignore', category=Warning)\n",
    "import import_ipynb\n",
    "import e2_extract_occ_original as original_issues\n",
    "import c1_extract_paragraphe_issue as p\n",
    "import c2_extract_sentence_issue as s\n",
    "import g2_generate_correlation as g2\n",
    "import numpy as np"
   ]
  },
  {
   "cell_type": "code",
   "execution_count": 2,
   "metadata": {},
   "outputs": [],
   "source": [
    "def find_issues_to_extract():\n",
    "    lines = original_issues.extract_statement_count()\n",
    "    set_issue = set()\n",
    "    for l in lines[1:]:\n",
    "        set_issue.add(int(l[2]))\n",
    "    return list(set_issue)"
   ]
  },
  {
   "cell_type": "code",
   "execution_count": 3,
   "metadata": {},
   "outputs": [],
   "source": [
    "def extract_coeff_issues():\n",
    "    # Extract all the issue number in the original dataset\n",
    "    list_issues = np.sort(find_issues_to_extract())\n",
    "    list_coeff = []\n",
    "    for i in list_issues:\n",
    "        if(300 < i and i < 310):\n",
    "            list_paragraphes = p.extract_paragraphes_from_issue(i)\n",
    "            list_sentences = s.sentences(list_paragraphes)\n",
    "            coef_matrix = g2.compute_correlation_coefficient(i, list_sentences)\n",
    "            coef_corr = coef_matrix[0][1]\n",
    "            list_coeff.append((i,coef_corr))\n",
    "    return list_coeff\n",
    ""
   ]
  },
  {
   "cell_type": "code",
   "execution_count": 4,
   "metadata": {},
   "outputs": [
    {
     "output_type": "stream",
     "name": "stdout",
     "text": "Issue  301\nWARNING:root:Could not identify Central America in list_a\nWARNING:root:Could not identify SICA in list_a\nWARNING:root:Multiple matches for name Congo, Democratic Rep. in list_b\nWARNING:root:Could not identify COMIFAC in list_a\nWARNING:root:Could not find any correspondence for Korea, Democratic Rep. in list_b\nWARNING:root:Could not identify Group of 9 in list_a\nWARNING:root:Could not find any correspondence for Equatorial Guinea in list_b\nWARNING:root:Could not identify Visegrad Group in list_a\nWARNING:root:Could not identify Mountain Landlocked Developing Countries in list_a\nWARNING:root:Multiple matches for name United Arab Emirates in list_b\nWARNING:root:Could not identify country in list_a\nWARNING:root:Multiple matches for name United States in list_b\nWARNING:root:Could not identify EITs in list_a\nWARNING:root:Multiple matches for name Korea, Republic in list_b\nWARNING:root:Could not identify Central Group Eleven in list_a\nWARNING:root:Could not identify Like Minded Developing Countries in list_a\nIssue  302\nWARNING:root:Could not identify Central America in list_a\nWARNING:root:Could not identify SICA in list_a\nWARNING:root:Multiple matches for name Congo, Democratic Rep. in list_b\nWARNING:root:Could not identify COMIFAC in list_a\nWARNING:root:Could not find any correspondence for Korea, Democratic Rep. in list_b\nWARNING:root:Could not identify Group of 9 in list_a\nWARNING:root:Could not find any correspondence for Equatorial Guinea in list_b\nWARNING:root:Could not identify Visegrad Group in list_a\nWARNING:root:Could not identify Mountain Landlocked Developing Countries in list_a\nWARNING:root:Multiple matches for name United Arab Emirates in list_b\nWARNING:root:Could not identify country in list_a\nWARNING:root:Multiple matches for name United States in list_b\nWARNING:root:Could not identify EITs in list_a\nWARNING:root:Multiple matches for name Korea, Republic in list_b\nWARNING:root:Could not identify Central Group Eleven in list_a\nWARNING:root:Could not identify Like Minded Developing Countries in list_a\nIssue  303\nWARNING:root:Could not identify Central America in list_a\nWARNING:root:Could not identify SICA in list_a\nWARNING:root:Multiple matches for name Congo, Democratic Rep. in list_b\nWARNING:root:Could not identify COMIFAC in list_a\nWARNING:root:Could not find any correspondence for Korea, Democratic Rep. in list_b\nWARNING:root:Could not identify Group of 9 in list_a\nWARNING:root:Could not find any correspondence for Equatorial Guinea in list_b\nWARNING:root:Could not identify Visegrad Group in list_a\nWARNING:root:Could not identify Mountain Landlocked Developing Countries in list_a\nWARNING:root:Multiple matches for name United Arab Emirates in list_b\nWARNING:root:Could not identify country in list_a\nWARNING:root:Multiple matches for name United States in list_b\nWARNING:root:Could not identify EITs in list_a\nWARNING:root:Multiple matches for name Korea, Republic in list_b\nWARNING:root:Could not identify Central Group Eleven in list_a\nWARNING:root:Could not identify Like Minded Developing Countries in list_a\nIssue  304\nWARNING:root:Could not identify Central America in list_a\nWARNING:root:Could not identify SICA in list_a\nWARNING:root:Multiple matches for name Congo, Democratic Rep. in list_b\nWARNING:root:Could not identify COMIFAC in list_a\nWARNING:root:Could not find any correspondence for Korea, Democratic Rep. in list_b\nWARNING:root:Could not identify Group of 9 in list_a\nWARNING:root:Could not find any correspondence for Equatorial Guinea in list_b\nWARNING:root:Could not identify Visegrad Group in list_a\nWARNING:root:Could not identify Mountain Landlocked Developing Countries in list_a\nWARNING:root:Multiple matches for name United Arab Emirates in list_b\nWARNING:root:Could not identify country in list_a\nWARNING:root:Multiple matches for name United States in list_b\nWARNING:root:Could not identify EITs in list_a\nWARNING:root:Multiple matches for name Korea, Republic in list_b\nWARNING:root:Could not identify Central Group Eleven in list_a\nWARNING:root:Could not identify Like Minded Developing Countries in list_a\nIssue  305\nWARNING:root:Could not identify Central America in list_a\nWARNING:root:Could not identify SICA in list_a\nWARNING:root:Multiple matches for name Congo, Democratic Rep. in list_b\nWARNING:root:Could not identify COMIFAC in list_a\nWARNING:root:Could not find any correspondence for Korea, Democratic Rep. in list_b\nWARNING:root:Could not identify Group of 9 in list_a\nWARNING:root:Could not find any correspondence for Equatorial Guinea in list_b\nWARNING:root:Could not identify Visegrad Group in list_a\nWARNING:root:Could not identify Mountain Landlocked Developing Countries in list_a\nWARNING:root:Multiple matches for name United Arab Emirates in list_b\nWARNING:root:Could not identify country in list_a\nWARNING:root:Multiple matches for name United States in list_b\nWARNING:root:Could not identify EITs in list_a\nWARNING:root:Multiple matches for name Korea, Republic in list_b\nWARNING:root:Could not identify Central Group Eleven in list_a\nWARNING:root:Could not identify Like Minded Developing Countries in list_a\nIssue  308\nWARNING:root:Could not identify Central America in list_a\nWARNING:root:Could not identify SICA in list_a\nWARNING:root:Multiple matches for name Congo, Democratic Rep. in list_b\nWARNING:root:Could not identify COMIFAC in list_a\nWARNING:root:Could not find any correspondence for Korea, Democratic Rep. in list_b\nWARNING:root:Could not identify Group of 9 in list_a\nWARNING:root:Could not find any correspondence for Equatorial Guinea in list_b\nWARNING:root:Could not identify Visegrad Group in list_a\nWARNING:root:Could not identify Mountain Landlocked Developing Countries in list_a\nWARNING:root:Multiple matches for name United Arab Emirates in list_b\nWARNING:root:Could not identify country in list_a\nWARNING:root:Multiple matches for name United States in list_b\nWARNING:root:Could not identify EITs in list_a\nWARNING:root:Multiple matches for name Korea, Republic in list_b\nWARNING:root:Could not identify Central Group Eleven in list_a\nWARNING:root:Could not identify Like Minded Developing Countries in list_a\nIssue  309\nWARNING:root:Could not identify Central America in list_a\nWARNING:root:Could not identify SICA in list_a\nWARNING:root:Multiple matches for name Congo, Democratic Rep. in list_b\nWARNING:root:Could not identify COMIFAC in list_a\nWARNING:root:Could not find any correspondence for Korea, Democratic Rep. in list_b\nWARNING:root:Could not identify Group of 9 in list_a\nWARNING:root:Could not find any correspondence for Equatorial Guinea in list_b\nWARNING:root:Could not identify Visegrad Group in list_a\nWARNING:root:Could not identify Mountain Landlocked Developing Countries in list_a\nWARNING:root:Multiple matches for name United Arab Emirates in list_b\nWARNING:root:Could not identify country in list_a\nWARNING:root:Multiple matches for name United States in list_b\nWARNING:root:Could not identify EITs in list_a\nWARNING:root:Multiple matches for name Korea, Republic in list_b\nWARNING:root:Could not identify Central Group Eleven in list_a\nWARNING:root:Could not identify Like Minded Developing Countries in list_a\n"
    }
   ],
   "source": [
    "list_text = extract_coeff_issues()"
   ]
  },
  {
   "cell_type": "code",
   "execution_count": 5,
   "metadata": {},
   "outputs": [
    {
     "output_type": "stream",
     "name": "stdout",
     "text": "(301, 0.7108877482606291)\n(302, 0.9335821950911938)\n(303, 0.8854966940219359)\n(304, 0.9904728793192474)\n(305, 0.5045272964569905)\n(308, 0.759540745587766)\n(309, 0.5194489008981596)\n"
    }
   ],
   "source": [
    "for x in list_text:\n",
    "    print(x)"
   ]
  },
  {
   "cell_type": "code",
   "execution_count": null,
   "metadata": {},
   "outputs": [],
   "source": []
  }
 ]
}