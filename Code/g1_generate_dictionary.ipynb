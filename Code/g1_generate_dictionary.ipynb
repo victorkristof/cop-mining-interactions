{
 "nbformat": 4,
 "nbformat_minor": 2,
 "metadata": {
  "language_info": {
   "name": "python",
   "codemirror_mode": {
    "name": "ipython",
    "version": 3
   },
   "version": "3.7.4-final"
  },
  "orig_nbformat": 2,
  "file_extension": ".py",
  "mimetype": "text/x-python",
  "name": "python",
  "npconvert_exporter": "python",
  "pygments_lexer": "ipython3",
  "version": 3,
  "kernelspec": {
   "name": "python37664bit162d60da764a43dc83edcb73a443ab01",
   "display_name": "Python 3.7.6 64-bit"
  }
 },
 "cells": [
  {
   "cell_type": "code",
   "execution_count": 1,
   "metadata": {},
   "outputs": [],
   "source": [
    "import urllib.request\n",
    "import csv\n",
    "import Levenshtein\n",
    "from difflib import SequenceMatcher\n",
    "import country_converter as coco\n",
    "import numpy as np\n",
    ""
   ]
  },
  {
   "cell_type": "code",
   "execution_count": 2,
   "metadata": {},
   "outputs": [],
   "source": [
    "import warnings\n",
    "\n",
    "def fxn():\n",
    "    warnings.warn(\"deprecated\", DeprecationWarning)\n",
    "\n",
    "with warnings.catch_warnings():\n",
    "    warnings.simplefilter(\"ignore\")\n",
    "    fxn()"
   ]
  },
  {
   "cell_type": "code",
   "execution_count": 3,
   "metadata": {},
   "outputs": [],
   "source": [
    "def open_list_meetings():\n",
    "    f = open('statements_count.csv')\n",
    "    return csv.reader(f)"
   ]
  },
  {
   "cell_type": "code",
   "execution_count": 4,
   "metadata": {},
   "outputs": [],
   "source": [
    "def extract_statement_count():\n",
    "    dataset =  open_list_meetings()\n",
    "    lines = []\n",
    "    for d in dataset:\n",
    "        if(len(d) != 0):\n",
    "            line = d[0].split('\\t')\n",
    "            lines.append((line[0],line[2],line[1]))\n",
    "    return lines"
   ]
  },
  {
   "cell_type": "code",
   "execution_count": 5,
   "metadata": {},
   "outputs": [],
   "source": [
    "def extract_entities():\n",
    "    dataset = extract_statement_count()\n",
    "    entities = set()\n",
    "    for d in dataset:\n",
    "        entities.add(d[0])\n",
    "\n",
    "    return list(entities)"
   ]
  },
  {
   "cell_type": "code",
   "execution_count": 6,
   "metadata": {},
   "outputs": [],
   "source": [
    "entities_original = extract_entities()\n",
    "entities_generated = [p.replace('\\n','') for p in list(open(\"entities_clean.txt\"))]"
   ]
  },
  {
   "cell_type": "code",
   "execution_count": 7,
   "metadata": {},
   "outputs": [],
   "source": [
    "def similar(a, b):\n",
    "    return SequenceMatcher(None, a, b).ratio()"
   ]
  },
  {
   "cell_type": "code",
   "execution_count": 8,
   "metadata": {},
   "outputs": [],
   "source": [
    "def extract_initial(entities_gen, dict_e):\n",
    "    entities_original = extract_entities()\n",
    "    for eg in entities_gen:\n",
    "        for e in entities_original:\n",
    "            d = Levenshtein.ratio(eg,e.upper())\n",
    "            if(d > 0.9):\n",
    "                dict_e[e].append(eg)\n",
    "    \n",
    "    return dict_e\n",
    ""
   ]
  },
  {
   "cell_type": "code",
   "execution_count": 9,
   "metadata": {},
   "outputs": [],
   "source": [
    "def extract_title(entities_gen, dict_e):\n",
    "    entities_original = extract_entities()\n",
    "    for eg in entities_gen:\n",
    "        for e in entities_original:\n",
    "            d = Levenshtein.ratio(eg.title(),e.title())\n",
    "            if(d > 0.9):\n",
    "                dict_e[e].append(eg)\n",
    "\n",
    "    return dict_e"
   ]
  },
  {
   "cell_type": "code",
   "execution_count": 10,
   "metadata": {},
   "outputs": [],
   "source": [
    "def extract_normal(entities_gen, dict_e):\n",
    "    entities_original = extract_entities()\n",
    "    for eg in entities_gen:\n",
    "        for e in entities_original:\n",
    "            d1 = Levenshtein.ratio(eg.lower(),e.lower())\n",
    "            if(d1 > 0.9):\n",
    "                dict_e[e].append(eg)\n",
    "    return dict_e"
   ]
  },
  {
   "cell_type": "code",
   "execution_count": 11,
   "metadata": {},
   "outputs": [],
   "source": [
    "def extract_g77china(entities_gen, dict_e):\n",
    "    entities_original = extract_entities()\n",
    "    entities = []\n",
    "    for eg in entities_gen:\n",
    "        s = 'G77'\n",
    "        if(eg == 'G-77/CHINA'):\n",
    "            dict_e[s].append(eg)\n",
    "        egs = eg[:3]\n",
    "        d1 = Levenshtein.ratio(s,egs)\n",
    "        if(d1 > 0.95):\n",
    "            dict_e[s].append(eg)\n",
    "\n",
    "    return dict_e"
   ]
  },
  {
   "cell_type": "code",
   "execution_count": 12,
   "metadata": {},
   "outputs": [],
   "source": [
    "def create_dict(entities_original):\n",
    "    dict_e = {}\n",
    "    for e in entities_original:\n",
    "        dict_e[e] = []\n",
    "    return dict_e"
   ]
  },
  {
   "cell_type": "code",
   "execution_count": 13,
   "metadata": {},
   "outputs": [],
   "source": [
    "def remaining_original(dict_entities):\n",
    "    list_remain_original = []\n",
    "    for e in dict_entities:\n",
    "        if(len(dict_entities[e]) == 0):\n",
    "           list_remain_original.append(e)\n",
    "           \n",
    "    return list_remain_original\n",
    ""
   ]
  },
  {
   "cell_type": "code",
   "execution_count": 14,
   "metadata": {},
   "outputs": [],
   "source": [
    "def matching(entities_generated, remain_original, dict_entities):\n",
    "    master_list = entities_generated\n",
    "    match_these = remain_original\n",
    "    matching_dict = coco.match(match_these, master_list)\n",
    "    for e in matching_dict:\n",
    "        if(matching_dict[e] !='not_found'):\n",
    "            if(type(matching_dict[e]) ==list):\n",
    "                dict_entities[e] += matching_dict[e]\n",
    "            else:\n",
    "                dict_entities[e].append(matching_dict[e])\n",
    "                \n",
    "    return dict_entities\n",
    ""
   ]
  },
  {
   "cell_type": "code",
   "execution_count": 15,
   "metadata": {},
   "outputs": [],
   "source": [
    "def compute_last_chance(dict_entities):\n",
    "    entities_generated = [p.replace('\\n','') for p in list(open(\"entities_clean.txt\"))]\n",
    "\n",
    "    remain_original = []\n",
    "    for e in dict_entities:\n",
    "        if(len(dict_entities[e]) == 0):\n",
    "            remain_original.append(e)\n",
    "\n",
    "\n",
    "    for er in remain_original:\n",
    "        for e in entities_generated:\n",
    "            d = Levenshtein.ratio(er.upper(),e)\n",
    "            if(d > 0.8):\n",
    "                dict_entities[er].append(e)\n",
    "\n",
    "    return dict_entities"
   ]
  },
  {
   "cell_type": "code",
   "execution_count": 16,
   "metadata": {},
   "outputs": [],
   "source": [
    "def compute_dictionary():\n",
    "    dict_entities = create_dict(entities_original)\n",
    "    dict_entities = extract_initial(entities_generated, dict_entities)\n",
    "    dict_entities = extract_title(entities_generated, dict_entities)\n",
    "    dict_entities = extract_normal(entities_generated, dict_entities)\n",
    "    dict_entities = extract_g77china(entities_generated, dict_entities)\n",
    "    remaining_orig = remaining_original(dict_entities)\n",
    "    dict_entities = matching(entities_generated, remaining_orig , dict_entities)\n",
    "\n",
    "    dictionary = compute_last_chance(dict_entities)\n",
    "\n",
    "    for d in dictionary:\n",
    "        dictionary[d] = list(set(dictionary[d]))\n",
    "\n",
    "    return dictionary"
   ]
  },
  {
   "cell_type": "code",
   "execution_count": 17,
   "metadata": {},
   "outputs": [
    {
     "output_type": "stream",
     "name": "stderr",
     "text": "WARNING:root:Multiple matches for name United States in list_b\nWARNING:root:Could not identify Group of 9 in list_a\nWARNING:root:Could not find any correspondence for Equatorial Guinea in list_b\nWARNING:root:Could not identify country in list_a\nWARNING:root:Could not identify Visegrad Group in list_a\nWARNING:root:Could not identify EITs in list_a\nWARNING:root:Could not find any correspondence for Korea, Democratic Rep. in list_b\nWARNING:root:Could not identify Central America in list_a\nWARNING:root:Could not identify COMIFAC in list_a\nWARNING:root:Multiple matches for name Congo, Democratic Rep. in list_b\nWARNING:root:Could not identify SICA in list_a\nWARNING:root:Could not identify Mountain Landlocked Developing Countries in list_a\nWARNING:root:Could not identify Like Minded Developing Countries in list_a\nWARNING:root:Multiple matches for name United Arab Emirates in list_b\nWARNING:root:Multiple matches for name Korea, Republic in list_b\nWARNING:root:Could not identify Central Group Eleven in list_a\n"
    }
   ],
   "source": [
    "dictionary = compute_dictionary()"
   ]
  },
  {
   "cell_type": "code",
   "execution_count": null,
   "metadata": {},
   "outputs": [],
   "source": []
  }
 ]
}