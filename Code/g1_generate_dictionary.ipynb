{
 "cells": [
  {
   "cell_type": "markdown",
   "metadata": {},
   "source": [
    "# g1_generated_dictionary\n",
    "Create a dictionary to be able to match the entities in the original dataset and the entities generated.\n"
   ]
  },
  {
   "cell_type": "code",
   "execution_count": 1,
   "metadata": {},
   "outputs": [],
   "source": [
    "import urllib.request\n",
    "import csv\n",
    "import Levenshtein\n",
    "from difflib import SequenceMatcher\n",
    "import country_converter as coco\n",
    "import numpy as np\n",
    "import logging"
   ]
  },
  {
   "cell_type": "code",
   "execution_count": 2,
   "metadata": {},
   "outputs": [],
   "source": [
    "logging.disable(logging.WARNING)"
   ]
  },
  {
   "cell_type": "code",
   "execution_count": 3,
   "metadata": {},
   "outputs": [],
   "source": [
    "def extract_statement_count():\n",
    "    \"\"\"Extract from the original dataset all the interventions.\"\"\"\n",
    "    f = open('Text/statements_count.csv')\n",
    "    dataset = csv.reader(f)\n",
    "    lines = []\n",
    "    for d in dataset:\n",
    "        if(len(d) != 0):\n",
    "            line = d[0].split('\\t')\n",
    "            lines.append((line[0],line[2],line[1]))\n",
    "    return lines"
   ]
  },
  {
   "cell_type": "code",
   "execution_count": 4,
   "metadata": {},
   "outputs": [],
   "source": [
    "def extract_entities():\n",
    "    \"\"\"Extract from the original dataset all parties or party grouping.\"\"\"\n",
    "    dataset = extract_statement_count()\n",
    "    entities = set()\n",
    "    for d in dataset:\n",
    "        entities.add(d[0])\n",
    "\n",
    "    return list(entities)"
   ]
  },
  {
   "cell_type": "code",
   "execution_count": 5,
   "metadata": {},
   "outputs": [],
   "source": [
    "entities_original = extract_entities()\n",
    "entities_generated = [p.replace('\\n','') for p in list(open(\"Text/entities_clean.txt\"))]"
   ]
  },
  {
   "cell_type": "markdown",
   "metadata": {},
   "source": [
    "### extract_[] are all function to map the entities in the original data to the one generated"
   ]
  },
  {
   "cell_type": "code",
   "execution_count": 6,
   "metadata": {},
   "outputs": [],
   "source": [
    "def extract_initial(entities_gen, dict_e):\n",
    "    entities_original = extract_entities()\n",
    "    for eg in entities_gen:\n",
    "        for e in entities_original:\n",
    "            d = Levenshtein.ratio(eg,e.upper())\n",
    "            if(d > 0.9):\n",
    "                dict_e[e].append(eg)\n",
    "    \n",
    "    return dict_e\n",
    ""
   ]
  },
  {
   "cell_type": "code",
   "execution_count": 7,
   "metadata": {},
   "outputs": [],
   "source": [
    "def extract_title(entities_gen, dict_e):\n",
    "    entities_original = extract_entities()\n",
    "    for eg in entities_gen:\n",
    "        for e in entities_original:\n",
    "            d = Levenshtein.ratio(eg.title(),e.title())\n",
    "            if(d > 0.9):\n",
    "                dict_e[e].append(eg)\n",
    "\n",
    "    return dict_e"
   ]
  },
  {
   "cell_type": "code",
   "execution_count": 8,
   "metadata": {},
   "outputs": [],
   "source": [
    "def extract_normal(entities_gen, dict_e):\n",
    "    entities_original = extract_entities()\n",
    "    for eg in entities_gen:\n",
    "        for e in entities_original:\n",
    "            d1 = Levenshtein.ratio(eg.lower(),e.lower())\n",
    "            if(d1 > 0.9):\n",
    "                dict_e[e].append(eg)\n",
    "    return dict_e"
   ]
  },
  {
   "cell_type": "code",
   "execution_count": 9,
   "metadata": {},
   "outputs": [],
   "source": [
    "def extract_g77china(entities_gen, dict_e):\n",
    "    entities_original = extract_entities()\n",
    "    entities = []\n",
    "    for eg in entities_gen:\n",
    "        s = 'G77'\n",
    "        if(eg == 'G-77/CHINA'):\n",
    "            dict_e[s].append(eg)\n",
    "        if(eg == 'G-77/ CHINA'):\n",
    "            dict_e[s].append(eg)\n",
    "        if(eg == 'said the G-77/China'):\n",
    "            dict_e[s].append(eg)\n",
    "        if(eg == 'for the G-77/China' or eg == 'for the G-77/ China' or eg == 'for the Group of 77 and China'):\n",
    "            dict_e[s].append(eg)\n",
    "        egs = eg[:3]\n",
    "        d1 = Levenshtein.ratio(s,egs)\n",
    "        if(d1 > 0.95):\n",
    "            dict_e[s].append(eg)\n",
    "\n",
    "    return dict_e"
   ]
  },
  {
   "cell_type": "code",
   "execution_count": 10,
   "metadata": {},
   "outputs": [],
   "source": [
    "def extract_ldc(entities_gen, dict_e):\n",
    "    entities_original = extract_entities()\n",
    "    entities = []\n",
    "    for eg in entities_gen:\n",
    "        s = 'LEAST DEVELOPED COUNTRIES'\n",
    "        if(eg == 'for the LDCs' or eg == 'for the Least Developed Countries' or eg == 'for LDCs' or eg == 'LDC GROUP'):\n",
    "            dict_e['LDCs'].append(eg)\n",
    "        d1 = Levenshtein.ratio(s,eg)\n",
    "        if(d1 > 0.95):\n",
    "            dict_e['LDCs'].append(eg)\n",
    "\n",
    "    return dict_e"
   ]
  },
  {
   "cell_type": "code",
   "execution_count": 11,
   "metadata": {},
   "outputs": [],
   "source": [
    "def extract_aosis(entities_gen, dict_e):\n",
    "    entities_original = extract_entities()\n",
    "    entities = []\n",
    "    for eg in entities_gen:\n",
    "        if(eg == 'ALLIANCE OF SMALL ISLAND STATES'):\n",
    "            dict_e['AOSIS'].append(eg)\n",
    "    return dict_e"
   ]
  },
  {
   "cell_type": "code",
   "execution_count": 12,
   "metadata": {},
   "outputs": [],
   "source": [
    "def extract_sadc(entities_gen, dict_e):\n",
    "    entities_original = extract_entities()\n",
    "    entities = []\n",
    "    for eg in entities_gen:\n",
    "        s = 'SADC'\n",
    "        d1 = Levenshtein.ratio(s,eg)\n",
    "        if(d1 > 0.95):\n",
    "            dict_e['Southern Africa Development Community'].append(eg)\n",
    "\n",
    "    return dict_e"
   ]
  },
  {
   "cell_type": "code",
   "execution_count": 13,
   "metadata": {},
   "outputs": [],
   "source": [
    "def extract_eig(entities_gen, dict_e):\n",
    "    entities_original = extract_entities()\n",
    "    entities = []\n",
    "    for eg in entities_gen:\n",
    "        if(eg == 'for the Environmental Integrity Group'):\n",
    "            dict_e['Environmental Integrity Group'].append(eg)\n",
    "        s = 'EIG'\n",
    "        d1 = Levenshtein.ratio(s,eg)\n",
    "        if(d1 > 0.95):\n",
    "            dict_e['Environmental Integrity Group'].append(eg)\n",
    "\n",
    "    return dict_e"
   ]
  },
  {
   "cell_type": "code",
   "execution_count": 14,
   "metadata": {},
   "outputs": [],
   "source": [
    "def remaining_original(dict_entities):\n",
    "    \"\"\"Find all the entities that still not have a match.\"\"\"\n",
    "    list_remain_original = []\n",
    "    for e in dict_entities:\n",
    "        if(len(dict_entities[e]) == 0 or e == 'Russian Federation'):\n",
    "           list_remain_original.append(e)\n",
    "           \n",
    "    return list_remain_original\n",
    ""
   ]
  },
  {
   "cell_type": "code",
   "execution_count": 15,
   "metadata": {},
   "outputs": [],
   "source": [
    "def create_dict(entities_original):\n",
    "    \"\"\"Create a dictionary for all the entities into the original dataset.\"\"\"\n",
    "    dict_e = {}\n",
    "    for e in entities_original:\n",
    "        dict_e[e] = []\n",
    "    return dict_e"
   ]
  },
  {
   "cell_type": "code",
   "execution_count": 16,
   "metadata": {},
   "outputs": [],
   "source": [
    "def matching(entities_generated, remain_original, dict_entities):\n",
    "    \"\"\"Use the library contry-convertor to match the remaining entities of the originla dataset\"\"\"\n",
    "    master_list = entities_generated\n",
    "    match_these = remain_original\n",
    "    matching_dict = coco.match(match_these, master_list)\n",
    "    for e in matching_dict:\n",
    "        if(matching_dict[e] !='not_found'):\n",
    "\n",
    "            if(type(matching_dict[e]) ==list):\n",
    "                dict_entities[e] += matching_dict[e]\n",
    "            else:\n",
    "                dict_entities[e].append(matching_dict[e])\n",
    "                \n",
    "    return dict_entities\n",
    ""
   ]
  },
  {
   "cell_type": "code",
   "execution_count": 17,
   "metadata": {},
   "outputs": [],
   "source": [
    "def create_initials(entities_generated, dict_entities):\n",
    "    list_remain_original = []\n",
    "    u = ''\n",
    "    for e in dict_entities:\n",
    "        initials = u.join([x[0].upper() for x in e.split(' ')])\n",
    "        for eg in entities_generated:\n",
    "            d1 = Levenshtein.ratio(initials,eg)\n",
    "            if(d1 > 0.90):\n",
    "                dict_entities[e].append(eg)\n",
    "\n",
    "    return dict_entities"
   ]
  },
  {
   "cell_type": "code",
   "execution_count": 18,
   "metadata": {},
   "outputs": [],
   "source": [
    "def find_groups(entities_generated, dict_entities):\n",
    "    list_remain_original = []\n",
    "    u = ''\n",
    "    for e in dict_entities:\n",
    "        initials = u.join([x[0].upper() for x in e.split(' ')])\n",
    "        for eg in entities_generated:\n",
    "            eg_g = eg.replace('GROUP','')\n",
    "            d1 = Levenshtein.ratio(initials,eg_g)\n",
    "            if(d1 > 0.95):\n",
    "                dict_entities[e].append(eg)\n",
    "\n",
    "    return dict_entities"
   ]
  },
  {
   "cell_type": "code",
   "execution_count": 19,
   "metadata": {},
   "outputs": [],
   "source": [
    "def compute_last_chance(dict_entities):\n",
    "    \"\"\"Try to match the entities remaining with words with ratio > 0.8\"\"\"\n",
    "    entities_generated = [p.replace('\\n','') for p in list(open(\"Text/entities_clean.txt\"))]\n",
    "    remain_original = []\n",
    "    for e in dict_entities:\n",
    "        if(len(dict_entities[e]) == 0):\n",
    "            remain_original.append(e)\n",
    "\n",
    "    for er in remain_original:\n",
    "        for e in entities_generated:\n",
    "            d = Levenshtein.ratio(er.upper(),e)\n",
    "            if(d > 0.8):\n",
    "\n",
    "                dict_entities[er].append(e)\n",
    "\n",
    "    return dict_entities"
   ]
  },
  {
   "cell_type": "code",
   "execution_count": 20,
   "metadata": {},
   "outputs": [],
   "source": [
    "def add_for_the(dict_entities):\n",
    "    dict_entities['Umbrella Group'].append('for the Umbrella Group')\n",
    "    dict_entities['EU'].append('for the European Union')\n",
    "    dict_entities['Arab Group'].append('for the Arab Group')\n",
    "    dict_entities['African Group'].append('for the Africa Group')\n",
    "    dict_entities['Arab Group'].append('for the League of Arab States')\n",
    "    dict_entities['Like Minded Developing Countries'].append('for the Like Minded Developing Countries')\n",
    "    return dict_entities"
   ]
  },
  {
   "cell_type": "code",
   "execution_count": 21,
   "metadata": {},
   "outputs": [],
   "source": [
    "def add_special_cases(dict_entities):\n",
    "    dict_entities['EU'].append('EUROPEAN UNION')\n",
    "    dict_entities['Syrian Arab Republic'].append('SYRIA')\n",
    "    dict_entities['United States'].append('US')\n",
    "    dict_entities['United Arab Emirates'].append('ARAB EMIRATES')\n",
    "\n",
    "    \n",
    "    dict_entities['Group of 9'].append('GROUP OF NINE')\n",
    "    dict_entities['Switzerland'].append('SWITZER')\n",
    "    dict_entities['Like Minded Developing Countries'].append('LMDC')\n",
    "    dict_entities['Like Minded Developing Countries'].append('LMDCS')\n",
    "    dict_entities['Central Group Eleven'].append('CG-11')\n",
    "    dict_entities['Micronesia'].append('FEDERATED STATES OF MICRONESIA')\n",
    "    dict_entities['Arab Group'].append('ARAB STATES')\n",
    "    \n",
    "    return dict_entities\n"
   ]
  },
  {
   "cell_type": "code",
   "execution_count": 22,
   "metadata": {},
   "outputs": [],
   "source": [
    "def compute_dictionary():\n",
    "    \"\"\"Generated the dictionary between the original entities and the one generated\"\"\"\n",
    "    dict_entities = create_dict(entities_original)\n",
    "    dict_entities = extract_initial(entities_generated, dict_entities)\n",
    "    dict_entities = extract_title(entities_generated, dict_entities)\n",
    "    dict_entities = extract_normal(entities_generated, dict_entities)\n",
    "    dict_entities = extract_g77china(entities_generated, dict_entities)\n",
    "    dict_entities = extract_sadc(entities_generated, dict_entities)\n",
    "    dict_entities = extract_aosis(entities_generated, dict_entities)\n",
    "    dict_entities = extract_eig(entities_generated, dict_entities)\n",
    "    dict_entities = extract_ldc(entities_generated, dict_entities)\n",
    "    dict_entities = create_initials(entities_generated, dict_entities)\n",
    "    dict_entities = find_groups(entities_generated, dict_entities)\n",
    "    remaining_orig = remaining_original(dict_entities)\n",
    "    dict_entities = matching(entities_generated, remaining_orig , dict_entities)\n",
    "    dict_entities = add_for_the(dict_entities)\n",
    "    dict_entities = add_special_cases(dict_entities)\n",
    "\n",
    "    dictionary = compute_last_chance(dict_entities)\n",
    "\n",
    "\n",
    "    for d in dictionary:\n",
    "        dictionary[d] = list(set(dictionary[d]))\n",
    "\n",
    "    return dictionary"
   ]
  },
  {
   "cell_type": "markdown",
   "metadata": {},
   "source": [
    "keys 221/222 ( Korea, Democratic Rep. [] )\n",
    "generated 30/309\n",
    "\n",
    "\n",
    "\n",
    "\n",
    "\n",
    "\n",
    "\n",
    "\n"
   ]
  },
  {
   "cell_type": "code",
   "execution_count": 23,
   "metadata": {},
   "outputs": [
    {
     "output_type": "execute_result",
     "data": {
      "text/plain": "{'Nicaragua': ['NICARAGUA'],\n 'Panama': ['PANAMA'],\n 'Indonesia': ['INDONESIA'],\n 'BASIC': ['BASIC'],\n 'Yemen': ['YEMEN'],\n 'Colombia': ['COLOMBIA'],\n 'Timor-Leste': ['TIMOR LESTE'],\n 'Southern Africa Development Community': ['SADC',\n  'SOUTHERN AFRICA DEVELOPMENT COMMUNITY'],\n 'Uganda': ['UGANDA'],\n 'Costa Rica': ['COSTA RICA'],\n 'Japan': ['JAPAN'],\n 'Jordan': ['JORDAN'],\n 'JUSCANZ': ['JUSSCANZ', 'JUSCANZ'],\n 'Nigeria': ['NIGERIA'],\n 'Solomon Islands': ['SOLOMON ISLANDS'],\n 'Chad': ['CHAD'],\n 'Bulgaria': ['BULGARIA'],\n 'ALBA': ['ALBA'],\n 'Visegrad Group': ['VISEGRAD GROUP'],\n 'Chile': ['CHILE'],\n 'Benin': ['BENIN'],\n 'Qatar': ['QATAR'],\n 'SICA': ['SICA'],\n 'Ecuador': ['ECUADOR'],\n 'Tonga': ['TONGA'],\n 'COMIFAC': ['COMIFAC '],\n 'Ireland': ['IRELAND'],\n 'country': [],\n 'Mexico': ['MEXICO'],\n 'Brazil': ['BRAZIL'],\n 'El Salvador': ['EL SALVADOR'],\n 'Slovenia': ['SLOVENIA'],\n 'Honduras': ['HONDURAS'],\n 'Congo, Republic': ['REPUBLIC OF CONGO'],\n 'LDCs': ['LEAST DEVELOPED COUNTRIES',\n  'for the Least Developed Countries',\n  'for the LDCs',\n  'LDC GROUP',\n  'LDCS'],\n 'Tunisia': ['TUNISIA'],\n 'Central America': ['CENTRAL AMERICAN GROUP'],\n 'Greece': ['GREECE'],\n 'Croatia': ['CROATIA'],\n 'Nauru': ['NAURU'],\n 'Tuvalu': ['TUVALU'],\n 'Zambia': ['ZAMBIA'],\n 'South Africa': ['SOUTH AFRICA'],\n 'Umbrella Group': ['UG', 'UMBRELLA GROUP', 'for the Umbrella Group'],\n 'Lebanon': ['LEBANON'],\n 'EU': ['EUROPEAN UNION', 'for the European Union', 'EU'],\n 'Bhutan': ['BHUTAN'],\n 'Serbia and Montenegro': ['SERBIA AND MONTENEGRO'],\n 'Syrian Arab Republic': ['SYRIAN ARAB REPUBLIC', 'SYRIA'],\n 'Malawi': ['MALAWI'],\n 'Morocco': ['MOROCCO'],\n 'AOSIS': ['ALLIANCE OF SMALL ISLAND STATES', 'AOSIS'],\n 'Congo, Democratic Rep.': ['DRC', 'ZAIRE', 'DEMOCRATIC REPUBLIC OF CONGO'],\n 'Israel': ['ISRAEL'],\n 'AILAC': ['AILAC'],\n 'Iraq': ['IRAQ'],\n 'EITs': ['EIT'],\n 'Lithuania': ['LITHUANIA'],\n 'Philippines': ['PHILLIPPINES', 'PHILIPPINES', 'PHILLIPINES'],\n 'Romania': ['ROMANIA'],\n 'Like Minded Developing Countries': ['LIKE MINDED DEVELOPING COUNTRIES',\n  'LMDCS',\n  'for the Like Minded Developing Countries',\n  'LMDC'],\n 'Libya': ['LIBYA'],\n 'Bangladesh': ['BANGLADESH'],\n 'Guyana': ['GUYANA'],\n 'Luxembourg': ['LUXEMBOURG'],\n 'Poland': ['POLAND'],\n 'Algeria': ['ALGERIA'],\n 'Iceland': ['ICELAND'],\n 'Central Group': ['CENTRAL GROUP'],\n 'Mauritius': ['MAURITIUS'],\n 'New Zealand': ['NEW ZEALAND'],\n 'Netherlands': ['NETHERLANDS'],\n 'OECD': ['OECD'],\n 'G77': ['G77',\n  'G77-CHINA',\n  'for the G-77/ China',\n  'for the G-77/China',\n  'G77/CHINA',\n  'G-77/ CHINA',\n  'G-77/CHINA',\n  'G77 & CHINA',\n  'for the Group of 77 and China'],\n 'Papua New Guinea': ['PAPUA NEW GUINEA'],\n 'Italy': ['ITALY'],\n 'Belize': ['BELIZE'],\n 'Burundi': ['BURUNDI'],\n 'Nepal': ['NEPAL'],\n 'Cape Verde': ['CAPE VERDE '],\n 'Fiji': ['FIJI'],\n 'Lesotho': ['LESOTHO'],\n 'Equatorial Guinea': ['EQUATORIAL GUINEA'],\n 'Jamaica': ['JAMAICA'],\n 'Sierra Leone': ['SIERRA LEONE'],\n 'Palau': ['PALAU'],\n 'Georgia': ['GEORGIA'],\n 'Czech Republic': ['CZECH REPUBLIC'],\n 'Egypt': ['EGYPT'],\n 'Monaco': ['MONACO'],\n 'Trinidad and Tobago': ['TRINIDAD AND TOBAGO',\n  'TRINDAD AND TOBAGO',\n  'TRININDAD AND TOBAGO'],\n 'Grenada': ['GRENADA', 'GRENAD'],\n 'Antigua and Barbuda': ['ANTINGUA AND BARBUDA', 'ANTIGUA AND BARBUDA'],\n 'Turkmenistan': ['TURKMENISTAN'],\n 'Congo Basin Countries': ['CONGO BASIN COUNTRIES'],\n 'Finland': ['FINLAND'],\n 'Afghanistan': ['AFGHANISTAN'],\n 'Niger': ['NIGER'],\n 'Singapore': ['SINGAPORE'],\n 'African Group': ['for the Africa Group', 'AFRICAN GROUP', 'AFRICA GROUP'],\n 'Vietnam': ['VIET NAM', 'VIETNAM'],\n 'Macedonia': ['MACEDONIA'],\n 'Dominica': ['DOMINICA'],\n 'Myanmar': ['MYANMAR'],\n 'Ethiopia': ['ETHIOPIA'],\n 'Sudan': ['SUDAN'],\n 'Mountain Landlocked Developing Countries': ['MOUNTAIN LANDLOCKED DEVELOPING COUNTRIES'],\n 'Venezuela': ['VENEZULA', 'VENEZUELA'],\n 'Pakistan': ['PAKISTAN'],\n 'Bahamas': ['BAHAMAS'],\n 'Cambodia': ['CAMBODIA'],\n 'Yugoslavia': ['YUGOSLAVIA'],\n 'Ukraine': ['UKRAINE'],\n 'Cameroon': ['CAMEROON'],\n 'Bolivia': ['BOLIVIA', 'BOLIVA'],\n 'Belgium': ['BELGIUM'],\n 'India': ['INDIA'],\n 'CACAM': ['CACAM'],\n 'Tanzania': ['TANZANIA'],\n 'Rwanda': ['RWANDA'],\n 'Moldova': ['MOLDOVA'],\n 'Namibia': ['NAMIBIA'],\n 'Russian Federation': ['RUSSIA', 'RUSSIAN FEDERATION'],\n 'Lao PDR': ['LAOS'],\n 'Environmental Integrity Group': ['EIG',\n  'for the Environmental Integrity Group',\n  'ENVIRONMENTAL INTEGRITY GROUP'],\n 'Samoa': ['SAMOA'],\n 'Turkey': ['TURKEY'],\n 'Norway': ['NORWARY', 'NORWAY'],\n \"Cote d'Ivoire\": [\"COTE D'IVOIRE\"],\n 'Marshall Islands': ['MARSHALL ISLANDS'],\n 'Somalia': ['SOMALIA'],\n 'Central Group Eleven': ['CG-11'],\n 'OPEC': ['OPEC'],\n 'Uruguay': ['URUGUAY'],\n 'Brunei': ['BRUNEI'],\n 'Guinea': ['GUINEA'],\n 'Korea, Republic': ['REPUBLIC OF KOREA', 'KOREA'],\n 'Mauritania': ['MAURITANIA'],\n 'Malta': ['MALTA'],\n 'Mongolia': ['MONGOLIA'],\n 'Korea, Democratic Rep.': [],\n 'Malaysia': ['MALAYSIA'],\n 'Cuba': ['CUBA'],\n 'United States': ['US'],\n 'Australia': ['AUSTRALIA'],\n 'Estonia': ['ESTONIA'],\n 'Paraguay': ['PARAGUAY'],\n 'Hungary': ['HUNGARY'],\n 'Germany': ['GERMANY'],\n 'Senegal': ['SENEGAL'],\n 'Liechtenstein': ['LIECHTENSTEIN', 'LICHTENSTEIN'],\n 'Austria': ['AUSTRIA'],\n 'Burkina Faso': ['BURKINA FASO'],\n 'Gambia': ['GAMBIA'],\n 'Arab Group': ['ARAB GROUP',\n  'for the League of Arab States',\n  'for the Arab Group'],\n 'Slovak Republic': ['SLOVAKIA'],\n 'Zimbabwe': ['ZIMBABWE', 'ZIMABABWE'],\n 'Bosnia and Herzegovina': ['BOSNIA AND HERZEGOVINA'],\n 'Sri Lanka': ['SRI LANKA'],\n 'Dominican Republic': ['DOMINICAN REPUBLIC'],\n 'Canada': ['CANADA'],\n 'Argentina': ['ARGENTINA'],\n 'Haiti': ['HAITI'],\n 'Cook Islands': ['COOK ISLANDS', 'COOK ISLAND'],\n 'Kiribati': ['KIRIBATI'],\n 'Portugal': ['PORTUGAL'],\n 'Sweden': ['SWEDEN'],\n 'Botswana': ['BOTSWANA'],\n 'Iran': ['IRAN'],\n 'Denmark': ['DENMARK'],\n 'Suriname': ['SURINAME'],\n 'Peru': ['PERU'],\n 'Barbados': ['BARBADOS'],\n 'Kenya': ['KENYA'],\n 'Armenia': ['ARMENIA'],\n 'Mozambique': ['MOZAMBIQUE'],\n 'Niue': ['NIUE'],\n 'St. Lucia': ['SAINT LUCIA'],\n 'Kazakhstan': ['KAZAKHSTAN', 'KAZAKSTAN'],\n 'China': ['CHINA'],\n 'Seychelles': ['SEYCHELLES'],\n 'United Kingdom': ['UK'],\n 'Belarus': ['BELARUS'],\n 'Angola': ['ANGOLA'],\n 'Kyrgyz Republic': ['KYRGYZSTAN'],\n 'Swaziland': ['SWAZILAND'],\n 'Thailand': ['THAILAND'],\n 'Guinea-Bissau': ['GUINEA BISSAU'],\n 'Micronesia': ['MICRONESIA', 'FEDERATED STATES OF MICRONESIA'],\n 'United Arab Emirates': ['UAE', 'ARAB EMIRATES'],\n 'Albania': ['ALBANIA'],\n 'Liberia': ['LIBERIA'],\n 'Uzbekistan': ['UZBEKISTAN'],\n 'Comoros': ['COMOROS'],\n 'Mali': ['MALI'],\n 'Eritrea': ['ERITREA'],\n 'Gabon': ['GABON'],\n 'Maldives': ['MALDIVES'],\n 'Caribbean Community': ['CARIBBEAN COMMUNITY'],\n 'St. Vincent and the Grenadines': ['ST. VINCENT AND THE GRENADINES'],\n 'Oman': ['OMAN'],\n 'Coalition of Rainforest Nations': ['COALITION FOR RAINFOREST NATIONS'],\n 'Togo': ['TOGO'],\n 'Central African Republic': ['CAR', 'CENTRAL AFRICAN REPUBLIC'],\n 'Group of 9': ['GROUP OF NINE'],\n 'Cartagena Dialogue': ['CARTAGENA DIALOGUE'],\n 'Kuwait': ['KUWAIT'],\n 'Switzerland': ['SWITZER', 'SWITZERLAND', 'SWITERLAND'],\n 'France': ['FRANCE'],\n 'Azerbaijan': ['AZERBAIJAN'],\n 'Tajikistan': ['TAJIKISTAN'],\n 'Saudi Arabia': ['SAUDIA ARABIA', 'SAUDI ARABIA'],\n 'Bahrain': ['BAHRAIN'],\n 'Cyprus': ['CYPRUS'],\n 'South Sudan': ['SOUTH SUDAN'],\n 'Guatemala': ['GUATEMALA'],\n 'Latvia': ['LATVIA'],\n 'Ghana': ['GHANA'],\n 'Vanuatu': ['VANUATU'],\n 'Spain': ['SPAIN'],\n 'Madagascar': ['MADAGASCAR'],\n 'Palestine': ['PALESTINE'],\n 'Djibouti': ['DJIBOUTI']}"
     },
     "metadata": {},
     "execution_count": 23
    }
   ],
   "source": [
    "compute_dictionary()"
   ]
  },
  {
   "cell_type": "code",
   "execution_count": null,
   "metadata": {},
   "outputs": [],
   "source": []
  },
  {
   "cell_type": "code",
   "execution_count": null,
   "metadata": {},
   "outputs": [],
   "source": []
  },
  {
   "cell_type": "code",
   "execution_count": null,
   "metadata": {},
   "outputs": [],
   "source": []
  }
 ],
 "metadata": {
  "language_info": {
   "name": "python",
   "codemirror_mode": {
    "name": "ipython",
    "version": 3
   },
   "version": "3.7.6-final"
  },
  "orig_nbformat": 2,
  "file_extension": ".py",
  "mimetype": "text/x-python",
  "name": "python",
  "npconvert_exporter": "python",
  "pygments_lexer": "ipython3",
  "version": 3,
  "kernelspec": {
   "name": "python37664bit162d60da764a43dc83edcb73a443ab01",
   "display_name": "Python 3.7.6 64-bit"
  }
 },
 "nbformat": 4,
 "nbformat_minor": 2
}