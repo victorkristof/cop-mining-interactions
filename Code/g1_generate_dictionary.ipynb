{
 "cells": [
  {
   "cell_type": "markdown",
   "metadata": {},
   "source": [
    "# g1_generated_dictionary\n",
    "Create a dictionary to be able to match the entities in the original dataset and the entities generated.\n"
   ]
  },
  {
   "cell_type": "code",
   "execution_count": 1,
   "metadata": {},
   "outputs": [],
   "source": [
    "import urllib.request\n",
    "import csv\n",
    "import Levenshtein\n",
    "from difflib import SequenceMatcher\n",
    "import country_converter as coco\n",
    "import numpy as np\n",
    "import logging"
   ]
  },
  {
   "cell_type": "code",
   "execution_count": 2,
   "metadata": {},
   "outputs": [],
   "source": [
    "logging.disable(logging.WARNING)"
   ]
  },
  {
   "cell_type": "code",
   "execution_count": 3,
   "metadata": {},
   "outputs": [],
   "source": [
    "def extract_statement_count():\n",
    "    \"\"\"Extract from the original dataset all the interventions.\"\"\"\n",
    "    f = open('Text/statements_count.csv')\n",
    "    dataset = csv.reader(f)\n",
    "    lines = []\n",
    "    for d in dataset:\n",
    "        if(len(d) != 0):\n",
    "            line = d[0].split('\\t')\n",
    "            lines.append((line[0],line[2],line[1]))\n",
    "    return lines"
   ]
  },
  {
   "cell_type": "code",
   "execution_count": 4,
   "metadata": {},
   "outputs": [],
   "source": [
    "def extract_entities():\n",
    "    \"\"\"Extract from the original dataset all parties or party grouping.\"\"\"\n",
    "    dataset = extract_statement_count()\n",
    "    entities = set()\n",
    "    for d in dataset:\n",
    "        entities.add(d[0])\n",
    "\n",
    "    return list(entities)"
   ]
  },
  {
   "cell_type": "code",
   "execution_count": 5,
   "metadata": {},
   "outputs": [],
   "source": [
    "entities_original = extract_entities()\n",
    "entities_generated = [p.replace('\\n','') for p in list(open(\"Text/entities_clean.txt\"))]"
   ]
  },
  {
   "cell_type": "markdown",
   "metadata": {},
   "source": [
    "### extract_[] are all function to map the entities in the original data to the one generated"
   ]
  },
  {
   "cell_type": "code",
   "execution_count": 6,
   "metadata": {},
   "outputs": [],
   "source": [
    "def extract_initial(entities_gen, dict_e):\n",
    "    entities_original = extract_entities()\n",
    "    for eg in entities_gen:\n",
    "        for e in entities_original:\n",
    "            d = Levenshtein.ratio(eg,e.upper())\n",
    "            if(d > 0.9):\n",
    "                dict_e[e].append(eg)\n",
    "    \n",
    "    return dict_e\n",
    ""
   ]
  },
  {
   "cell_type": "code",
   "execution_count": 7,
   "metadata": {},
   "outputs": [],
   "source": [
    "def extract_title(entities_gen, dict_e):\n",
    "    entities_original = extract_entities()\n",
    "    for eg in entities_gen:\n",
    "        for e in entities_original:\n",
    "            d = Levenshtein.ratio(eg.title(),e.title())\n",
    "            if(d > 0.9):\n",
    "                dict_e[e].append(eg)\n",
    "\n",
    "    return dict_e"
   ]
  },
  {
   "cell_type": "code",
   "execution_count": 8,
   "metadata": {},
   "outputs": [],
   "source": [
    "def extract_normal(entities_gen, dict_e):\n",
    "    entities_original = extract_entities()\n",
    "    for eg in entities_gen:\n",
    "        for e in entities_original:\n",
    "            d1 = Levenshtein.ratio(eg.lower(),e.lower())\n",
    "            if(d1 > 0.9):\n",
    "                dict_e[e].append(eg)\n",
    "    return dict_e"
   ]
  },
  {
   "cell_type": "code",
   "execution_count": 9,
   "metadata": {},
   "outputs": [],
   "source": [
    "def extract_g77china(entities_gen, dict_e):\n",
    "    entities_original = extract_entities()\n",
    "    entities = []\n",
    "    for eg in entities_gen:\n",
    "        s = 'G77'\n",
    "        if(eg == 'G-77/CHINA'):\n",
    "            dict_e[s].append(eg)\n",
    "        if(eg == 'G-77/ CHINA'):\n",
    "            dict_e[s].append(eg)\n",
    "        if(eg == 'said the G-77/China'):\n",
    "            dict_e[s].append(eg)\n",
    "        if(eg == 'for the G-77/China' or eg == 'for the G-77/ China' or eg == 'for the Group of 77 and China'):\n",
    "            dict_e[s].append(eg)\n",
    "        egs = eg[:3]\n",
    "        d1 = Levenshtein.ratio(s,egs)\n",
    "        if(d1 > 0.95):\n",
    "            dict_e[s].append(eg)\n",
    "\n",
    "    return dict_e"
   ]
  },
  {
   "cell_type": "code",
   "execution_count": 10,
   "metadata": {},
   "outputs": [],
   "source": [
    "def extract_ldc(entities_gen, dict_e):\n",
    "    entities_original = extract_entities()\n",
    "    entities = []\n",
    "    for eg in entities_gen:\n",
    "        s = 'LEAST DEVELOPED COUNTRIES'\n",
    "        if(eg == 'for the LDCs' or eg == 'for the Least Developed Countries' or eg == 'for LDCs' or eg == 'LDC GROUP'):\n",
    "            dict_e['LDCs'].append(eg)\n",
    "        d1 = Levenshtein.ratio(s,eg)\n",
    "        if(d1 > 0.95):\n",
    "            dict_e['LDCs'].append(eg)\n",
    "\n",
    "    return dict_e"
   ]
  },
  {
   "cell_type": "code",
   "execution_count": 11,
   "metadata": {},
   "outputs": [],
   "source": [
    "def extract_aosis(entities_gen, dict_e):\n",
    "    entities_original = extract_entities()\n",
    "    entities = []\n",
    "    for eg in entities_gen:\n",
    "        if(eg == 'ALLIANCE OF SMALL ISLAND STATES'):\n",
    "            dict_e['AOSIS'].append(eg)\n",
    "    return dict_e"
   ]
  },
  {
   "cell_type": "code",
   "execution_count": 12,
   "metadata": {},
   "outputs": [],
   "source": [
    "def extract_sadc(entities_gen, dict_e):\n",
    "    entities_original = extract_entities()\n",
    "    entities = []\n",
    "    for eg in entities_gen:\n",
    "        s = 'SADC'\n",
    "        d1 = Levenshtein.ratio(s,eg)\n",
    "        if(d1 > 0.95):\n",
    "            dict_e['Southern Africa Development Community'].append(eg)\n",
    "\n",
    "    return dict_e"
   ]
  },
  {
   "cell_type": "code",
   "execution_count": 13,
   "metadata": {},
   "outputs": [],
   "source": [
    "def extract_eig(entities_gen, dict_e):\n",
    "    entities_original = extract_entities()\n",
    "    entities = []\n",
    "    for eg in entities_gen:\n",
    "        if(eg == 'for the Environmental Integrity Group'):\n",
    "            dict_e['Environmental Integrity Group'].append(eg)\n",
    "        s = 'EIG'\n",
    "        d1 = Levenshtein.ratio(s,eg)\n",
    "        if(d1 > 0.95):\n",
    "            dict_e['Environmental Integrity Group'].append(eg)\n",
    "\n",
    "    return dict_e"
   ]
  },
  {
   "cell_type": "code",
   "execution_count": 14,
   "metadata": {},
   "outputs": [],
   "source": [
    "def remaining_original(dict_entities):\n",
    "    \"\"\"Find all the entities that still not have a match.\"\"\"\n",
    "    list_remain_original = []\n",
    "    for e in dict_entities:\n",
    "        if(len(dict_entities[e]) == 0 or e == 'Russian Federation'):\n",
    "           list_remain_original.append(e)\n",
    "           \n",
    "    return list_remain_original\n"
   ]
  },
  {
   "cell_type": "code",
   "execution_count": 15,
   "metadata": {},
   "outputs": [],
   "source": [
    "def create_dict(entities_original):\n",
    "    \"\"\"Create a dictionary for all the entities into the original dataset.\"\"\"\n",
    "    dict_e = {}\n",
    "    for e in entities_original:\n",
    "        dict_e[e] = []\n",
    "    return dict_e"
   ]
  },
  {
   "cell_type": "code",
   "execution_count": 16,
   "metadata": {},
   "outputs": [],
   "source": [
    "def matching(entities_generated, remain_original, dict_entities):\n",
    "    \"\"\"Use the library contry-convertor to match the remaining entities of the originla dataset\"\"\"\n",
    "    master_list = entities_generated\n",
    "    match_these = remain_original\n",
    "    matching_dict = coco.match(match_these, master_list)\n",
    "    for e in matching_dict:\n",
    "        if(matching_dict[e] !='not_found'):\n",
    "\n",
    "            if(type(matching_dict[e]) ==list):\n",
    "                dict_entities[e] += matching_dict[e]\n",
    "            else:\n",
    "                dict_entities[e].append(matching_dict[e])\n",
    "                \n",
    "    return dict_entities\n"
   ]
  },
  {
   "cell_type": "code",
   "execution_count": 17,
   "metadata": {},
   "outputs": [],
   "source": [
    "def create_initials(entities_generated, dict_entities):\n",
    "    list_remain_original = []\n",
    "    u = ''\n",
    "    for e in dict_entities:\n",
    "        initials = u.join([x[0].upper() for x in e.split(' ')])\n",
    "        for eg in entities_generated:\n",
    "            d1 = Levenshtein.ratio(initials,eg)\n",
    "            if(d1 > 0.90):\n",
    "                dict_entities[e].append(eg)\n",
    "\n",
    "    return dict_entities"
   ]
  },
  {
   "cell_type": "code",
   "execution_count": 18,
   "metadata": {},
   "outputs": [],
   "source": [
    "def find_groups(entities_generated, dict_entities):\n",
    "    list_remain_original = []\n",
    "    u = ''\n",
    "    for e in dict_entities:\n",
    "        initials = u.join([x[0].upper() for x in e.split(' ')])\n",
    "        for eg in entities_generated:\n",
    "            eg_g = eg.replace('GROUP','')\n",
    "            d1 = Levenshtein.ratio(initials,eg_g)\n",
    "            if(d1 > 0.95):\n",
    "                dict_entities[e].append(eg)\n",
    "\n",
    "    return dict_entities"
   ]
  },
  {
   "cell_type": "code",
   "execution_count": 19,
   "metadata": {},
   "outputs": [],
   "source": [
    "def compute_last_chance(dict_entities):\n",
    "    \"\"\"Try to match the entities remaining with words with ratio > 0.8\"\"\"\n",
    "    entities_generated = [p.replace('\\n','') for p in list(open(\"Text/entities_clean.txt\"))]\n",
    "    remain_original = []\n",
    "    for e in dict_entities:\n",
    "        if(len(dict_entities[e]) == 0):\n",
    "            remain_original.append(e)\n",
    "\n",
    "    for er in remain_original:\n",
    "        for e in entities_generated:\n",
    "            d = Levenshtein.ratio(er.upper(),e)\n",
    "            if(d > 0.8):\n",
    "\n",
    "                dict_entities[er].append(e)\n",
    "\n",
    "    return dict_entities"
   ]
  },
  {
   "cell_type": "code",
   "execution_count": 20,
   "metadata": {},
   "outputs": [],
   "source": [
    "def add_for_the(dict_entities):\n",
    "    dict_entities['Umbrella Group'].append('for the Umbrella Group')\n",
    "    dict_entities['EU'].append('for the European Union')\n",
    "    dict_entities['Arab Group'].append('for the Arab Group')\n",
    "    dict_entities['African Group'].append('for the Africa Group')\n",
    "    dict_entities['Arab Group'].append('for the League of Arab States')\n",
    "    dict_entities['Like Minded Developing Countries'].append('for the Like Minded Developing Countries')\n",
    "    return dict_entities"
   ]
  },
  {
   "cell_type": "code",
   "execution_count": 21,
   "metadata": {},
   "outputs": [],
   "source": [
    "def add_special_cases(dict_entities):\n",
    "    dict_entities['EU'].append('EUROPEAN UNION')\n",
    "    dict_entities['Syrian Arab Republic'].append('SYRIA')\n",
    "    dict_entities['United States'].append('US')\n",
    "    dict_entities['United Arab Emirates'].append('ARAB EMIRATES')\n",
    "\n",
    "    \n",
    "    dict_entities['Group of 9'].append('GROUP OF NINE')\n",
    "    dict_entities['Switzerland'].append('SWITZER')\n",
    "    dict_entities['Like Minded Developing Countries'].append('LMDC')\n",
    "    dict_entities['Like Minded Developing Countries'].append('LMDCS')\n",
    "    dict_entities['Central Group Eleven'].append('CG-11')\n",
    "    return dict_entities\n"
   ]
  },
  {
   "cell_type": "code",
   "execution_count": 22,
   "metadata": {},
   "outputs": [],
   "source": [
    "def compute_dictionary():\n",
    "    \"\"\"Generated the dictionary between the original entities and the one generated\"\"\"\n",
    "    dict_entities = create_dict(entities_original)\n",
    "    dict_entities = extract_initial(entities_generated, dict_entities)\n",
    "    dict_entities = extract_title(entities_generated, dict_entities)\n",
    "    dict_entities = extract_normal(entities_generated, dict_entities)\n",
    "    dict_entities = extract_g77china(entities_generated, dict_entities)\n",
    "    dict_entities = extract_sadc(entities_generated, dict_entities)\n",
    "    dict_entities = extract_aosis(entities_generated, dict_entities)\n",
    "    dict_entities = extract_eig(entities_generated, dict_entities)\n",
    "    dict_entities = extract_ldc(entities_generated, dict_entities)\n",
    "    dict_entities = create_initials(entities_generated, dict_entities)\n",
    "    dict_entities = find_groups(entities_generated, dict_entities)\n",
    "    remaining_orig = remaining_original(dict_entities)\n",
    "    dict_entities = matching(entities_generated, remaining_orig , dict_entities)\n",
    "    dict_entities = add_for_the(dict_entities)\n",
    "    dict_entities = add_special_cases(dict_entities)\n",
    "\n",
    "    dictionary = compute_last_chance(dict_entities)\n",
    "\n",
    "\n",
    "    for d in dictionary:\n",
    "        dictionary[d] = list(set(dictionary[d]))\n",
    "\n",
    "    return dictionary"
   ]
  },
  {
   "cell_type": "code",
   "execution_count": 27,
   "metadata": {},
   "outputs": [
    {
     "output_type": "stream",
     "name": "stdout",
     "text": "Niue ['NIUE']\nVenezuela ['VENEZUELA', 'VENEZULA']\nMicronesia ['MICRONESIA']\nSomalia ['SOMALIA']\nSaudi Arabia ['SAUDI ARABIA', 'SAUDIA ARABIA']\nSierra Leone ['SIERRA LEONE']\nBotswana ['BOTSWANA']\nComoros ['COMOROS']\nMaldives ['MALDIVES']\nMongolia ['MONGOLIA']\nKyrgyz Republic ['KYRGYZSTAN']\nSwaziland ['SWAZILAND']\nTuvalu ['TUVALU']\nJUSCANZ ['JUSSCANZ', 'JUSCANZ']\nVanuatu ['VANUATU']\nCoalition of Rainforest Nations ['COALITION FOR RAINFOREST NATIONS']\nFinland ['FINLAND']\nEgypt ['EGYPT']\nGabon ['GABON']\nPanama ['PANAMA']\nAlgeria ['ALGERIA']\nMountain Landlocked Developing Countries ['MOUNTAIN LANDLOCKED DEVELOPING COUNTRIES']\nIran ['IRAN']\nThailand ['THAILAND']\nNicaragua ['NICARAGUA']\nCroatia ['CROATIA']\nNepal ['NEPAL']\nAzerbaijan ['AZERBAIJAN']\nMalaysia ['MALAYSIA']\nUmbrella Group ['for the Umbrella Group', 'UG', 'UMBRELLA GROUP']\nMali ['MALI']\nNauru ['NAURU']\nLesotho ['LESOTHO']\nMalta ['MALTA']\nGuinea ['GUINEA']\nCaribbean Community ['CARIBBEAN COMMUNITY']\nDjibouti ['DJIBOUTI']\nNiger ['NIGER']\nPortugal ['PORTUGAL']\nEnvironmental Integrity Group ['EIG', 'ENVIRONMENTAL INTEGRITY GROUP', 'for the Environmental Integrity Group']\nUnited Arab Emirates ['UAE']\nLatvia ['LATVIA']\nSt. Lucia ['SAINT LUCIA']\nKorea, Republic ['REPUBLIC OF KOREA', 'KOREA']\nTajikistan ['TAJIKISTAN']\nCambodia ['CAMBODIA']\nArgentina ['ARGENTINA']\nOPEC ['OPEC']\nYemen ['YEMEN']\nZimbabwe ['ZIMABABWE', 'ZIMBABWE']\nCongo Basin Countries ['CONGO BASIN COUNTRIES']\nFiji ['FIJI']\nEl Salvador ['EL SALVADOR']\nSlovak Republic ['SLOVAKIA']\nIndia ['INDIA']\nSICA ['SICA']\nGeorgia ['GEORGIA']\nDenmark ['DENMARK']\nCentral Group Eleven ['CG-11']\nLike Minded Developing Countries ['LMDCS', 'for the Like Minded Developing Countries', 'LIKE MINDED DEVELOPING COUNTRIES', 'LMDC']\nRussian Federation ['RUSSIAN FEDERATION', 'RUSSIA']\nSlovenia ['SLOVENIA']\nIreland ['IRELAND']\nUruguay ['URUGUAY']\nSeychelles ['SEYCHELLES']\nVisegrad Group ['VISEGRAD GROUP']\nPhilippines ['PHILLIPINES', 'PHILLIPPINES', 'PHILIPPINES']\nMorocco ['MOROCCO']\nBrunei ['BRUNEI']\nSamoa ['SAMOA']\nSuriname ['SURINAME']\nTrinidad and Tobago ['TRININDAD AND TOBAGO', 'TRINDAD AND TOBAGO', 'TRINIDAD AND TOBAGO']\nChad ['CHAD']\nBhutan ['BHUTAN']\nIceland ['ICELAND']\nZambia ['ZAMBIA']\nUganda ['UGANDA']\nCongo, Democratic Rep. ['DEMOCRATIC REPUBLIC OF CONGO', 'DRC', 'ZAIRE']\nKuwait ['KUWAIT']\nCongo, Republic ['REPUBLIC OF CONGO']\nJamaica ['JAMAICA']\nCartagena Dialogue ['CARTAGENA DIALOGUE']\nVietnam ['VIETNAM', 'VIET NAM']\nCyprus ['CYPRUS']\nDominican Republic ['DOMINICAN REPUBLIC']\nGuinea-Bissau ['GUINEA BISSAU']\nMexico ['MEXICO']\nCape Verde ['CAPE VERDE ']\nCote d'Ivoire [\"COTE D'IVOIRE\"]\nParaguay ['PARAGUAY']\nPoland ['POLAND']\nYugoslavia ['YUGOSLAVIA']\nSerbia and Montenegro ['SERBIA AND MONTENEGRO']\nALBA ['ALBA']\nAfghanistan ['AFGHANISTAN']\nKazakhstan ['KAZAKHSTAN', 'KAZAKSTAN']\nMozambique ['MOZAMBIQUE']\nBelize ['BELIZE']\nGreece ['GREECE']\nJordan ['JORDAN']\nCook Islands ['COOK ISLAND', 'COOK ISLANDS']\nAngola ['ANGOLA']\nArab Group ['for the League of Arab States', 'ARAB GROUP', 'for the Arab Group']\nFrance ['FRANCE']\nBulgaria ['BULGARIA']\nEritrea ['ERITREA']\nMarshall Islands ['MARSHALL ISLANDS']\nPakistan ['PAKISTAN']\nNetherlands ['NETHERLANDS']\nCzech Republic ['CZECH REPUBLIC']\nSt. Vincent and the Grenadines ['ST. VINCENT AND THE GRENADINES']\nIsrael ['ISRAEL']\nCOMIFAC ['COMIFAC ']\nCentral African Republic ['CAR', 'CENTRAL AFRICAN REPUBLIC']\nPalau ['PALAU']\nGermany ['GERMANY']\nSudan ['SUDAN']\nSouth Africa ['SOUTH AFRICA']\nUnited Kingdom ['UK']\nGroup of 9 ['GROUP OF NINE']\nQatar ['QATAR']\nEITs ['EIT']\nLDCs ['for the LDCs', 'for the Least Developed Countries', 'LDCS', 'LDC GROUP', 'LEAST DEVELOPED COUNTRIES']\nMacedonia ['MACEDONIA']\nSwitzerland ['SWITERLAND', 'SWITZER', 'SWITZERLAND']\nGuyana ['GUYANA']\nTanzania ['TANZANIA']\nKenya ['KENYA']\nMauritania ['MAURITANIA']\nEU ['EU', 'EUROPEAN UNION', 'for the European Union']\nCACAM ['CACAM']\nSyrian Arab Republic ['SYRIAN ARAB REPUBLIC', 'SYRIA']\nBosnia and Herzegovina ['BOSNIA AND HERZEGOVINA']\nCosta Rica ['COSTA RICA']\nCentral Group ['CENTRAL GROUP']\nTunisia ['TUNISIA']\nRomania ['ROMANIA']\nBrazil ['BRAZIL']\nLao PDR ['LAOS']\nDominica ['DOMINICA']\nNew Zealand ['NEW ZEALAND']\nSouthern Africa Development Community ['SOUTHERN AFRICA DEVELOPMENT COMMUNITY', 'SADC']\nBelarus ['BELARUS']\nBangladesh ['BANGLADESH']\nSingapore ['SINGAPORE']\nOman ['OMAN']\nBurundi ['BURUNDI']\nItaly ['ITALY']\nKorea, Democratic Rep. []\nLibya ['LIBYA']\nAILAC ['AILAC']\nAlbania ['ALBANIA']\nBahamas ['BAHAMAS']\nLuxembourg ['LUXEMBOURG']\ncountry []\nHungary ['HUNGARY']\nIraq ['IRAQ']\nNorway ['NORWAY', 'NORWARY']\nHaiti ['HAITI']\nSpain ['SPAIN']\nMoldova ['MOLDOVA']\nAntigua and Barbuda ['ANTIGUA AND BARBUDA', 'ANTINGUA AND BARBUDA']\nUnited States ['US']\nAOSIS ['AOSIS', 'ALLIANCE OF SMALL ISLAND STATES']\nLithuania ['LITHUANIA']\nPapua New Guinea ['PAPUA NEW GUINEA']\nCameroon ['CAMEROON']\nIndonesia ['INDONESIA']\nPeru ['PERU']\nArmenia ['ARMENIA']\nHonduras ['HONDURAS']\nSolomon Islands ['SOLOMON ISLANDS']\nG77 ['G77', 'G-77/CHINA', 'G-77/ CHINA', 'G77/CHINA', 'G77-CHINA', 'G77 & CHINA', 'for the G-77/ China', 'for the G-77/China', 'for the Group of 77 and China']\nMadagascar ['MADAGASCAR']\nKiribati ['KIRIBATI']\nSouth Sudan ['SOUTH SUDAN']\nTimor-Leste ['TIMOR LESTE']\nUkraine ['UKRAINE']\nBolivia ['BOLIVA', 'BOLIVIA']\nJapan ['JAPAN']\nEthiopia ['ETHIOPIA']\nTogo ['TOGO']\nAustralia ['AUSTRALIA']\nBahrain ['BAHRAIN']\nEstonia ['ESTONIA']\nGuatemala ['GUATEMALA']\nRwanda ['RWANDA']\nMalawi ['MALAWI']\nMyanmar ['MYANMAR']\nTurkmenistan ['TURKMENISTAN']\nLebanon ['LEBANON']\nBenin ['BENIN']\nEcuador ['ECUADOR']\nSri Lanka ['SRI LANKA']\nMauritius ['MAURITIUS']\nOECD ['OECD']\nUzbekistan ['UZBEKISTAN']\nCentral America ['CENTRAL AMERICAN GROUP']\nChile ['CHILE']\nCuba ['CUBA']\nMonaco ['MONACO']\nGhana ['GHANA']\nNamibia ['NAMIBIA']\nGrenada ['GRENADA', 'GRENAD']\nNigeria ['NIGERIA']\nSweden ['SWEDEN']\nChina ['CHINA']\nAustria ['AUSTRIA']\nBelgium ['BELGIUM']\nLiechtenstein ['LICHTENSTEIN', 'LIECHTENSTEIN']\nTurkey ['TURKEY']\nBASIC ['BASIC']\nCanada ['CANADA']\nGambia ['GAMBIA']\nLiberia ['LIBERIA']\nColombia ['COLOMBIA']\nTonga ['TONGA']\nSenegal ['SENEGAL']\nBarbados ['BARBADOS']\nBurkina Faso ['BURKINA FASO']\nAfrican Group ['AFRICA GROUP', 'for the Africa Group', 'AFRICAN GROUP']\nPalestine ['PALESTINE']\nEquatorial Guinea ['EQUATORIAL GUINEA']\n"
    }
   ],
   "source": []
  },
  {
   "cell_type": "code",
   "execution_count": 29,
   "metadata": {},
   "outputs": [
    {
     "output_type": "stream",
     "name": "stdout",
     "text": "30\n"
    }
   ],
   "source": []
  },
  {
   "cell_type": "markdown",
   "metadata": {},
   "source": [
    "keys 221/222 ( Korea, Democratic Rep. [] )\n",
    "generated 30/309\n",
    "\n",
    "\n",
    "\n",
    "\n",
    "\n",
    "\n",
    "\n",
    "\n"
   ]
  },
  {
   "cell_type": "code",
   "execution_count": 22,
   "metadata": {},
   "outputs": [],
   "source": [
    "\n"
   ]
  }
 ],
 "metadata": {
  "language_info": {
   "name": "python",
   "codemirror_mode": {
    "name": "ipython",
    "version": 3
   },
   "version": "3.7.6-final"
  },
  "orig_nbformat": 2,
  "file_extension": ".py",
  "mimetype": "text/x-python",
  "name": "python",
  "npconvert_exporter": "python",
  "pygments_lexer": "ipython3",
  "version": 3,
  "kernelspec": {
   "name": "python37664bit162d60da764a43dc83edcb73a443ab01",
   "display_name": "Python 3.7.6 64-bit"
  }
 },
 "nbformat": 4,
 "nbformat_minor": 2
}